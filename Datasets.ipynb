{
 "cells": [
  {
   "cell_type": "markdown",
   "metadata": {},
   "source": [
    "# Datasets\n",
    "\n",
    "This is used for testing all the datasets and visualizing all the different ones.\n",
    "\n",
    "## Set-Up\n",
    "We'll primarily using pandas to work with the data. We start off by importing pandas and importing the data as a pandas dataframe."
   ]
  },
  {
   "cell_type": "code",
   "execution_count": null,
   "metadata": {},
   "outputs": [],
   "source": [
    "import pandas as pd\n",
    "import numpy as np\n",
    "import matplotlib as mpl\n",
    "import matplotlib.pyplot as plt\n",
    "from scipy.spatial.distance import hamming"
   ]
  },
  {
   "cell_type": "code",
   "execution_count": null,
   "metadata": {},
   "outputs": [],
   "source": [
    "realdata = pd.read_csv('kag_risk_factors_cervical_cancer.csv')\n",
    "ctgan = pd.read_csv('Syn data/ctgan_5000.csv')\n",
    "gauscop = pd.read_csv('Syn data/gauscop_5000.csv')\n",
    "synthpop = pd.read_csv('Syn data/synthpop_5000.csv')\n",
    "tvae = pd.read_csv('Syn data/tvae_5000.csv')\n",
    "syndata = pd.read_csv('synData9.csv')\n",
    "realdata34 = pd.read_csv('kag_risk_factors_cervical_cancer.csv')"
   ]
  },
  {
   "cell_type": "code",
   "execution_count": null,
   "metadata": {},
   "outputs": [],
   "source": [
    "realdata34.drop('STDs: Time since first diagnosis', axis=1, inplace=True)\n",
    "realdata34.drop('STDs: Time since last diagnosis', axis=1, inplace=True)"
   ]
  },
  {
   "cell_type": "code",
   "execution_count": null,
   "metadata": {},
   "outputs": [],
   "source": [
    "len(realdata.columns),len(realdata34.columns), len(ctgan.columns), len(gauscop.columns), len(synthpop.columns), len(tvae.columns), len(syndata.columns)"
   ]
  },
  {
   "cell_type": "code",
   "execution_count": null,
   "metadata": {},
   "outputs": [],
   "source": [
    "#Med represents continuous variables and bin is binary variables (in the real data)\n",
    "\n",
    "\n",
    "#'STDs: Time since first diagnosis', 'STDs: Time since last diagnosis' not in rows with 34\n",
    "med34 = ['Age', 'Number of sexual partners', 'First sexual intercourse',\n",
    "        'Num of pregnancies', 'Smokes (years)','Smokes (packs/year)','Hormonal Contraceptives (years)','IUD (years)',\n",
    "        'STDs (number)', 'STDs: Number of diagnosis']\n",
    "\n",
    "med = ['Age', 'Number of sexual partners', 'First sexual intercourse',\n",
    "        'Num of pregnancies', 'Smokes (years)','Smokes (packs/year)','Hormonal Contraceptives (years)','IUD (years)',\n",
    "        'STDs (number)', 'STDs: Number of diagnosis',\n",
    "        'STDs: Time since first diagnosis', 'STDs: Time since last diagnosis']\n",
    "\n",
    "bin = ['Smokes', 'Hormonal Contraceptives', 'IUD', 'STDs', 'STDs:condylomatosis',\n",
    "        'STDs:cervical condylomatosis', 'STDs:vaginal condylomatosis',\n",
    "        'STDs:vulvo-perineal condylomatosis', 'STDs:syphilis',\n",
    "        'STDs:pelvic inflammatory disease', 'STDs:genital herpes',\n",
    "        'STDs:molluscum contagiosum', 'STDs:AIDS', 'STDs:HIV',\n",
    "        'STDs:Hepatitis B', 'STDs:HPV','Dx:Cancer', 'Dx:CIN', 'Dx:HPV', 'Dx', 'Hinselmann', 'Schiller',\n",
    "        'Citology', 'Biopsy']"
   ]
  },
  {
   "cell_type": "markdown",
   "metadata": {},
   "source": [
    "## Data Cleaning and Helper Functions"
   ]
  },
  {
   "cell_type": "code",
   "execution_count": null,
   "metadata": {},
   "outputs": [],
   "source": [
    "def impute(data, graph=False):\n",
    "    temp_data = data\n",
    "    temp_data[temp_data == '?'] = np.nan\n",
    "\n",
    "    for i in temp_data.columns:\n",
    "        if(temp_data[i].dtype == 'O'):\n",
    "            temp_data[i] = temp_data[i].astype('float')\n",
    "    if len(data.columns) == 34:\n",
    "        med = ['Age', 'Number of sexual partners', 'First sexual intercourse',\n",
    "        'Num of pregnancies', 'Smokes (years)','Smokes (packs/year)','Hormonal Contraceptives (years)','IUD (years)',\n",
    "        'STDs (number)', 'STDs: Number of diagnosis']\n",
    "    else:\n",
    "        med = ['Age', 'Number of sexual partners', 'First sexual intercourse',\n",
    "        'Num of pregnancies', 'Smokes (years)','Smokes (packs/year)','Hormonal Contraceptives (years)','IUD (years)',\n",
    "        'STDs (number)', 'STDs: Number of diagnosis',\n",
    "        'STDs: Time since first diagnosis', 'STDs: Time since last diagnosis']\n",
    "        \n",
    "    for i in med:\n",
    "        imp = float(temp_data[i].median())\n",
    "        temp_data[i].fillna(imp, inplace=True)\n",
    "        temp_data[i].replace(np.nan, imp)\n",
    "\n",
    "    bin = ['Smokes', 'Hormonal Contraceptives', 'IUD', 'STDs', 'STDs:condylomatosis',\n",
    "        'STDs:cervical condylomatosis', 'STDs:vaginal condylomatosis',\n",
    "        'STDs:vulvo-perineal condylomatosis', 'STDs:syphilis',\n",
    "        'STDs:pelvic inflammatory disease', 'STDs:genital herpes',\n",
    "        'STDs:molluscum contagiosum', 'STDs:AIDS', 'STDs:HIV',\n",
    "        'STDs:Hepatitis B', 'STDs:HPV','Dx:Cancer', 'Dx:CIN', 'Dx:HPV', 'Dx', 'Hinselmann', 'Schiller',\n",
    "        'Citology', 'Biopsy']\n",
    "\n",
    "    for i in bin:\n",
    "        imp = float(temp_data[i].mode())\n",
    "        temp_data[i].fillna(imp, inplace=True)\n",
    "        temp_data[i].replace(np.nan, imp)\n",
    "\n",
    "    if graph:\n",
    "        temp_data.hist(figsize=(25,15))\n",
    "    \n",
    "    return temp_data\n",
    "\n",
    "def norm(data1):\n",
    "    \"\"\"\n",
    "    Min-Max normalizes the continuous data\n",
    "    \"\"\"\n",
    "    new_dat = data1.copy()\n",
    "    for col in new_dat.columns:\n",
    "        if col in med:\n",
    "            denom = new_dat[col].max() - new_dat[col].min()\n",
    "            if denom != 0:\n",
    "                new_dat[col] = (new_dat[col] - new_dat[col].min()) / denom\n",
    "            else:\n",
    "                new_dat[col] = 0\n",
    "    return new_dat"
   ]
  },
  {
   "cell_type": "code",
   "execution_count": null,
   "metadata": {},
   "outputs": [],
   "source": [
    "realdataA = norm(impute(realdata))\n",
    "syndataA = norm(impute(syndata))\n",
    "ctganA = norm(impute(ctgan))\n",
    "gauscopA = norm(impute(gauscop))\n",
    "synthpopA = norm(impute(synthpop))\n",
    "tvaeA = norm(impute(tvae))\n",
    "realdata34A = norm(impute(realdata34))\n",
    "\n",
    "syndata.isnull().values.any(), realdata34.isnull().values.any(), realdata.isnull().values.any(), ctganA.isnull().values.any(), gauscopA.isnull().values.any(), synthpopA.isnull().values.any(), tvaeA.isnull().values.any()"
   ]
  },
  {
   "cell_type": "markdown",
   "metadata": {},
   "source": [
    "## Weights"
   ]
  },
  {
   "cell_type": "code",
   "execution_count": null,
   "metadata": {},
   "outputs": [],
   "source": [
    "def weights(data):\n",
    "    if len(data.columns) == 36:\n",
    "        return np.ones(len(data.loc[0,med]))\n",
    "    if len(data.columns) == 34:\n",
    "        return np.ones(len(data.loc[0,med34]))"
   ]
  },
  {
   "cell_type": "markdown",
   "metadata": {},
   "source": [
    "## Comparison Function\n",
    "The comparison function is the main function that compares the data. It compares all the synthetic data to one specific row of the real data and creates an array of the most similar matches.\n",
    "\n",
    "We also compute the values without using the functions."
   ]
  },
  {
   "cell_type": "code",
   "execution_count": null,
   "metadata": {},
   "outputs": [],
   "source": [
    "#No weighting on the binarys\n",
    "def compMain(data1, data2, row_comp, weights):\n",
    "    lst = []\n",
    "    for i,row in data1.iterrows():\n",
    "        score = np.matmul(abs(data1.loc[i,med] - data2.loc[row_comp,med]).values.tolist(),  np.transpose(weights)) + hamming(data1.loc[i,bin].values.tolist(), data2.loc[row_comp, bin].values.tolist()) * len(data2.loc[row_comp, bin].values.tolist())\n",
    "        #print(score)\n",
    "        lst.append(score)\n",
    "    return lst\n",
    "\n",
    "def compMain34(data1, data2, row_comp, weights):\n",
    "    lst = []\n",
    "    for i,row in data1.iterrows():\n",
    "        score = np.matmul(abs(data1.loc[i,med34] - data2.loc[row_comp,med34]).values.tolist(),  np.transpose(weights)) + hamming(data1.loc[i,bin].values.tolist(), data2.loc[row_comp, bin].values.tolist()) * len(data2.loc[row_comp, bin].values.tolist())\n",
    "        #print(score)\n",
    "        lst.append(score)\n",
    "    return lst"
   ]
  },
  {
   "cell_type": "code",
   "execution_count": null,
   "metadata": {},
   "outputs": [],
   "source": [
    "#Weights\n",
    "syndataAW = weights(syndataA)\n",
    "ctganAW = weights(ctganA)\n",
    "gauscopAW = weights(gauscopA)\n",
    "synthpopAW = weights(synthpopA)\n",
    "tvaeAW = weights(tvaeA)\n",
    "\n",
    "#realdata34A, realdataA"
   ]
  },
  {
   "cell_type": "code",
   "execution_count": null,
   "metadata": {},
   "outputs": [],
   "source": [
    "syndata_lst = []\n",
    "for i in range(len(realdataA)):\n",
    "   syndata_lst.append(compMain(syndataA, realdataA, i, syndataAW))\n",
    "\n",
    "arr = np.array(syndata_lst)\n",
    "index_values = []\n",
    "for i in range(858):\n",
    "    index_values.append(i)\n",
    "column_values = []\n",
    "for i in range(5000):\n",
    "    column_values.append(i)\n",
    "df = pd.DataFrame(data = arr, \n",
    "                  index = index_values, \n",
    "                  columns = column_values)\n",
    "df.to_csv('syndataR.csv', index=True)"
   ]
  },
  {
   "cell_type": "code",
   "execution_count": null,
   "metadata": {},
   "outputs": [],
   "source": [
    "ctganA_lst = []\n",
    "for i in range(len(realdata34A)):\n",
    "   ctganA_lst.append(compMain34(ctganA, realdata34A, i, ctganAW))\n",
    "\n",
    "arr = np.array(ctganA_lst)\n",
    "index_values = []\n",
    "for i in range(858):\n",
    "    index_values.append(i)\n",
    "column_values = []\n",
    "for i in range(5000):\n",
    "    column_values.append(i)\n",
    "df = pd.DataFrame(data = arr, \n",
    "                  index = index_values, \n",
    "                  columns = column_values)\n",
    "df.to_csv('ctganR.csv', index=True)"
   ]
  },
  {
   "cell_type": "code",
   "execution_count": null,
   "metadata": {},
   "outputs": [],
   "source": [
    "gauscopA_lst = []\n",
    "for i in range(len(realdata34A)):\n",
    "   gauscopA_lst.append(compMain34(gauscopA, realdata34A, i, gauscopAW))\n",
    "\n",
    "arr = np.array(gauscopA_lst)\n",
    "index_values = []\n",
    "for i in range(858):\n",
    "    index_values.append(i)\n",
    "column_values = []\n",
    "for i in range(5000):\n",
    "    column_values.append(i)\n",
    "df = pd.DataFrame(data = arr, \n",
    "                  index = index_values, \n",
    "                  columns = column_values)\n",
    "df.to_csv('gauscopR.csv', index=True)"
   ]
  },
  {
   "cell_type": "code",
   "execution_count": null,
   "metadata": {},
   "outputs": [],
   "source": [
    "synthpopA_lst = []\n",
    "for i in range(len(realdata34A)):\n",
    "   synthpopA_lst.append(compMain34(gauscopA, realdata34A, i, synthpopAW))\n",
    "\n",
    "arr = np.array(gauscopA_lst)\n",
    "index_values = []\n",
    "for i in range(858):\n",
    "    index_values.append(i)\n",
    "column_values = []\n",
    "for i in range(5000):\n",
    "    column_values.append(i)\n",
    "df = pd.DataFrame(data = arr, \n",
    "                  index = index_values, \n",
    "                  columns = column_values)\n",
    "df.to_csv('synthpopR.csv', index=True)"
   ]
  },
  {
   "cell_type": "code",
   "execution_count": null,
   "metadata": {},
   "outputs": [],
   "source": [
    "tvaeA_lst = []\n",
    "for i in range(len(realdata34A)):\n",
    "   tvaeA_lst.append(compMain34(tvaeA, realdata34A, i, tvaeAW))\n",
    "\n",
    "arr = np.array(tvaeA_lst)\n",
    "index_values = []\n",
    "for i in range(858):\n",
    "    index_values.append(i)\n",
    "column_values = []\n",
    "for i in range(5000):\n",
    "    column_values.append(i)\n",
    "df = pd.DataFrame(data = arr, \n",
    "                  index = index_values, \n",
    "                  columns = column_values)\n",
    "df.to_csv('tvaeR.csv', index=True)"
   ]
  },
  {
   "cell_type": "markdown",
   "metadata": {},
   "source": [
    "## Data Splitting"
   ]
  },
  {
   "cell_type": "code",
   "execution_count": null,
   "metadata": {},
   "outputs": [],
   "source": [
    "#Data Splitting\n",
    "syndataCS = np.array_split(syndataC, 100)\n",
    "realdataCS = np.array_split(realdataC, 17)\n",
    "realsplit1 = realdataCS[0]\n",
    "synsplit1 = syndataCS[0]\n",
    "realsplit1 = realsplit1.drop(50)\n",
    "len(realsplit1), len(synsplit1)\n",
    "\n",
    "\n",
    "#For splitting other indexes, you might want to use something like\n",
    "#data1 =data1.set_axis([f for sf in range(len(data1))], axis='index')\n",
    "#This can change the index"
   ]
  },
  {
   "cell_type": "markdown",
   "metadata": {},
   "source": [
    "## Heatmap"
   ]
  },
  {
   "cell_type": "code",
   "execution_count": null,
   "metadata": {},
   "outputs": [],
   "source": [
    "xasda = []\n",
    "for i in range(len(realsplit1)):\n",
    "   xasda.append(compMain(synsplit1, realsplit1, i, test_weights))"
   ]
  },
  {
   "cell_type": "code",
   "execution_count": null,
   "metadata": {},
   "outputs": [],
   "source": [
    "synD = [str(i+1) for i in range(50)]\n",
    "realD = [str(i+1) for i in range(50)]\n",
    "\n",
    "heatscores=[]\n",
    "\n",
    "for i in range(len(realsplit1)):\n",
    "    heatscores.append(compMain(synsplit1, realsplit1, i, test_weights))"
   ]
  },
  {
   "cell_type": "code",
   "execution_count": null,
   "metadata": {},
   "outputs": [],
   "source": [
    "fig, ax = plt.subplots()\n",
    "im = ax.imshow(heatscores, cmap=mpl.cm.get_cmap('cividis_r'))\n",
    "\n",
    "ax.set_xticks(np.arange(len(realD)), labels=realD)\n",
    "ax.set_yticks(np.arange(len(synD)), labels=synD)\n",
    "\n",
    "\n",
    "\n",
    "plt.setp(ax.get_xticklabels(), rotation=45, ha=\"right\",\n",
    "         rotation_mode=\"anchor\")\n",
    "\n",
    "\n",
    "ax.set_title(\"Syn vs Real\")\n",
    "\n",
    "plt.colorbar(im, ax=ax)\n",
    "\n",
    "\n",
    "plt.show()"
   ]
  },
  {
   "cell_type": "markdown",
   "metadata": {},
   "source": [
    "## Gale Shapley"
   ]
  },
  {
   "cell_type": "markdown",
   "metadata": {},
   "source": [
    "heatscores #The comparison arrays (50 x 50)\n",
    "\n",
    "synsplit1 #The synthetic data data\n",
    "\n",
    "realsplit1 #The real data"
   ]
  },
  {
   "cell_type": "code",
   "execution_count": null,
   "metadata": {},
   "outputs": [],
   "source": [
    "heatscores2 = heatscores"
   ]
  },
  {
   "cell_type": "code",
   "execution_count": null,
   "metadata": {},
   "outputs": [],
   "source": [
    "def rank(ar):\n",
    "    \"\"\"\n",
    "    Takes in an array, ranks it and returns it\n",
    "    \"\"\"\n",
    "    old_ar = ar\n",
    "    sorted_ar = sorted(ar)\n",
    "    for i in range(len(ar)):\n",
    "        ind_in_old = old_ar.index(sorted_ar[i])\n",
    "        old_ar[ind_in_old] = i\n",
    "\n",
    "\n",
    "    return old_ar\n",
    "\n",
    "def synrank(ar):\n",
    "    \"\"\"\n",
    "    The ranking algo with changing shape of arrays\n",
    "    \"\"\"\n",
    "    new_ar = []\n",
    "    for j in range(len(ar[0])):\n",
    "        curr_ar = []\n",
    "        for i in range(len(ar)):        \n",
    "            curr_ar.append(ar[i][j])\n",
    "        new_ar.append(curr_ar)\n",
    "\n",
    "    \n",
    "    return new_ar"
   ]
  },
  {
   "cell_type": "code",
   "execution_count": null,
   "metadata": {},
   "outputs": [],
   "source": [
    "dictR = {}\n",
    "dictS = {}\n",
    "\n",
    "keys = range(50)\n",
    "for i in keys:\n",
    "    dictR[i] = rank(heatscores2[i])\n",
    "    dictS[i] = rank(synrank(heatscores2)[i])"
   ]
  },
  {
   "cell_type": "code",
   "execution_count": null,
   "metadata": {},
   "outputs": [],
   "source": [
    "dictS"
   ]
  },
  {
   "cell_type": "code",
   "execution_count": null,
   "metadata": {},
   "outputs": [],
   "source": [
    "from matching.algorithms import galeshapley\n",
    "matching = galeshapley(dictS, dictR)\n",
    "matching"
   ]
  }
 ],
 "metadata": {
  "kernelspec": {
   "display_name": "Python 3.10.2 64-bit",
   "language": "python",
   "name": "python3"
  },
  "language_info": {
   "codemirror_mode": {
    "name": "ipython",
    "version": 3
   },
   "file_extension": ".py",
   "mimetype": "text/x-python",
   "name": "python",
   "nbconvert_exporter": "python",
   "pygments_lexer": "ipython3",
   "version": "3.10.2"
  },
  "orig_nbformat": 4,
  "vscode": {
   "interpreter": {
    "hash": "84acd9daa1976748b0cb1aac2d1d7e831b987877e0682bbd8df981985727d27e"
   }
  }
 },
 "nbformat": 4,
 "nbformat_minor": 2
}
