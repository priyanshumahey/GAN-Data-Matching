{
 "cells": [
  {
   "cell_type": "markdown",
   "metadata": {},
   "source": [
    "# Implementation of the Algorithm Using Torch"
   ]
  },
  {
   "cell_type": "markdown",
   "metadata": {},
   "source": [
    "Translate everything into torch\n",
    "\n",
    "Implement the graphs in notion"
   ]
  },
  {
   "cell_type": "code",
   "execution_count": null,
   "metadata": {},
   "outputs": [],
   "source": [
    "import pandas as pd\n",
    "import numpy as np\n",
    "import matplotlib as mpl\n",
    "import matplotlib.pyplot as plt\n",
    "from scipy.spatial.distance import hamming\n",
    "import torch"
   ]
  },
  {
   "cell_type": "code",
   "execution_count": null,
   "metadata": {},
   "outputs": [],
   "source": [
    "syndata = pd.read_csv('synData9.csv')\n",
    "realdata = pd.read_csv('kag_risk_factors_cervical_cancer.csv')"
   ]
  },
  {
   "cell_type": "code",
   "execution_count": null,
   "metadata": {},
   "outputs": [],
   "source": [
    "syndataA = pd.read_csv('synData9.csv')\n",
    "realdataA = pd.read_csv('kag_risk_factors_cervical_cancer.csv')"
   ]
  },
  {
   "cell_type": "code",
   "execution_count": null,
   "metadata": {},
   "outputs": [],
   "source": [
    "med = ['Age', 'Number of sexual partners', 'First sexual intercourse',\n",
    "        'Num of pregnancies', 'Smokes (years)','Smokes (packs/year)','Hormonal Contraceptives (years)','IUD (years)',\n",
    "        'STDs (number)', 'STDs: Number of diagnosis',\n",
    "        'STDs: Time since first diagnosis', 'STDs: Time since last diagnosis']\n",
    "\n",
    "bin = ['Smokes', 'Hormonal Contraceptives', 'IUD', 'STDs', 'STDs:condylomatosis',\n",
    "        'STDs:cervical condylomatosis', 'STDs:vaginal condylomatosis',\n",
    "        'STDs:vulvo-perineal condylomatosis', 'STDs:syphilis',\n",
    "        'STDs:pelvic inflammatory disease', 'STDs:genital herpes',\n",
    "        'STDs:molluscum contagiosum', 'STDs:AIDS', 'STDs:HIV',\n",
    "        'STDs:Hepatitis B', 'STDs:HPV','Dx:Cancer', 'Dx:CIN', 'Dx:HPV', 'Dx', 'Hinselmann', 'Schiller',\n",
    "        'Citology', 'Biopsy']"
   ]
  },
  {
   "cell_type": "code",
   "execution_count": null,
   "metadata": {},
   "outputs": [],
   "source": [
    "def impute(data, graph=False):\n",
    "    temp_data = data\n",
    "    temp_data[temp_data == '?'] = np.nan\n",
    "\n",
    "    for i in temp_data.columns:\n",
    "        if(temp_data[i].dtype == 'O'):\n",
    "            temp_data[i] = temp_data[i].astype('float')\n",
    "\n",
    "    med = ['Age', 'Number of sexual partners', 'First sexual intercourse',\n",
    "        'Num of pregnancies', 'Smokes (years)','Smokes (packs/year)','Hormonal Contraceptives (years)','IUD (years)',\n",
    "        'STDs (number)', 'STDs: Number of diagnosis',\n",
    "        'STDs: Time since first diagnosis', 'STDs: Time since last diagnosis']\n",
    "\n",
    "    for i in med:\n",
    "        imp = float(temp_data[i].median())\n",
    "        temp_data[i].fillna(imp, inplace=True)\n",
    "        temp_data[i].replace(np.nan, imp)\n",
    "\n",
    "    bin = ['Smokes', 'Hormonal Contraceptives', 'IUD', 'STDs', 'STDs:condylomatosis',\n",
    "        'STDs:cervical condylomatosis', 'STDs:vaginal condylomatosis',\n",
    "        'STDs:vulvo-perineal condylomatosis', 'STDs:syphilis',\n",
    "        'STDs:pelvic inflammatory disease', 'STDs:genital herpes',\n",
    "        'STDs:molluscum contagiosum', 'STDs:AIDS', 'STDs:HIV',\n",
    "        'STDs:Hepatitis B', 'STDs:HPV','Dx:Cancer', 'Dx:CIN', 'Dx:HPV', 'Dx', 'Hinselmann', 'Schiller',\n",
    "        'Citology', 'Biopsy']\n",
    "\n",
    "    for i in bin:\n",
    "        imp = float(temp_data[i].mode())\n",
    "        temp_data[i].fillna(imp, inplace=True)\n",
    "        temp_data[i].replace(np.nan, imp)\n",
    "\n",
    "    if graph:\n",
    "        temp_data.hist(figsize=(25,15))\n",
    "    \n",
    "    return temp_data"
   ]
  },
  {
   "cell_type": "code",
   "execution_count": null,
   "metadata": {},
   "outputs": [],
   "source": [
    "def norm(data1):\n",
    "    \"\"\"\n",
    "    Min-Max normalizes the continuous data\n",
    "    \"\"\"\n",
    "    new_dat = data1.copy()\n",
    "    for col in new_dat.columns:\n",
    "        if col in med:\n",
    "            denom = new_dat[col].max() - new_dat[col].min()\n",
    "            if denom != 0:\n",
    "                new_dat[col] = (new_dat[col] - new_dat[col].min()) / denom\n",
    "            else:\n",
    "                new_dat[col] = 0\n",
    "    return new_dat"
   ]
  },
  {
   "cell_type": "code",
   "execution_count": null,
   "metadata": {},
   "outputs": [],
   "source": [
    "realdata = impute(realdataA, True)\n",
    "syndata = impute(syndataA, True)\n",
    "\n",
    "#For syndata\n",
    "syndataC = norm(syndata)\n",
    "#For realdata\n",
    "realdataC = norm(realdata)\n",
    "\n",
    "#They both should be False, this is important\n",
    "syndataC.isnull().values.any(), realdataC.isnull().values.any()"
   ]
  },
  {
   "cell_type": "code",
   "execution_count": null,
   "metadata": {},
   "outputs": [],
   "source": [
    "def compute_distance(df1, df2):\n",
    "    \n",
    "    # df1 and df2 are the two dataframes, real and synthetic, after normalizing\n",
    "    # the non-binary variables\n",
    "\n",
    "    ar1 = df1.to_numpy()\n",
    "    ar2 = df2.to_numpy()\n",
    "    x1 = torch.Tensor(ar1)\n",
    "    x2 = torch.Tensor(ar2)\n",
    "\n",
    "    # This creates a Tensor such that each channel contains the DF.\n",
    "    #The last index is the size (amount of patients) in the other DF.\n",
    "    y1 = x1.unsqueeze(2).expand(x1.size()[0], x1.size()[1], x2.size()[0])\n",
    "\n",
    "    # This creates a Tensor such that each channel contains 1 patient repeated.\n",
    "    # The last index is the size (amount of patients) in the other DF.\n",
    "    y2 = x2.unsqueeze(2).expand(x2.size()[0], x2.size()[1], x1.size()[0]).permute(2,1,0)\n",
    "\n",
    "    # Specify weights for each variable\n",
    "    weights = torch.ones(x1.size()[1])\n",
    "\n",
    "    # This creates a tensor such that channel i is the distance between patient\n",
    "    # i in the df2 dataframe with all patients in the df2 dataframe.\n",
    "    Δy = torch.abs(y1-y2)\n",
    "    result = torch.matmul(Δy.permute(0,2,1), weights).numpy()\n",
    "    return result"
   ]
  },
  {
   "cell_type": "code",
   "execution_count": null,
   "metadata": {},
   "outputs": [],
   "source": [
    "xq = compute_distance(df1=realdataC, df2=syndataC)\n",
    "xq.shape"
   ]
  },
  {
   "cell_type": "code",
   "execution_count": null,
   "metadata": {},
   "outputs": [],
   "source": [
    "newL = []\n",
    "for i in range(100):\n",
    "    newL.append(xq[i][:100].tolist())"
   ]
  },
  {
   "cell_type": "code",
   "execution_count": null,
   "metadata": {},
   "outputs": [],
   "source": [
    "synD = [str(i+1) for i in range(100)]\n",
    "realD = [str(i+1) for i in range(100)]\n",
    "\n",
    "heatscores=newL"
   ]
  },
  {
   "cell_type": "code",
   "execution_count": null,
   "metadata": {},
   "outputs": [],
   "source": [
    "fig, ax = plt.subplots()\n",
    "im = ax.imshow(heatscores, cmap=mpl.cm.get_cmap('cividis_r'))\n",
    "\n",
    "ax.set_xticks(np.arange(len(realD)), labels=realD)\n",
    "ax.set_yticks(np.arange(len(synD)), labels=synD)\n",
    "\n",
    "\n",
    "\n",
    "plt.setp(ax.get_xticklabels(), rotation=45, ha=\"right\",\n",
    "         rotation_mode=\"anchor\")\n",
    "\n",
    "\n",
    "ax.set_title(\"Syn vs Real\")\n",
    "\n",
    "plt.colorbar(im, ax=ax)\n",
    "\n",
    "\n",
    "plt.show()"
   ]
  },
  {
   "cell_type": "code",
   "execution_count": null,
   "metadata": {},
   "outputs": [],
   "source": [
    "heatscores2 = newL"
   ]
  },
  {
   "cell_type": "code",
   "execution_count": null,
   "metadata": {},
   "outputs": [],
   "source": [
    "def rank(ar):\n",
    "    \"\"\"\n",
    "    Takes in an array, ranks it and returns it\n",
    "    \"\"\"\n",
    "    old_ar = ar\n",
    "    sorted_ar = sorted(ar)\n",
    "    for i in range(len(ar)):\n",
    "        ind_in_old = old_ar.index(sorted_ar[i])\n",
    "        old_ar[ind_in_old] = i\n",
    "\n",
    "\n",
    "    return old_ar\n",
    "\n",
    "def synrank(ar):\n",
    "    \"\"\"\n",
    "    The ranking algo with changing shape of arrays\n",
    "    \"\"\"\n",
    "    new_ar = []\n",
    "    for j in range(len(ar[0])):\n",
    "        curr_ar = []\n",
    "        for i in range(len(ar)):        \n",
    "            curr_ar.append(ar[i][j])\n",
    "        new_ar.append(curr_ar)\n",
    "\n",
    "    \n",
    "    return new_ar"
   ]
  },
  {
   "cell_type": "code",
   "execution_count": null,
   "metadata": {},
   "outputs": [],
   "source": [
    "dictR = {}\n",
    "dictS = {}\n",
    "\n",
    "keys = range(100)\n",
    "for i in keys:\n",
    "    dictR[i] = rank(heatscores2[i])\n",
    "    dictS[i] = rank(synrank(heatscores2)[i])"
   ]
  },
  {
   "cell_type": "code",
   "execution_count": null,
   "metadata": {},
   "outputs": [],
   "source": [
    "dictS"
   ]
  },
  {
   "cell_type": "code",
   "execution_count": null,
   "metadata": {},
   "outputs": [],
   "source": [
    "from matching.algorithms import galeshapley\n",
    "matching = galeshapley(dictS, dictR)\n",
    "matching"
   ]
  }
 ],
 "metadata": {
  "kernelspec": {
   "display_name": "Python 3.9.0 64-bit",
   "language": "python",
   "name": "python3"
  },
  "language_info": {
   "codemirror_mode": {
    "name": "ipython",
    "version": 3
   },
   "file_extension": ".py",
   "mimetype": "text/x-python",
   "name": "python",
   "nbconvert_exporter": "python",
   "pygments_lexer": "ipython3",
   "version": "3.9.0"
  },
  "orig_nbformat": 4,
  "vscode": {
   "interpreter": {
    "hash": "81794d4967e6c3204c66dcd87b604927b115b27c00565d3d43f05ba2f3a2cb0d"
   }
  }
 },
 "nbformat": 4,
 "nbformat_minor": 2
}
