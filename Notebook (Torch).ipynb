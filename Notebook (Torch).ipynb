{
 "cells": [
  {
   "cell_type": "markdown",
   "metadata": {},
   "source": [
    "# Implementation of the Algorithm Using Torch"
   ]
  },
  {
   "cell_type": "code",
   "execution_count": null,
   "metadata": {},
   "outputs": [],
   "source": [
    "import pandas as pd\n",
    "import numpy as np\n",
    "import matplotlib as mpl\n",
    "import matplotlib.pyplot as plt\n",
    "import torch"
   ]
  },
  {
   "cell_type": "code",
   "execution_count": null,
   "metadata": {},
   "outputs": [],
   "source": [
    "realdata = pd.read_csv('kag_risk_factors_cervical_cancer.csv')\n",
    "ctgan = pd.read_csv('Syn data/ctgan_5000.csv')\n",
    "gauscop = pd.read_csv('Syn data/gauscop_5000.csv')\n",
    "synthpop = pd.read_csv('Syn data/synthpop_5000.csv')\n",
    "tvae = pd.read_csv('Syn data/tvae_5000.csv')\n",
    "syndata = pd.read_csv('synData9.csv')\n",
    "realdata34 = pd.read_csv('kag_risk_factors_cervical_cancer.csv')\n",
    "\n",
    "realdata34.drop('STDs: Time since first diagnosis', axis=1, inplace=True)\n",
    "realdata34.drop('STDs: Time since last diagnosis', axis=1, inplace=True)"
   ]
  },
  {
   "cell_type": "code",
   "execution_count": null,
   "metadata": {},
   "outputs": [],
   "source": [
    "med34 = ['Age', 'Number of sexual partners', 'First sexual intercourse',\n",
    "        'Num of pregnancies', 'Smokes (years)','Smokes (packs/year)','Hormonal Contraceptives (years)','IUD (years)',\n",
    "        'STDs (number)', 'STDs: Number of diagnosis']\n",
    "\n",
    "med = ['Age', 'Number of sexual partners', 'First sexual intercourse',\n",
    "        'Num of pregnancies', 'Smokes (years)','Smokes (packs/year)','Hormonal Contraceptives (years)','IUD (years)',\n",
    "        'STDs (number)', 'STDs: Number of diagnosis',\n",
    "        'STDs: Time since first diagnosis', 'STDs: Time since last diagnosis']\n",
    "\n",
    "bin = ['Smokes', 'Hormonal Contraceptives', 'IUD', 'STDs', 'STDs:condylomatosis',\n",
    "        'STDs:cervical condylomatosis', 'STDs:vaginal condylomatosis',\n",
    "        'STDs:vulvo-perineal condylomatosis', 'STDs:syphilis',\n",
    "        'STDs:pelvic inflammatory disease', 'STDs:genital herpes',\n",
    "        'STDs:molluscum contagiosum', 'STDs:AIDS', 'STDs:HIV',\n",
    "        'STDs:Hepatitis B', 'STDs:HPV','Dx:Cancer', 'Dx:CIN', 'Dx:HPV', 'Dx', 'Hinselmann', 'Schiller',\n",
    "        'Citology', 'Biopsy']"
   ]
  },
  {
   "cell_type": "code",
   "execution_count": null,
   "metadata": {},
   "outputs": [],
   "source": [
    "def impute(data, graph=False):\n",
    "    temp_data = data\n",
    "    temp_data[temp_data == '?'] = np.nan\n",
    "\n",
    "    for i in temp_data.columns:\n",
    "        if(temp_data[i].dtype == 'O'):\n",
    "            temp_data[i] = temp_data[i].astype('float')\n",
    "    if len(data.columns) == 34:\n",
    "        med = ['Age', 'Number of sexual partners', 'First sexual intercourse',\n",
    "        'Num of pregnancies', 'Smokes (years)','Smokes (packs/year)','Hormonal Contraceptives (years)','IUD (years)',\n",
    "        'STDs (number)', 'STDs: Number of diagnosis']\n",
    "    else:\n",
    "        med = ['Age', 'Number of sexual partners', 'First sexual intercourse',\n",
    "        'Num of pregnancies', 'Smokes (years)','Smokes (packs/year)','Hormonal Contraceptives (years)','IUD (years)',\n",
    "        'STDs (number)', 'STDs: Number of diagnosis',\n",
    "        'STDs: Time since first diagnosis', 'STDs: Time since last diagnosis']\n",
    "        \n",
    "    for i in med:\n",
    "        imp = float(temp_data[i].median())\n",
    "        temp_data[i].fillna(imp, inplace=True)\n",
    "        temp_data[i].replace(np.nan, imp)\n",
    "\n",
    "    bin = ['Smokes', 'Hormonal Contraceptives', 'IUD', 'STDs', 'STDs:condylomatosis',\n",
    "        'STDs:cervical condylomatosis', 'STDs:vaginal condylomatosis',\n",
    "        'STDs:vulvo-perineal condylomatosis', 'STDs:syphilis',\n",
    "        'STDs:pelvic inflammatory disease', 'STDs:genital herpes',\n",
    "        'STDs:molluscum contagiosum', 'STDs:AIDS', 'STDs:HIV',\n",
    "        'STDs:Hepatitis B', 'STDs:HPV','Dx:Cancer', 'Dx:CIN', 'Dx:HPV', 'Dx', 'Hinselmann', 'Schiller',\n",
    "        'Citology', 'Biopsy']\n",
    "\n",
    "    for i in bin:\n",
    "        imp = float(temp_data[i].mode())\n",
    "        temp_data[i].fillna(imp, inplace=True)\n",
    "        temp_data[i].replace(np.nan, imp)\n",
    "\n",
    "    if graph:\n",
    "        temp_data.hist(figsize=(25,15))\n",
    "    \n",
    "    return temp_data\n",
    "\n",
    "def norm(data1):\n",
    "    \"\"\"\n",
    "    Min-Max normalizes the continuous data\n",
    "    \"\"\"\n",
    "    new_dat = data1.copy()\n",
    "    for col in new_dat.columns:\n",
    "        if col in med:\n",
    "            denom = new_dat[col].max() - new_dat[col].min()\n",
    "            if denom != 0:\n",
    "                new_dat[col] = (new_dat[col] - new_dat[col].min()) / denom\n",
    "            else:\n",
    "                new_dat[col] = 0\n",
    "    return new_dat"
   ]
  },
  {
   "cell_type": "code",
   "execution_count": null,
   "metadata": {},
   "outputs": [],
   "source": [
    "realdataA = norm(impute(realdata))\n",
    "syndataA = norm(impute(syndata))\n",
    "ctganA = norm(impute(ctgan))\n",
    "gauscopA = norm(impute(gauscop))\n",
    "synthpopA = norm(impute(synthpop))\n",
    "tvaeA = norm(impute(tvae))\n",
    "realdata34A = norm(impute(realdata34))\n",
    "\n",
    "syndata.isnull().values.any(), realdata34.isnull().values.any(), realdata.isnull().values.any(), ctganA.isnull().values.any(), gauscopA.isnull().values.any(), synthpopA.isnull().values.any(), tvaeA.isnull().values.any()"
   ]
  },
  {
   "cell_type": "code",
   "execution_count": null,
   "metadata": {},
   "outputs": [],
   "source": [
    "def compute_distance(df1, df2):\n",
    "    \n",
    "    ar1 = df1.to_numpy()\n",
    "    ar2 = df2.to_numpy()\n",
    "    x1 = torch.Tensor(ar1)\n",
    "    x2 = torch.Tensor(ar2)\n",
    "\n",
    "    y1 = x1.unsqueeze(2).expand(x1.size()[0], x1.size()[1], x2.size()[0])\n",
    "\n",
    "    y2 = x2.unsqueeze(2).expand(x2.size()[0], x2.size()[1], x1.size()[0]).permute(2,1,0)\n",
    "\n",
    " \n",
    "    weights = torch.ones(x1.size()[1])\n",
    "    \n",
    "    Δy = torch.abs(y1-y2)\n",
    "    result = torch.matmul(Δy.permute(0,2,1), weights).numpy()\n",
    "    return result"
   ]
  },
  {
   "cell_type": "code",
   "execution_count": null,
   "metadata": {},
   "outputs": [],
   "source": [
    "syndataB = compute_distance(realdataA, syndataA)\n",
    "ctganB = compute_distance(realdata34A, ctganA)\n",
    "gauscopB = compute_distance(realdata34A, gauscopA)\n",
    "synthpopB = compute_distance(realdata34A, synthpopA)\n",
    "tvaeB = compute_distance(realdata34A, tvaeA)\n",
    "realvreal = compute_distance(realdataA, realdataA)\n",
    "real34vreal34 = compute_distance(realdata34A, realdata34A)"
   ]
  },
  {
   "cell_type": "code",
   "execution_count": null,
   "metadata": {},
   "outputs": [],
   "source": [
    "newSyn = []\n",
    "newCt = []\n",
    "newGaus = []\n",
    "newSynth = []\n",
    "newTvae = []\n",
    "\n",
    "for i in range(858):\n",
    "    newSyn.append(syndataB[i][:858].tolist())\n",
    "    newCt.append(ctganB[i][:858].tolist())\n",
    "    newGaus.append(gauscopB[i][:858].tolist())\n",
    "    newSynth.append(synthpopB[i][:858].tolist())\n",
    "    newTvae.append(tvaeB[i][:858].tolist())  "
   ]
  },
  {
   "cell_type": "code",
   "execution_count": null,
   "metadata": {},
   "outputs": [],
   "source": [
    "plt.imshow(real34vreal34[:,:858], cmap=mpl.cm.get_cmap('cividis_r'))\n",
    "plt.colorbar()"
   ]
  },
  {
   "cell_type": "code",
   "execution_count": null,
   "metadata": {},
   "outputs": [],
   "source": [
    "plt.imshow(realvreal[:,:858], cmap=mpl.cm.get_cmap('cividis_r'))\n",
    "plt.colorbar()"
   ]
  },
  {
   "cell_type": "code",
   "execution_count": null,
   "metadata": {},
   "outputs": [],
   "source": [
    "plt.imshow(syndataB[:,:858], cmap=mpl.cm.get_cmap('cividis_r'))\n",
    "plt.colorbar()"
   ]
  },
  {
   "cell_type": "code",
   "execution_count": null,
   "metadata": {},
   "outputs": [],
   "source": [
    "plt.imshow(ctganB[:,:858], cmap=mpl.cm.get_cmap('cividis_r'))\n",
    "plt.colorbar()"
   ]
  },
  {
   "cell_type": "code",
   "execution_count": null,
   "metadata": {},
   "outputs": [],
   "source": [
    "plt.imshow(gauscopB[:,:858], cmap=mpl.cm.get_cmap('cividis_r'))\n",
    "plt.colorbar()"
   ]
  },
  {
   "cell_type": "code",
   "execution_count": null,
   "metadata": {},
   "outputs": [],
   "source": [
    "plt.imshow(synthpopB[:,:858], cmap=mpl.cm.get_cmap('cividis_r'))\n",
    "plt.colorbar()"
   ]
  },
  {
   "cell_type": "code",
   "execution_count": null,
   "metadata": {},
   "outputs": [],
   "source": [
    "plt.imshow(tvaeB[:858,:858], cmap=mpl.cm.get_cmap('cividis_r'))\n",
    "plt.colorbar()"
   ]
  },
  {
   "cell_type": "code",
   "execution_count": null,
   "metadata": {},
   "outputs": [],
   "source": [
    "def rank(ar):\n",
    "    \"\"\"\n",
    "    Takes in an array, ranks it and returns it\n",
    "    \"\"\"\n",
    "    old_ar = ar\n",
    "    sorted_ar = sorted(ar)\n",
    "    for i in range(len(ar)):\n",
    "        ind_in_old = old_ar.index(sorted_ar[i])\n",
    "        old_ar[ind_in_old] = i\n",
    "\n",
    "\n",
    "    return old_ar\n",
    "\n",
    "def synrank(ar):\n",
    "    \"\"\"\n",
    "    The ranking algo with changing shape of arrays\n",
    "    \"\"\"\n",
    "    new_ar = []\n",
    "    for j in range(len(ar[0])):\n",
    "        curr_ar = []\n",
    "        for i in range(len(ar)):        \n",
    "            curr_ar.append(ar[i][j])\n",
    "        new_ar.append(curr_ar)\n",
    "\n",
    "    \n",
    "    return new_ar"
   ]
  },
  {
   "cell_type": "code",
   "execution_count": null,
   "metadata": {},
   "outputs": [],
   "source": [
    "syndataB = compute_distance(realdataA, syndataA)\n",
    "ctganB = compute_distance(realdata34A, ctganA)\n",
    "gauscopB = compute_distance(realdata34A, gauscopA)\n",
    "synthpopB = compute_distance(realdata34A, synthpopA)\n",
    "tvaeB = compute_distance(realdata34A, tvaeA)\n",
    "realvreal = compute_distance(realdataA, realdataA)\n",
    "real34vreal34 = compute_distance(realdata34A, realdata34A)"
   ]
  },
  {
   "cell_type": "code",
   "execution_count": null,
   "metadata": {},
   "outputs": [],
   "source": [
    "newSyn = []\n",
    "newCt = []\n",
    "newGaus = []\n",
    "newSynth = []\n",
    "newTvae = []"
   ]
  },
  {
   "cell_type": "code",
   "execution_count": null,
   "metadata": {},
   "outputs": [],
   "source": [
    "dictSyn = {}\n",
    "dictCT = {}\n",
    "dictGaus = {}\n",
    "dictSynth = {}\n",
    "dictTvae = {}\n",
    "dictSynR = {}\n",
    "dictCTR = {}\n",
    "dictGausR = {}\n",
    "dictSynthR = {}\n",
    "dictTvaeR = {}\n",
    "\n",
    "\n",
    "keys = range(858)\n",
    "for i in keys:\n",
    "    dictSyn[i] = rank(synrank(newSyn[i]))\n",
    "    dictCT[i] = rank(synrank(newCt[i]))\n",
    "    dictGaus[i] = rank(synrank(newGaus[i]))\n",
    "    dictSynth[i] = rank(synrank(newSynth[i]))\n",
    "    dictTvae[i] = rank(synrank(newTvae[i]))\n",
    "    dictSynR[i] = rank(newSyn[i])\n",
    "    dictCTR[i] = rank(newCt[i])\n",
    "    dictGausR[i] = rank(newGaus[i])\n",
    "    dictSynthR[i] = rank(newSynth[i])\n",
    "    dictTvaeR[i] = rank(newTvae[i])"
   ]
  },
  {
   "cell_type": "code",
   "execution_count": null,
   "metadata": {},
   "outputs": [],
   "source": [
    "from matching.algorithms import galeshapley\n",
    "matching = galeshapley(dictS, dictR)\n",
    "matching"
   ]
  },
  {
   "cell_type": "code",
   "execution_count": null,
   "metadata": {},
   "outputs": [],
   "source": [
    "#dictS\n",
    "A = torch.Tensor([[1,3,4,0],[3,7,5,9]])"
   ]
  },
  {
   "cell_type": "code",
   "execution_count": null,
   "metadata": {},
   "outputs": [],
   "source": [
    "s = torch.argsort(A, dim=1)\n",
    "len(A)"
   ]
  },
  {
   "cell_type": "code",
   "execution_count": null,
   "metadata": {},
   "outputs": [],
   "source": [
    "#type(dictS[0])\n",
    "def createDict(A):\n",
    "    s = torch.argsort(torch.Tensor(A),dim=1)\n",
    "    d = {}\n",
    "    for i in range(len(A)):\n",
    "        d[i] = s[i,:].tolist()\n",
    "    return d"
   ]
  },
  {
   "cell_type": "code",
   "execution_count": null,
   "metadata": {},
   "outputs": [],
   "source": [
    "#synD, realD\n",
    "A = compute_distance(realdataC, syndataC[:858])\n",
    "dictR = createDict(A)\n",
    "dictS = createDict(A.T)\n",
    "#matching = galeshapley(dictS,dictR)\n",
    "#matching"
   ]
  },
  {
   "cell_type": "code",
   "execution_count": null,
   "metadata": {},
   "outputs": [],
   "source": [
    "\n",
    "\n",
    "#Plot the matching\n",
    "#Will need to convert dict into nnumpy array\n",
    "#Then plot it\n",
    "#Do for all synthetic datasets\n",
    "#And the real vs real"
   ]
  },
  {
   "cell_type": "markdown",
   "metadata": {},
   "source": [
    "Create the graphs in Notion"
   ]
  }
 ],
 "metadata": {
  "kernelspec": {
   "display_name": "Python 3.9.0 64-bit",
   "language": "python",
   "name": "python3"
  },
  "language_info": {
   "codemirror_mode": {
    "name": "ipython",
    "version": 3
   },
   "file_extension": ".py",
   "mimetype": "text/x-python",
   "name": "python",
   "nbconvert_exporter": "python",
   "pygments_lexer": "ipython3",
   "version": "3.9.0"
  },
  "orig_nbformat": 4,
  "vscode": {
   "interpreter": {
    "hash": "81794d4967e6c3204c66dcd87b604927b115b27c00565d3d43f05ba2f3a2cb0d"
   }
  }
 },
 "nbformat": 4,
 "nbformat_minor": 2
}
