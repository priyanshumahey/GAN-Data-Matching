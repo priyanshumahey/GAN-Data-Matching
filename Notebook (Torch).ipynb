{
 "cells": [
  {
   "cell_type": "markdown",
   "metadata": {},
   "source": [
    "# Implementation of the Algorithm Using Torch"
   ]
  },
  {
   "cell_type": "code",
   "execution_count": null,
   "metadata": {},
   "outputs": [],
   "source": [
    "import pandas as pd\n",
    "import numpy as np\n",
    "import matplotlib as mpl\n",
    "import matplotlib.pyplot as plt\n",
    "import torch\n",
    "from matching.algorithms import galeshapley"
   ]
  },
  {
   "cell_type": "code",
   "execution_count": null,
   "metadata": {},
   "outputs": [],
   "source": [
    "realdata = pd.read_csv('kag_risk_factors_cervical_cancer.csv')\n",
    "ctgan = pd.read_csv('Syn data/ctgan_5000.csv')\n",
    "gauscop = pd.read_csv('Syn data/gauscop_5000.csv')\n",
    "synthpop = pd.read_csv('Syn data/synthpop_5000.csv')\n",
    "tvae = pd.read_csv('Syn data/tvae_5000.csv')\n",
    "syndata = pd.read_csv('synData9.csv')\n",
    "realdata34 = pd.read_csv('kag_risk_factors_cervical_cancer.csv')\n",
    "\n",
    "realdata34.drop('STDs: Time since first diagnosis', axis=1, inplace=True)\n",
    "realdata34.drop('STDs: Time since last diagnosis', axis=1, inplace=True)"
   ]
  },
  {
   "cell_type": "code",
   "execution_count": null,
   "metadata": {},
   "outputs": [],
   "source": [
    "med34 = ['Age', 'Number of sexual partners', 'First sexual intercourse',\n",
    "        'Num of pregnancies', 'Smokes (years)','Smokes (packs/year)','Hormonal Contraceptives (years)','IUD (years)',\n",
    "        'STDs (number)', 'STDs: Number of diagnosis']\n",
    "\n",
    "med = ['Age', 'Number of sexual partners', 'First sexual intercourse',\n",
    "        'Num of pregnancies', 'Smokes (years)','Smokes (packs/year)','Hormonal Contraceptives (years)','IUD (years)',\n",
    "        'STDs (number)', 'STDs: Number of diagnosis',\n",
    "        'STDs: Time since first diagnosis', 'STDs: Time since last diagnosis']\n",
    "\n",
    "bin = ['Smokes', 'Hormonal Contraceptives', 'IUD', 'STDs', 'STDs:condylomatosis',\n",
    "        'STDs:cervical condylomatosis', 'STDs:vaginal condylomatosis',\n",
    "        'STDs:vulvo-perineal condylomatosis', 'STDs:syphilis',\n",
    "        'STDs:pelvic inflammatory disease', 'STDs:genital herpes',\n",
    "        'STDs:molluscum contagiosum', 'STDs:AIDS', 'STDs:HIV',\n",
    "        'STDs:Hepatitis B', 'STDs:HPV','Dx:Cancer', 'Dx:CIN', 'Dx:HPV', 'Dx', 'Hinselmann', 'Schiller',\n",
    "        'Citology', 'Biopsy']"
   ]
  },
  {
   "cell_type": "code",
   "execution_count": null,
   "metadata": {},
   "outputs": [],
   "source": [
    "def impute(data, graph=False):\n",
    "    temp_data = data\n",
    "    temp_data[temp_data == '?'] = np.nan\n",
    "\n",
    "    for i in temp_data.columns:\n",
    "        if(temp_data[i].dtype == 'O'):\n",
    "            temp_data[i] = temp_data[i].astype('float')\n",
    "    if len(data.columns) == 34:\n",
    "        med = ['Age', 'Number of sexual partners', 'First sexual intercourse',\n",
    "        'Num of pregnancies', 'Smokes (years)','Smokes (packs/year)','Hormonal Contraceptives (years)','IUD (years)',\n",
    "        'STDs (number)', 'STDs: Number of diagnosis']\n",
    "    else:\n",
    "        med = ['Age', 'Number of sexual partners', 'First sexual intercourse',\n",
    "        'Num of pregnancies', 'Smokes (years)','Smokes (packs/year)','Hormonal Contraceptives (years)','IUD (years)',\n",
    "        'STDs (number)', 'STDs: Number of diagnosis',\n",
    "        'STDs: Time since first diagnosis', 'STDs: Time since last diagnosis']\n",
    "        \n",
    "    for i in med:\n",
    "        imp = float(temp_data[i].median())\n",
    "        temp_data[i].fillna(imp, inplace=True)\n",
    "        temp_data[i].replace(np.nan, imp)\n",
    "\n",
    "    bin = ['Smokes', 'Hormonal Contraceptives', 'IUD', 'STDs', 'STDs:condylomatosis',\n",
    "        'STDs:cervical condylomatosis', 'STDs:vaginal condylomatosis',\n",
    "        'STDs:vulvo-perineal condylomatosis', 'STDs:syphilis',\n",
    "        'STDs:pelvic inflammatory disease', 'STDs:genital herpes',\n",
    "        'STDs:molluscum contagiosum', 'STDs:AIDS', 'STDs:HIV',\n",
    "        'STDs:Hepatitis B', 'STDs:HPV','Dx:Cancer', 'Dx:CIN', 'Dx:HPV', 'Dx', 'Hinselmann', 'Schiller',\n",
    "        'Citology', 'Biopsy']\n",
    "\n",
    "    for i in bin:\n",
    "        imp = float(temp_data[i].mode())\n",
    "        temp_data[i].fillna(imp, inplace=True)\n",
    "        temp_data[i].replace(np.nan, imp)\n",
    "\n",
    "    if graph:\n",
    "        temp_data.hist(figsize=(25,15))\n",
    "    \n",
    "    return temp_data\n",
    "\n",
    "def norm(data1):\n",
    "    \"\"\"\n",
    "    Min-Max normalizes the continuous data\n",
    "    \"\"\"\n",
    "    new_dat = data1.copy()\n",
    "    for col in new_dat.columns:\n",
    "        if col in med:\n",
    "            denom = new_dat[col].max() - new_dat[col].min()\n",
    "            if denom != 0:\n",
    "                new_dat[col] = (new_dat[col] - new_dat[col].min()) / denom\n",
    "            else:\n",
    "                new_dat[col] = 0\n",
    "    return new_dat"
   ]
  },
  {
   "cell_type": "code",
   "execution_count": null,
   "metadata": {},
   "outputs": [],
   "source": [
    "realdataA = norm(impute(realdata))\n",
    "syndataA = norm(impute(syndata))\n",
    "ctganA = norm(impute(ctgan))\n",
    "gauscopA = norm(impute(gauscop))\n",
    "synthpopA = norm(impute(synthpop))\n",
    "tvaeA = norm(impute(tvae))\n",
    "realdata34A = norm(impute(realdata34))\n",
    "\n",
    "syndata.isnull().values.any(), realdata34.isnull().values.any(), realdata.isnull().values.any(), ctganA.isnull().values.any(), gauscopA.isnull().values.any(), synthpopA.isnull().values.any(), tvaeA.isnull().values.any()"
   ]
  },
  {
   "cell_type": "code",
   "execution_count": null,
   "metadata": {},
   "outputs": [],
   "source": [
    "def compute_distance(df1, df2):\n",
    "    \n",
    "    ar1 = df1.to_numpy()\n",
    "    ar2 = df2.to_numpy()\n",
    "    x1 = torch.Tensor(ar1)\n",
    "    x2 = torch.Tensor(ar2)\n",
    "\n",
    "    y1 = x1.unsqueeze(2).expand(x1.size()[0], x1.size()[1], x2.size()[0])\n",
    "    y2 = x2.unsqueeze(2).expand(x2.size()[0], x2.size()[1], x1.size()[0]).permute(2,1,0)\n",
    "\n",
    "    weights = torch.ones(x1.size()[1])\n",
    "\n",
    "    Δy = torch.abs(y1-y2)\n",
    "\n",
    "    result = torch.matmul(Δy.permute(0,2,1), weights).numpy()\n",
    "    \n",
    "    return result"
   ]
  },
  {
   "cell_type": "code",
   "execution_count": null,
   "metadata": {},
   "outputs": [],
   "source": [
    "syndataB = compute_distance(realdataA, syndataA)\n",
    "ctganB = compute_distance(realdata34A, ctganA)\n",
    "gauscopB = compute_distance(realdata34A, gauscopA)\n",
    "synthpopB = compute_distance(realdata34A, synthpopA)\n",
    "tvaeB = compute_distance(realdata34A, tvaeA)\n",
    "realvreal = compute_distance(realdataA, realdataA)\n",
    "real34vreal34 = compute_distance(realdata34A, realdata34A)"
   ]
  },
  {
   "cell_type": "code",
   "execution_count": null,
   "metadata": {},
   "outputs": [],
   "source": [
    "newSyn = []\n",
    "newCt = []\n",
    "newGaus = []\n",
    "newSynth = []\n",
    "newTvae = []\n",
    "realT = []\n",
    "\n",
    "for i in range(858):\n",
    "    newSyn.append(syndataB[i][:858].tolist())\n",
    "    newCt.append(ctganB[i][:858].tolist())\n",
    "    newGaus.append(gauscopB[i][:858].tolist())\n",
    "    newSynth.append(synthpopB[i][:858].tolist())\n",
    "    newTvae.append(tvaeB[i][:858].tolist())\n",
    "    realT.append(realvreal[i][:858].tolist())"
   ]
  },
  {
   "cell_type": "markdown",
   "metadata": {},
   "source": [
    "## Graphs"
   ]
  },
  {
   "cell_type": "code",
   "execution_count": null,
   "metadata": {},
   "outputs": [],
   "source": [
    "plt.imshow(real34vreal34[:,:858], cmap=mpl.cm.get_cmap('cividis_r'))\n",
    "plt.colorbar()"
   ]
  },
  {
   "cell_type": "code",
   "execution_count": null,
   "metadata": {},
   "outputs": [],
   "source": [
    "plt.imshow(realvreal[:,:858], cmap=mpl.cm.get_cmap('cividis_r'))\n",
    "plt.colorbar()"
   ]
  },
  {
   "cell_type": "code",
   "execution_count": null,
   "metadata": {},
   "outputs": [],
   "source": [
    "plt.imshow(syndataB[:,:858], cmap=mpl.cm.get_cmap('cividis_r'))\n",
    "plt.colorbar()"
   ]
  },
  {
   "cell_type": "code",
   "execution_count": null,
   "metadata": {},
   "outputs": [],
   "source": [
    "plt.imshow(ctganB[:,:858], cmap=mpl.cm.get_cmap('cividis_r'))\n",
    "plt.colorbar()"
   ]
  },
  {
   "cell_type": "code",
   "execution_count": null,
   "metadata": {},
   "outputs": [],
   "source": [
    "plt.imshow(gauscopB[:,:858], cmap=mpl.cm.get_cmap('cividis_r'))\n",
    "plt.colorbar()"
   ]
  },
  {
   "cell_type": "code",
   "execution_count": null,
   "metadata": {},
   "outputs": [],
   "source": [
    "plt.imshow(synthpopB[:,:858], cmap=mpl.cm.get_cmap('cividis_r'))\n",
    "plt.colorbar()"
   ]
  },
  {
   "cell_type": "code",
   "execution_count": null,
   "metadata": {},
   "outputs": [],
   "source": [
    "plt.imshow(tvaeB[:858,:858], cmap=mpl.cm.get_cmap('cividis_r'))\n",
    "plt.colorbar()"
   ]
  },
  {
   "cell_type": "markdown",
   "metadata": {},
   "source": [
    "## Ranking\n"
   ]
  },
  {
   "cell_type": "code",
   "execution_count": null,
   "metadata": {},
   "outputs": [],
   "source": [
    "def createDict(A):\n",
    "    s = torch.argsort(torch.Tensor(A),dim=1)\n",
    "    d = {}\n",
    "    for i in range(len(A)):\n",
    "        d[i] = s[i,:].tolist()\n",
    "    return d"
   ]
  },
  {
   "cell_type": "code",
   "execution_count": null,
   "metadata": {},
   "outputs": [],
   "source": [
    "newSynM = newSyn\n",
    "\n",
    "realDict = createDict(newSynM)\n",
    "synDict = createDict(torch.tensor(newSynM).T)\n",
    "\n",
    "matchNewSyn = galeshapley(realDict, synDict)"
   ]
  },
  {
   "cell_type": "code",
   "execution_count": null,
   "metadata": {},
   "outputs": [],
   "source": [
    "y1 = []\n",
    "for i in range(len(newSyn)):\n",
    "    y1.append(newSyn[i][matchNewSyn[i]])\n",
    "x1 = np.array([i for i in range(858)])\n",
    "\n",
    "plt.xlabel('Index of Real Patient') \n",
    "plt.ylabel('Score') \n",
    "plt.title(\"Real Data vs Score for Syndata\")\n",
    "\n",
    "plt.scatter(x1, y1)\n",
    "plt.show()"
   ]
  },
  {
   "cell_type": "code",
   "execution_count": null,
   "metadata": {},
   "outputs": [],
   "source": [
    "newCtM = newCt \n",
    "newGausM = newGaus\n",
    "realTM = realT\n",
    "newTvaeM = newTvae\n",
    "newSynthM = newSynth\n",
    "\n",
    "\n",
    "\n",
    "realDict2 = createDict(newCtM)\n",
    "synDict2 = createDict(torch.tensor(newCtM).T)\n",
    "\n",
    "realDict3 = createDict(newGausM)\n",
    "synDict3 = createDict(torch.tensor(newGausM).T)\n",
    "\n",
    "realDictR = createDict(realTM)\n",
    "synDictR = createDict(torch.tensor(realTM).T)\n",
    "\n",
    "realDict4 = createDict(newTvaeM)\n",
    "synDict4 = createDict(torch.tensor(newTvaeM).T)\n",
    "\n",
    "realDict5 = createDict(newSynthM)\n",
    "synDict5 = createDict(torch.tensor(newSynthM).T)"
   ]
  },
  {
   "cell_type": "code",
   "execution_count": null,
   "metadata": {},
   "outputs": [],
   "source": [
    "matchingR = galeshapley(realDictR, synDictR)"
   ]
  },
  {
   "cell_type": "code",
   "execution_count": null,
   "metadata": {},
   "outputs": [],
   "source": [
    "y2 = []\n",
    "for i in range(len(realT)):\n",
    "    y2.append(realT[i][matchingR[i]])\n",
    "x2 = np.array([i for i in range(858)])\n",
    "\n",
    "plt.xlabel('Index of Real Patient') \n",
    "plt.ylabel('Score') \n",
    "plt.title(\"Real Data vs Score for Real Data\")\n",
    "\n",
    "plt.scatter(x2, np.sort(y2))\n",
    "plt.show()"
   ]
  },
  {
   "cell_type": "code",
   "execution_count": null,
   "metadata": {},
   "outputs": [],
   "source": [
    "matching2 = galeshapley(realDict2, synDict2)\n",
    "matching3 = galeshapley(realDict3, synDict3)\n",
    "matching4 = galeshapley(realDict4, synDict4)\n",
    "matching5 = galeshapley(realDict5, synDict5)"
   ]
  },
  {
   "cell_type": "code",
   "execution_count": null,
   "metadata": {},
   "outputs": [],
   "source": [
    "y3 = []\n",
    "for i in range(len(newCt)):\n",
    "    y3.append(newCt[i][matching2[i]])\n",
    "x3 = np.array([i for i in range(858)])\n",
    "\n",
    "plt.xlabel('Index of Real Patient') \n",
    "plt.ylabel('Score') \n",
    "plt.title(\"Real Data vs Score for CTGan\")\n",
    "\n",
    "plt.scatter(x3, y3)\n",
    "plt.show()"
   ]
  },
  {
   "cell_type": "code",
   "execution_count": null,
   "metadata": {},
   "outputs": [],
   "source": [
    "y4 = []\n",
    "for i in range(len(newGaus)):\n",
    "    y4.append(newGaus[i][matching3[i]])\n",
    "x4 = np.array([i for i in range(858)])\n",
    "\n",
    "plt.xlabel('Index of Real Patient') \n",
    "plt.ylabel('Score') \n",
    "plt.title(\"Real Data vs Score for GAUSCOP\")\n",
    "\n",
    "plt.scatter(x4, y4)\n",
    "plt.show()"
   ]
  },
  {
   "cell_type": "code",
   "execution_count": null,
   "metadata": {},
   "outputs": [],
   "source": [
    "y5 = []\n",
    "for i in range(len(newTvae)):\n",
    "    y5.append(newTvae[i][matching4[i]])\n",
    "x5 = np.array([i for i in range(858)])\n",
    "\n",
    "plt.xlabel('Index of Real Patient') \n",
    "plt.ylabel('Score') \n",
    "plt.title(\"Real Data vs Score for Tvae\")\n",
    "\n",
    "plt.scatter(x5, y5)\n",
    "plt.show()"
   ]
  },
  {
   "cell_type": "code",
   "execution_count": null,
   "metadata": {},
   "outputs": [],
   "source": [
    "y6 = []\n",
    "for i in range(len(newSynth)):\n",
    "    y6.append(newSynth[i][matching5[i]])\n",
    "x6 = np.array([i for i in range(858)])\n",
    "\n",
    "plt.xlabel('Index of Real Patient') \n",
    "plt.ylabel('Score') \n",
    "plt.title(\"Real Data vs Score for Synthpop\")\n",
    "\n",
    "plt.scatter(x6, y6)\n",
    "plt.show()"
   ]
  },
  {
   "cell_type": "code",
   "execution_count": null,
   "metadata": {},
   "outputs": [],
   "source": [
    "plt.xlabel('Index of Real Patient') \n",
    "plt.ylabel('Score') \n",
    "plt.title(\"Plot of all the Scores for Every Synthetic Method\")\n",
    "plt.scatter(x2, y2, c='lightblue')\n",
    "plt.scatter(x1, y1, c='red')\n",
    "plt.scatter(x3, y3, c='green')\n",
    "plt.scatter(x4, y4, c='blue')\n",
    "plt.scatter(x5, y5, c='purple')\n",
    "plt.scatter(x6, y6, c='yellow')\n",
    "plt.legend(['Real Data', 'Syndata', 'CTGan', 'GAUSCOP', 'Tvae', 'Synthpop'])\n",
    "plt.show()"
   ]
  },
  {
   "cell_type": "code",
   "execution_count": null,
   "metadata": {},
   "outputs": [],
   "source": [
    "plt.rcParams[\"figure.figsize\"] = (10,7.5)\n",
    "plt.ylabel('Score') \n",
    "plt.ylabel('Patients')\n",
    "plt.title(\"Sorted Plot of all the Scores for Every Synthetic Method\")\n",
    "plt.scatter(x2, np.sort(y2), c='lightblue')\n",
    "plt.scatter(x1, np.sort(y1), c='red')\n",
    "plt.scatter(x3, np.sort(y3), c='green')\n",
    "plt.scatter(x4, np.sort(y4), c='blue')\n",
    "plt.scatter(x5, np.sort(y5), c='purple')\n",
    "plt.scatter(x6, np.sort(y6), c='yellow')\n",
    "plt.legend(['Real Data', 'Syndata', 'CTGan', 'GAUSCOP', 'Tvae', 'Synthpop'])\n",
    "resolution_value = 1200\n",
    "plt.savefig(\"myImage.png\", format=\"png\", dpi=resolution_value)\n",
    "plt.show()"
   ]
  },
  {
   "cell_type": "markdown",
   "metadata": {},
   "source": [
    "## Choice Graphs"
   ]
  },
  {
   "cell_type": "markdown",
   "metadata": {},
   "source": [
    "Check preferences. For patient 0, we want to check if the final choice it got was first choice, second choice, third choice, or greater than third choice."
   ]
  },
  {
   "cell_type": "code",
   "execution_count": null,
   "metadata": {},
   "outputs": [],
   "source": [
    "newCtM = newCt \n",
    "newGausM = newGaus\n",
    "realTM = realT\n",
    "newTvaeM = newTvae\n",
    "newSynthM = newSynth\n",
    "newSynM = newSyn"
   ]
  },
  {
   "cell_type": "code",
   "execution_count": null,
   "metadata": {},
   "outputs": [],
   "source": [
    "dataset_used = newCt\n",
    "\n",
    "newSynM = dataset_used\n",
    "\n",
    "realDict = createDict(newSynM)\n",
    "synDict = createDict(torch.tensor(newSynM).T)\n",
    "matchNewSynM = galeshapley(realDict, synDict)"
   ]
  },
  {
   "cell_type": "code",
   "execution_count": null,
   "metadata": {},
   "outputs": [],
   "source": [
    "dictUsed = realDict\n",
    "matchUsed = matchNewSynM"
   ]
  },
  {
   "cell_type": "code",
   "execution_count": null,
   "metadata": {},
   "outputs": [],
   "source": [
    "y = []\n",
    "for i in range(len(dataset_used)):\n",
    "    y.append(dataset_used[i][matchNewSynM[i]])\n",
    "x = np.array([i for i in range(858)])\n",
    "plt.scatter(x, np.sort(y))\n",
    "plt.show()"
   ]
  },
  {
   "cell_type": "code",
   "execution_count": null,
   "metadata": {},
   "outputs": [],
   "source": [
    "def choiceMap(rank, match):\n",
    "    rankNew = rank\n",
    "    matchNew = match\n",
    "    d = {}\n",
    "    for i in range(len(matchNew)):\n",
    "        x = matchNew[i]\n",
    "        x = rankNew[i].index(x)\n",
    "        d[i] = x\n",
    "    return d"
   ]
  },
  {
   "cell_type": "code",
   "execution_count": null,
   "metadata": {},
   "outputs": [],
   "source": [
    "map = choiceMap(dictUsed, matchUsed)"
   ]
  },
  {
   "cell_type": "code",
   "execution_count": null,
   "metadata": {},
   "outputs": [],
   "source": [
    "plt.scatter(map.keys(), map.values())\n",
    "plt.show()"
   ]
  },
  {
   "cell_type": "code",
   "execution_count": null,
   "metadata": {},
   "outputs": [],
   "source": [
    "testPlot = map\n",
    "X = list(testPlot.keys())\n",
    "Y = list(testPlot.values())\n",
    "\n",
    "color_lst = []\n",
    "colors_set = {0:'green', 1:'blue', 2:'yellow', 3:'red', 4:'black'}\n",
    "\n",
    "for i, j in enumerate(X):\n",
    "    if Y[i] <= 3:\n",
    "        color_lst.append(Y[i])\n",
    "    if Y[i] > 3:\n",
    "        color_lst.append(4)\n",
    "\n",
    "    plt.scatter(X[i], Y[i], color = colors_set.get(color_lst[i], 'black'))"
   ]
  },
  {
   "cell_type": "markdown",
   "metadata": {},
   "source": [
    "For all the plots on one single plot"
   ]
  },
  {
   "cell_type": "code",
   "execution_count": null,
   "metadata": {},
   "outputs": [],
   "source": [
    "newCtM = newCt \n",
    "newGausM = newGaus\n",
    "realTM = realT\n",
    "newTvaeM = newTvae\n",
    "newSynthM = newSynth\n",
    "newSynM = newSyn"
   ]
  },
  {
   "cell_type": "code",
   "execution_count": null,
   "metadata": {},
   "outputs": [],
   "source": [
    "def gale_shap_plot(dataset_for_use, title=None):\n",
    "\n",
    "    realDict = createDict(dataset_for_use)\n",
    "    synDict = createDict(torch.tensor(dataset_for_use).T)\n",
    "    matchdataset_for_use = galeshapley(realDict, synDict)\n",
    "\n",
    "    dictUsed = realDict\n",
    "    matchUsed = matchdataset_for_use\n",
    "\n",
    "    y = []\n",
    "    for i in range(len(dataset_for_use)):\n",
    "        y.append(dataset_for_use[i][matchdataset_for_use[i]])\n",
    "    x = np.array([i for i in range(858)])\n",
    "    plt.scatter(x, np.sort(y))\n",
    "    if title:\n",
    "        plt.title(\"%s Method Sorted\" % (title))\n",
    "    plt.ylabel('Score')\n",
    "    plt.show()\n",
    "\n",
    "    map = choiceMap(dictUsed, matchUsed)\n",
    "    plt.scatter(map.keys(), map.values())\n",
    "    plt.xlabel('Index')\n",
    "    plt.ylabel('Rank')\n",
    "    if title:\n",
    "        plt.title(\"%s Method; Gale Shapley Algorithm Preference Graph\" % (title))\n",
    "    plt.show()\n",
    "\n",
    "    testPlot = map\n",
    "    X = list(testPlot.keys())\n",
    "    Y = list(testPlot.values())\n",
    "\n",
    "    color_lst = []\n",
    "    colors_set = {0:'green', 1:'blue', 2:'yellow', 3:'red', 4:'black'}\n",
    "\n",
    "    for i, j in enumerate(X):\n",
    "        if Y[i] <= 3:\n",
    "            color_lst.append(Y[i])\n",
    "        if Y[i] > 3:\n",
    "            color_lst.append(4)\n",
    "\n",
    "        plt.scatter(X[i], Y[i], color = colors_set.get(color_lst[i], 'black'))\n",
    "    plt.xlabel('Index')\n",
    "    plt.ylabel('Rank')\n",
    "    if title:\n",
    "        plt.title(\"%s Method; Gale Shapley Algorithm Preference Graph\" % (title))\n",
    "    plt.show()"
   ]
  },
  {
   "cell_type": "code",
   "execution_count": null,
   "metadata": {},
   "outputs": [],
   "source": [
    "gale_shap_plot(newCtM, title=\"CTGan\")"
   ]
  },
  {
   "cell_type": "code",
   "execution_count": null,
   "metadata": {},
   "outputs": [],
   "source": [
    "gale_shap_plot(newGaus, title=\"Gauscop\")\n"
   ]
  },
  {
   "cell_type": "code",
   "execution_count": null,
   "metadata": {},
   "outputs": [],
   "source": [
    "gale_shap_plot(realT, title=\"Real\")"
   ]
  },
  {
   "cell_type": "code",
   "execution_count": null,
   "metadata": {},
   "outputs": [],
   "source": [
    "gale_shap_plot(newTvae, \"TVAE\")"
   ]
  },
  {
   "cell_type": "code",
   "execution_count": null,
   "metadata": {},
   "outputs": [],
   "source": [
    "gale_shap_plot(newSynth, \"Synthpop\")"
   ]
  },
  {
   "cell_type": "code",
   "execution_count": null,
   "metadata": {},
   "outputs": [],
   "source": [
    "gale_shap_plot(newSyn, \"Syndata\")"
   ]
  }
 ],
 "metadata": {
  "kernelspec": {
   "display_name": "Python 3.9.0 64-bit",
   "language": "python",
   "name": "python3"
  },
  "language_info": {
   "codemirror_mode": {
    "name": "ipython",
    "version": 3
   },
   "file_extension": ".py",
   "mimetype": "text/x-python",
   "name": "python",
   "nbconvert_exporter": "python",
   "pygments_lexer": "ipython3",
   "version": "3.9.0"
  },
  "orig_nbformat": 4,
  "vscode": {
   "interpreter": {
    "hash": "81794d4967e6c3204c66dcd87b604927b115b27c00565d3d43f05ba2f3a2cb0d"
   }
  }
 },
 "nbformat": 4,
 "nbformat_minor": 2
}
