{
 "cells": [
  {
   "cell_type": "markdown",
   "metadata": {},
   "source": [
    "# Modified Gale Shapley Algorithm for Generative Data Comparison"
   ]
  },
  {
   "cell_type": "markdown",
   "metadata": {},
   "source": [
    "## Set-Up\n",
    "We'll primarily using pandas to work with the data. We start off by importing pandas and importing the data as a pandas dataframe."
   ]
  },
  {
   "cell_type": "code",
   "execution_count": 26,
   "metadata": {},
   "outputs": [],
   "source": [
    "import pandas as pd\n",
    "import numpy as np\n",
    "import numpy as np\n",
    "import matplotlib as mpl\n",
    "import matplotlib.pyplot as plt"
   ]
  },
  {
   "cell_type": "code",
   "execution_count": 13,
   "metadata": {},
   "outputs": [],
   "source": [
    "syndata = pd.read_csv('synData9.csv')\n",
    "realdata = pd.read_csv('kag_risk_factors_cervical_cancer.csv')"
   ]
  },
  {
   "cell_type": "code",
   "execution_count": 14,
   "metadata": {},
   "outputs": [
    {
     "data": {
      "text/plain": [
       "'Age'"
      ]
     },
     "execution_count": 14,
     "metadata": {},
     "output_type": "execute_result"
    }
   ],
   "source": [
    "syndata.iloc[0] #Use this to access a row\n",
    "syndata.loc[0, : ] #Use this to access a row\n",
    "x = syndata.loc[0,\"Age\"] #Use this to access a column\n",
    "syndata.columns[0]"
   ]
  },
  {
   "cell_type": "markdown",
   "metadata": {},
   "source": [
    "## Data Cleaning and Helper Functions\n",
    "We need to clean up the data before we use it. Primarily, this means we will need to do some normalization to the data."
   ]
  },
  {
   "cell_type": "markdown",
   "metadata": {},
   "source": [
    "One important thing we may need later on is the means for each of the columns. First, we compute mean for the raw data."
   ]
  },
  {
   "cell_type": "code",
   "execution_count": 15,
   "metadata": {},
   "outputs": [],
   "source": [
    "def mean_for_column(data1, column):\n",
    "    \"\"\"\n",
    "    Finds the mean for a specific column\n",
    "    \"\"\"\n",
    "    tot = 0 \n",
    "    for i in range(len(data1)):\n",
    "        #print(data1.loc[i, column])\n",
    "        if data1.loc[i, column] == \"?\" or data1.loc[i, column] == -1:\n",
    "            pass\n",
    "        else:\n",
    "            tot = tot + float(data1.loc[i, column])\n",
    "    tot = tot/(len(data1))\n",
    "    return tot\n",
    "    \n",
    "def mean_for_cols(data1):\n",
    "    \"\"\"\n",
    "    Computes the mean for all the columns \n",
    "    \"\"\"\n",
    "    ar = []\n",
    "    for col in data1.columns: \n",
    "        ar.append(mean_for_column(data1, col))\n",
    "    return ar\n",
    "    \n",
    "def clean(data1):\n",
    "    \"\"\"\n",
    "    Replaces the missing data with a -1 value and converts the strings into floats\n",
    "    \"\"\"\n",
    "    for i in range(len(data1)):\n",
    "        for f in data1.columns:\n",
    "            #print(data1.loc[i, f])\n",
    "            if data1.loc[i, f] == \"?\":\n",
    "                data1.loc[i, f] = float(-1)\n",
    "                continue\n",
    "            if isinstance(data1.loc[i, f], str):\n",
    "                data1.loc[i, f] = float(data1.loc[i, f])\n",
    "    data1 =data1.set_axis([f for f in range(len(data1))], axis='index')\n",
    "    #print(data1.dtypes)\n",
    "    return data1.astype('float')\n",
    "    \n",
    "def norm(data1):\n",
    "    \"\"\"\n",
    "    Min-Max normalizes the data\n",
    "    \"\"\"\n",
    "    new_dat = data1.copy()\n",
    "    for col in new_dat.columns:\n",
    "        new_dat[col] = (new_dat[col] - new_dat[col].min()) / (new_dat[col].max() - new_dat[col].min())\n",
    "    return new_dat"
   ]
  },
  {
   "cell_type": "code",
   "execution_count": 16,
   "metadata": {},
   "outputs": [
    {
     "data": {
      "text/plain": [
       "(False, False)"
      ]
     },
     "execution_count": 16,
     "metadata": {},
     "output_type": "execute_result"
    }
   ],
   "source": [
    "syndata_means = mean_for_cols(syndata)\n",
    "realdata_means = mean_for_cols(realdata)\n",
    "\n",
    "#Back up of the data\n",
    "syndata_safe = syndata \n",
    "realdata_safe = realdata\n",
    "\n",
    "realdata_clean = clean(realdata)\n",
    "syndata_clean = clean(syndata)\n",
    "\n",
    "realdata = realdata_safe\n",
    "syndata = syndata_safe\n",
    "\n",
    "\n",
    "#For syndata\n",
    "syndata_clean_norm = norm(syndata_clean)\n",
    "#For realdata\n",
    "realdata_clean_norm = norm(realdata_clean)\n",
    "\n",
    "syndata_clean_norm = syndata_clean_norm.fillna(-1)\n",
    "realdata_clean_norm = realdata_clean_norm.fillna(-1)\n",
    "#They both should be False, this is important\n",
    "syndata_clean_norm.isnull().values.any(), realdata_clean_norm.isnull().values.any()"
   ]
  },
  {
   "cell_type": "markdown",
   "metadata": {},
   "source": [
    "## Weights"
   ]
  },
  {
   "cell_type": "code",
   "execution_count": 17,
   "metadata": {},
   "outputs": [],
   "source": [
    "#We start of by getting the column names\n",
    "#print(realdata_clean_norm.columns)\n",
    "#print(syndata_clean_norm.columns)"
   ]
  },
  {
   "cell_type": "code",
   "execution_count": 18,
   "metadata": {},
   "outputs": [],
   "source": [
    "#They're the same so we use 1 single column array\n",
    "cols = ['Age', 'Number of sexual partners', 'First sexual intercourse',\n",
    "       'Num of pregnancies', 'Smokes', 'Smokes (years)', 'Smokes (packs/year)',\n",
    "       'Hormonal Contraceptives', 'Hormonal Contraceptives (years)', 'IUD',\n",
    "       'IUD (years)', 'STDs', 'STDs (number)', 'STDs:condylomatosis',\n",
    "       'STDs:cervical condylomatosis', 'STDs:vaginal condylomatosis',\n",
    "       'STDs:vulvo-perineal condylomatosis', 'STDs:syphilis',\n",
    "       'STDs:pelvic inflammatory disease', 'STDs:genital herpes',\n",
    "       'STDs:molluscum contagiosum', 'STDs:AIDS', 'STDs:HIV',\n",
    "       'STDs:Hepatitis B', 'STDs:HPV', 'STDs: Number of diagnosis',\n",
    "       'STDs: Time since first diagnosis', 'STDs: Time since last diagnosis',\n",
    "       'Dx:Cancer', 'Dx:CIN', 'Dx:HPV', 'Dx', 'Hinselmann', 'Schiller',\n",
    "       'Citology', 'Biopsy']\n",
    "\n",
    "#Init\n",
    "real_weights =[1,1,1,1,1,1,1,1,1,1,1,1,1,1,1,\n",
    "    1,1,1,1,1,1,1,1,1,1,1,1,1,1,1,1,1,1,1,1,1]\n",
    "syn_weights =[1,1,1,1,1,1,1,1,1,1,1,1,1,1,1,\n",
    "    1,1,1,1,1,1,1,1,1,1,1,1,1,1,1,1,1,1,1,1,1]\n",
    "test_weights =[1,1,1,1,1,1,1,1,1,1,1,1,1,1,1,\n",
    "    1,1,1,1,1,1,1,1,1,1,1,1,1,1,1,1,1,1,1,1,1]\n",
    "\n",
    "high_weights =['Age', 'Number of sexual partners', 'First sexual intercourse',\n",
    "       'Num of pregnancies', 'Smokes']\n",
    "med_weights =['Smokes (years)', 'Smokes (packs/year)',\n",
    "       'Hormonal Contraceptives', 'Hormonal Contraceptives (years)', 'IUD',\n",
    "       'IUD (years)', 'STDs', 'STDs (number)', 'STDs:condylomatosis',\n",
    "       'STDs:cervical condylomatosis']\n",
    "low_weights =['STDs:vaginal condylomatosis',\n",
    "       'STDs:vulvo-perineal condylomatosis', 'STDs:syphilis',\n",
    "       'STDs:pelvic inflammatory disease', 'STDs:genital herpes',\n",
    "       'STDs:molluscum contagiosum', 'STDs:AIDS', 'STDs:HIV',\n",
    "       'STDs:Hepatitis B', 'STDs:HPV', 'STDs: Number of diagnosis',\n",
    "       'STDs: Time since first diagnosis', 'STDs: Time since last diagnosis',\n",
    "       'Dx:Cancer', 'Dx:CIN', 'Dx:HPV', 'Dx', 'Hinselmann', 'Schiller',\n",
    "       'Citology', 'Biopsy']\n",
    "\n",
    "for i in range(len(cols)):\n",
    "    if cols[i] in high_weights:\n",
    "        real_weights[i] = 3\n",
    "        syn_weights[i] = 3\n",
    "    if cols[i] in med_weights:\n",
    "        real_weights[i] = 2\n",
    "        syn_weights[i] = 2\n",
    "    if cols[i] in low_weights:\n",
    "        real_weights[i] = 1\n",
    "        syn_weights[i] = 1"
   ]
  },
  {
   "cell_type": "markdown",
   "metadata": {},
   "source": [
    "## Comparison Function\n",
    "The comparison function is the main function that compares the data. It compares all the synthetic data to one specific row of the real data and creates an array of the most similar matches.\n",
    "\n",
    "We also compute the values without using the functions."
   ]
  },
  {
   "cell_type": "code",
   "execution_count": 19,
   "metadata": {},
   "outputs": [],
   "source": [
    "def compare(data1, data2, row_comp, weights, mini=False):\n",
    "    \"\"\"\n",
    "    This is a comparsion function  \n",
    "    data1: First dataset for comparsion, 1 set row\n",
    "    data2: Second dataset for comparsion\n",
    "    row_comp: The row we want compared\n",
    "    mini: Chooses if the function returns the minimum value or not\n",
    "    \"\"\"\n",
    "    #Goes for 1 section of the real data and then loops for every row of the synthesized data\n",
    "    lst = []\n",
    "    for i in range(len(data2)):\n",
    "        #print('Real data: ' + str(data1.loc[row_comp, \"Age\"]) + '. Fake data: ' +str(data2.loc[i, 'Age']))\n",
    "        #Comparsion function to compare each the set real row to current fake row\n",
    "        lst.append(similiar(data1, data2, i, row_comp, weights))\n",
    "    if mini:\n",
    "        lst = min(lst)\n",
    "    return lst\n",
    "\n",
    "def similiar(data1, data2, ind, row_comp, weights):\n",
    "    \"\"\"\n",
    "    Computes how similiar the two datasets are \n",
    "    \"\"\"\n",
    "    score = 0\n",
    "    for i in range(len(data1.columns)):\n",
    "        score = score + (abs(data1.loc[row_comp,:][i] - data2.loc[ind,:][i]) * weights[i])\n",
    "        #print(data1.loc[row_comp,:] - data2.loc[ind,:])\n",
    "    return score \n",
    "\n",
    "def compNew(data1, data2, row_comp, weights):\n",
    "    lst = []\n",
    "    \n",
    "    for i in range(len(data2)):\n",
    "        score = 0\n",
    "        for y in range(len(data1.columns)):\n",
    "            score = score + (abs(data1.loc[row_comp,:][y] - data2.loc[i,:][y]) * weights[y])\n",
    "        lst.append(score)\n",
    "    return lst"
   ]
  },
  {
   "cell_type": "code",
   "execution_count": 20,
   "metadata": {},
   "outputs": [
    {
     "data": {
      "text/plain": [
       "(50, 50)"
      ]
     },
     "execution_count": 20,
     "metadata": {},
     "output_type": "execute_result"
    }
   ],
   "source": [
    "#Data Splitting\n",
    "syndata_clean_norm_split = np.array_split(syndata_clean_norm, 100)\n",
    "realdata_clean_norm_split = np.array_split(realdata_clean_norm, 17)\n",
    "realsplit1 = realdata_clean_norm_split[0]\n",
    "synsplit1 = syndata_clean_norm_split[0]\n",
    "realsplit1 = realsplit1.drop(50)\n",
    "len(realsplit1), len(synsplit1)"
   ]
  },
  {
   "cell_type": "code",
   "execution_count": 21,
   "metadata": {},
   "outputs": [
    {
     "data": {
      "text/plain": [
       "50"
      ]
     },
     "execution_count": 21,
     "metadata": {},
     "output_type": "execute_result"
    }
   ],
   "source": [
    "xasda = compNew(synsplit1, realsplit1, 0, test_weights)\n",
    "len(xasda)"
   ]
  },
  {
   "cell_type": "code",
   "execution_count": 22,
   "metadata": {},
   "outputs": [],
   "source": [
    "synD = [str(i+1) for i in range(50)]\n",
    "realD = [str(i+1) for i in range(50)]"
   ]
  },
  {
   "cell_type": "code",
   "execution_count": 23,
   "metadata": {},
   "outputs": [],
   "source": [
    "heatscores=[]\n",
    "\n",
    "for i in range(len(realsplit1)):\n",
    "    heatscores.append(compNew(synsplit1, realsplit1, i, test_weights))\n"
   ]
  },
  {
   "cell_type": "code",
   "execution_count": 36,
   "metadata": {},
   "outputs": [
    {
     "data": {
      "image/png": "[encoded data removed]",
      "text/plain": [
       "<Figure size 432x288 with 2 Axes>"
      ]
     },
     "metadata": {
      "needs_background": "light"
     },
     "output_type": "display_data"
    }
   ],
   "source": [
    "\n",
    "fig, ax = plt.subplots()\n",
    "im = ax.imshow(heatscores)\n",
    "\n",
    "\n",
    "ax.set_xticks(np.arange(len(realD)), labels=realD)\n",
    "ax.set_yticks(np.arange(len(synD)), labels=synD)\n",
    "\n",
    "\n",
    "plt.setp(ax.get_xticklabels(), rotation=45, ha=\"right\",\n",
    "         rotation_mode=\"anchor\")\n",
    "\n",
    "\n",
    "ax.set_title(\"Syn vs Real\")\n",
    "\n",
    "plt.colorbar(im, ax=ax)\n",
    "\n",
    "\n",
    "plt.show()"
   ]
  },
  {
   "cell_type": "markdown",
   "metadata": {},
   "source": [
    "Calling each columns with [,:] and then indexing into it with [i]\n",
    "The columns are being called already but the values within the columns are not being called. That is what this i is doing\n",
    "\n",
    "\n",
    "We don't need to compare element by element, we can do a vector comparison. \n",
    "\n",
    "\n",
    ".* for element by element for 2 vectors\n",
    "\n",
    "\n",
    "Or use matrix multiplication (might need to transpose weights)\n",
    "\n",
    "\n"
   ]
  },
  {
   "cell_type": "markdown",
   "metadata": {},
   "source": [
    "## The Old Method"
   ]
  },
  {
   "cell_type": "code",
   "execution_count": null,
   "metadata": {},
   "outputs": [],
   "source": [
    "compare_arr = compare(realdata_clean_norm,syndata_clean_norm, 0, test_weights)"
   ]
  },
  {
   "cell_type": "code",
   "execution_count": null,
   "metadata": {},
   "outputs": [],
   "source": [
    "#big_comp = []"
   ]
  },
  {
   "cell_type": "code",
   "execution_count": null,
   "metadata": {},
   "outputs": [],
   "source": [
    "for i in range(len(realdata_clean_norm)):\n",
    "    x = compare(realdata_clean_norm,syndata_clean_norm, i, test_weights)\n",
    "    big_comp.append(x)\n",
    "\n",
    "#Took 511m 43.3s ....."
   ]
  },
  {
   "cell_type": "code",
   "execution_count": null,
   "metadata": {},
   "outputs": [],
   "source": [
    "len(big_comp)"
   ]
  },
  {
   "cell_type": "code",
   "execution_count": null,
   "metadata": {},
   "outputs": [],
   "source": [
    "import numpy as np\n",
    "\n",
    "arr = np.array(big_comp)\n",
    "index_values = []\n",
    "for i in range(858):\n",
    "    index_values.append(i)\n",
    "column_values = []\n",
    "for i in range(5000):\n",
    "    column_values.append(i)"
   ]
  },
  {
   "cell_type": "code",
   "execution_count": null,
   "metadata": {},
   "outputs": [],
   "source": [
    "df = pd.DataFrame(data = arr, \n",
    "                  index = index_values, \n",
    "                  columns = column_values)"
   ]
  },
  {
   "cell_type": "code",
   "execution_count": null,
   "metadata": {},
   "outputs": [],
   "source": [
    "df.to_csv('data.csv', index=True)"
   ]
  },
  {
   "cell_type": "code",
   "execution_count": null,
   "metadata": {},
   "outputs": [],
   "source": [
    "ival = []\n",
    "for i in range(5000):\n",
    "    ival.append(i)"
   ]
  },
  {
   "cell_type": "code",
   "execution_count": null,
   "metadata": {},
   "outputs": [],
   "source": [
    "min(compare_arr)\n",
    "compare_arr.index(18.114858335405216)\n",
    "syndata_clean.iloc[509, :]"
   ]
  },
  {
   "cell_type": "code",
   "execution_count": null,
   "metadata": {},
   "outputs": [],
   "source": [
    "\"\"\"\n",
    "#How to access the number from a specific column and row\n",
    "syndata_clean_norm.loc[0,:\"Age\"][0]\n",
    "#Goes through each column iteritvely of the synthetic data row that's closest with the first row of the real data\n",
    "for i in range(36):\n",
    "    print(\"Fake: \" + str(syndata.iloc[509][i]) + \". Real: \" + str(realdata.iloc[0][i]))\n",
    "#How to find the minimium of the compare_arr and figure out the location \n",
    "min(compare_arr)\n",
    "compare_arr.index(18.114858335405216)\n",
    "\"\"\""
   ]
  },
  {
   "cell_type": "code",
   "execution_count": null,
   "metadata": {},
   "outputs": [],
   "source": [
    "score = 0\n",
    "for i in range(len(syndata_clean_norm.columns)):\n",
    "    #print(realdata_clean_naorm.loc[0,:])\n",
    "    score = score + ((realdata_clean_norm.loc[0,:][i] - syndata_clean_norm.loc[0,:][i])) #* weights[i])\n",
    "\n",
    "sy = [12,2,12,3,0,0,0,0,0,2,0,0,0,0,0,0,0,0,0,0,0,0,0,0,0,0,0,0,0,0,0,0,0,0,0,0]\n",
    "re = [18,4.0,15.0,1.0,0.0,0.0,0.0,0.0,0.0,0.0,0.0,0.0,0.0,0.0,0.0,0.0,0.0,0.0,0.0,0.0,0.0,0.0,0.0,0.0,0.0,0,-1,-1,0,0,0,0,0,0,0,0]\n",
    "ar = [syndata_clean_norm.loc[0,:][i] for i in range(len(syndata.columns))]\n",
    "ar2 = [realdata_clean_norm.loc[0,:][i] for i in range(len(syndata.columns))]\n",
    "\n",
    "sum = 0\n",
    "for i in range(len(sy)):\n",
    "    sum = sum + abs(ar2[i] - ar[i])\n",
    "    \n",
    "assert sum == compare_arr[0], \"Not working\""
   ]
  },
  {
   "cell_type": "markdown",
   "metadata": {},
   "source": [
    "## Ranking\n",
    "Now that we've made the comparison function, we need a function that creates a threshold that decides if the data is similar enough"
   ]
  },
  {
   "cell_type": "code",
   "execution_count": null,
   "metadata": {},
   "outputs": [],
   "source": [
    "def Average(l):\n",
    "    result = 0\n",
    "    for i in range(len(l)):\n",
    "        result = result + l[0]\n",
    "    result = result/len(l)\n",
    "    return result"
   ]
  },
  {
   "cell_type": "code",
   "execution_count": null,
   "metadata": {},
   "outputs": [],
   "source": [
    "compare_arr_avg = Average(compare_arr)\n",
    "compare_arr_avg, min(compare_arr), max(compare_arr)"
   ]
  },
  {
   "cell_type": "markdown",
   "metadata": {},
   "source": [
    "## Gale Shapley "
   ]
  },
  {
   "cell_type": "markdown",
   "metadata": {},
   "source": [
    "heatscores #The comparison arrays (50 x 50)\n",
    "\n",
    "synsplit1 #The synthetic data data\n",
    "\n",
    "realsplit1 #The real data"
   ]
  },
  {
   "cell_type": "code",
   "execution_count": null,
   "metadata": {},
   "outputs": [],
   "source": []
  }
 ],
 "metadata": {
  "kernelspec": {
   "display_name": "Python 3.9.0 64-bit",
   "language": "python",
   "name": "python3"
  },
  "language_info": {
   "codemirror_mode": {
    "name": "ipython",
    "version": 3
   },
   "file_extension": ".py",
   "mimetype": "text/x-python",
   "name": "python",
   "nbconvert_exporter": "python",
   "pygments_lexer": "ipython3",
   "version": "3.9.0"
  },
  "orig_nbformat": 4,
  "vscode": {
   "interpreter": {
    "hash": "81794d4967e6c3204c66dcd87b604927b115b27c00565d3d43f05ba2f3a2cb0d"
   }
  }
 },
 "nbformat": 4,
 "nbformat_minor": 2
}
