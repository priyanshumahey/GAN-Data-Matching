{
 "cells": [
  {
   "cell_type": "markdown",
   "metadata": {},
   "source": [
    "# Modified Gale Shapley Algorithm for Generative Data Comparison"
   ]
  },
  {
   "cell_type": "markdown",
   "metadata": {},
   "source": [
    "## Set-Up\n",
    "We'll primarily using pandas to work with the data. We start off by importing pandas and importing the data as a pandas dataframe."
   ]
  },
  {
   "cell_type": "code",
   "execution_count": 1,
   "metadata": {},
   "outputs": [],
   "source": [
    "import pandas as pd"
   ]
  },
  {
   "cell_type": "code",
   "execution_count": 2,
   "metadata": {},
   "outputs": [],
   "source": [
    "syndata = pd.read_csv('synData9.csv')\n",
    "realdata = pd.read_csv('kag_risk_factors_cervical_cancer.csv')"
   ]
  },
  {
   "cell_type": "code",
   "execution_count": 3,
   "metadata": {},
   "outputs": [
    {
     "data": {
      "text/plain": [
       "'Age'"
      ]
     },
     "execution_count": 3,
     "metadata": {},
     "output_type": "execute_result"
    }
   ],
   "source": [
    "syndata.iloc[0] #Use this to access a row\n",
    "syndata.loc[0, : ] #Use this to access a row\n",
    "x = syndata.loc[0,\"Age\"] #Use this to access a column\n",
    "syndata.columns[0]"
   ]
  },
  {
   "cell_type": "markdown",
   "metadata": {},
   "source": [
    "## Data Cleaning and Helper Functions\n",
    "We need to clean up the data before we use it. Primarily, this means we will need to do some normalization to the data."
   ]
  },
  {
   "cell_type": "markdown",
   "metadata": {},
   "source": [
    "One important thing we may need later on is the means for each of the columns. First, we compute mean for the raw data."
   ]
  },
  {
   "cell_type": "code",
   "execution_count": 4,
   "metadata": {},
   "outputs": [],
   "source": [
    "def mean_for_column(data1, column):\n",
    "    \"\"\"\n",
    "    Finds the mean for a specific column\n",
    "    \"\"\"\n",
    "    tot = 0 \n",
    "    for i in range(len(data1)):\n",
    "        #print(data1.loc[i, column])\n",
    "        if data1.loc[i, column] == \"?\" or data1.loc[i, column] == -1:\n",
    "            pass\n",
    "        else:\n",
    "            tot = tot + float(data1.loc[i, column])\n",
    "    tot = tot/(len(data1))\n",
    "    return tot\n",
    "    \n",
    "def mean_for_cols(data1):\n",
    "    \"\"\"\n",
    "    Computes the mean for all the columns \n",
    "    \"\"\"\n",
    "    ar = []\n",
    "    for col in data1.columns: \n",
    "        ar.append(mean_for_column(data1, col))\n",
    "    return ar"
   ]
  },
  {
   "cell_type": "code",
   "execution_count": 5,
   "metadata": {},
   "outputs": [],
   "source": [
    "syndata_means = mean_for_cols(syndata)\n",
    "realdata_means = mean_for_cols(realdata)"
   ]
  },
  {
   "cell_type": "markdown",
   "metadata": {},
   "source": [
    "clean() cleans the data by replacing any missing values and replaces them with -1 as well as changes all the datatypes to floats."
   ]
  },
  {
   "cell_type": "code",
   "execution_count": 6,
   "metadata": {},
   "outputs": [],
   "source": [
    "def clean(data1):\n",
    "    \"\"\"\n",
    "    Replaces the missing data with a -1 value and converts the strings into floats\n",
    "    \"\"\"\n",
    "    for i in range(len(data1)):\n",
    "        for f in data1.columns:\n",
    "            #print(data1.loc[i, f])\n",
    "            if data1.loc[i, f] == \"?\":\n",
    "                data1.loc[i, f] = float(-1)\n",
    "                continue\n",
    "            if isinstance(data1.loc[i, f], str):\n",
    "                data1.loc[i, f] = float(data1.loc[i, f])\n",
    "    data1 =data1.set_axis([f for f in range(len(data1))], axis='index')\n",
    "    #print(data1.dtypes)\n",
    "    return data1.astype('float')"
   ]
  },
  {
   "cell_type": "code",
   "execution_count": 7,
   "metadata": {},
   "outputs": [],
   "source": [
    "#Back up of the data\n",
    "syndata_safe = syndata \n",
    "realdata_safe = realdata\n",
    "\n",
    "realdata_clean = clean(realdata)\n",
    "syndata_clean = clean(syndata)\n",
    "\n",
    "realdata = realdata_safe\n",
    "syndata = syndata_safe"
   ]
  },
  {
   "cell_type": "markdown",
   "metadata": {},
   "source": [
    "norm() computes the min-max norm"
   ]
  },
  {
   "cell_type": "code",
   "execution_count": 8,
   "metadata": {},
   "outputs": [],
   "source": [
    "def norm(data1):\n",
    "    \"\"\"\n",
    "    Min-Max normalizes the data\n",
    "    \"\"\"\n",
    "    new_dat = data1.copy()\n",
    "    for col in new_dat.columns:\n",
    "        new_dat[col] = (new_dat[col] - new_dat[col].min()) / (new_dat[col].max() - new_dat[col].min())\n",
    "    return new_dat"
   ]
  },
  {
   "cell_type": "code",
   "execution_count": 9,
   "metadata": {},
   "outputs": [],
   "source": [
    "#For syndata\n",
    "syndata_clean_norm = norm(syndata_clean)\n",
    "#For realdata\n",
    "realdata_clean_norm = norm(realdata_clean)"
   ]
  },
  {
   "cell_type": "code",
   "execution_count": 10,
   "metadata": {},
   "outputs": [
    {
     "data": {
      "text/plain": [
       "(False, False)"
      ]
     },
     "execution_count": 10,
     "metadata": {},
     "output_type": "execute_result"
    }
   ],
   "source": [
    "syndata_clean_norm = syndata_clean_norm.fillna(-1)\n",
    "realdata_clean_norm = realdata_clean_norm.fillna(-1)\n",
    "#They both should be False, this is important\n",
    "syndata_clean_norm.isnull().values.any(), realdata_clean_norm.isnull().values.any()"
   ]
  },
  {
   "cell_type": "markdown",
   "metadata": {},
   "source": [
    "## Weights"
   ]
  },
  {
   "cell_type": "code",
   "execution_count": 11,
   "metadata": {},
   "outputs": [],
   "source": [
    "#We start of by getting the column names\n",
    "#print(realdata_clean_norm.columns)\n",
    "#print(syndata_clean_norm.columns)"
   ]
  },
  {
   "cell_type": "code",
   "execution_count": 12,
   "metadata": {},
   "outputs": [],
   "source": [
    "#They're the same so we use 1 single column array\n",
    "cols = ['Age', 'Number of sexual partners', 'First sexual intercourse',\n",
    "       'Num of pregnancies', 'Smokes', 'Smokes (years)', 'Smokes (packs/year)',\n",
    "       'Hormonal Contraceptives', 'Hormonal Contraceptives (years)', 'IUD',\n",
    "       'IUD (years)', 'STDs', 'STDs (number)', 'STDs:condylomatosis',\n",
    "       'STDs:cervical condylomatosis', 'STDs:vaginal condylomatosis',\n",
    "       'STDs:vulvo-perineal condylomatosis', 'STDs:syphilis',\n",
    "       'STDs:pelvic inflammatory disease', 'STDs:genital herpes',\n",
    "       'STDs:molluscum contagiosum', 'STDs:AIDS', 'STDs:HIV',\n",
    "       'STDs:Hepatitis B', 'STDs:HPV', 'STDs: Number of diagnosis',\n",
    "       'STDs: Time since first diagnosis', 'STDs: Time since last diagnosis',\n",
    "       'Dx:Cancer', 'Dx:CIN', 'Dx:HPV', 'Dx', 'Hinselmann', 'Schiller',\n",
    "       'Citology', 'Biopsy']\n",
    "\n",
    "#Init\n",
    "real_weights =[1,1,1,1,1,1,1,1,1,1,1,1,1,1,1,\n",
    "    1,1,1,1,1,1,1,1,1,1,1,1,1,1,1,1,1,1,1,1,1]\n",
    "syn_weights =[1,1,1,1,1,1,1,1,1,1,1,1,1,1,1,\n",
    "    1,1,1,1,1,1,1,1,1,1,1,1,1,1,1,1,1,1,1,1,1]\n",
    "test_weights =[1,1,1,1,1,1,1,1,1,1,1,1,1,1,1,\n",
    "    1,1,1,1,1,1,1,1,1,1,1,1,1,1,1,1,1,1,1,1,1]\n",
    "\n",
    "high_weights =['Age', 'Number of sexual partners', 'First sexual intercourse',\n",
    "       'Num of pregnancies', 'Smokes']\n",
    "med_weights =['Smokes (years)', 'Smokes (packs/year)',\n",
    "       'Hormonal Contraceptives', 'Hormonal Contraceptives (years)', 'IUD',\n",
    "       'IUD (years)', 'STDs', 'STDs (number)', 'STDs:condylomatosis',\n",
    "       'STDs:cervical condylomatosis']\n",
    "low_weights =['STDs:vaginal condylomatosis',\n",
    "       'STDs:vulvo-perineal condylomatosis', 'STDs:syphilis',\n",
    "       'STDs:pelvic inflammatory disease', 'STDs:genital herpes',\n",
    "       'STDs:molluscum contagiosum', 'STDs:AIDS', 'STDs:HIV',\n",
    "       'STDs:Hepatitis B', 'STDs:HPV', 'STDs: Number of diagnosis',\n",
    "       'STDs: Time since first diagnosis', 'STDs: Time since last diagnosis',\n",
    "       'Dx:Cancer', 'Dx:CIN', 'Dx:HPV', 'Dx', 'Hinselmann', 'Schiller',\n",
    "       'Citology', 'Biopsy']\n",
    "\n",
    "for i in range(len(cols)):\n",
    "    if cols[i] in high_weights:\n",
    "        real_weights[i] = 3\n",
    "        syn_weights[i] = 3\n",
    "    if cols[i] in med_weights:\n",
    "        real_weights[i] = 2\n",
    "        syn_weights[i] = 2\n",
    "    if cols[i] in low_weights:\n",
    "        real_weights[i] = 1\n",
    "        syn_weights[i] = 1"
   ]
  },
  {
   "cell_type": "markdown",
   "metadata": {},
   "source": [
    "## Comparison Function\n",
    "The comparison function is the main function that compares the data. It compares all the synthetic data to one specific row of the real data and creates an array of the most similar matches.\n",
    "\n",
    "We also compute the values without using the functions."
   ]
  },
  {
   "cell_type": "code",
   "execution_count": 13,
   "metadata": {},
   "outputs": [],
   "source": [
    "def compare(data1, data2, row_comp, weights, mini=False):\n",
    "    \"\"\"\n",
    "    This is a comparsion function  \n",
    "    data1: First dataset for comparsion, 1 set row\n",
    "    data2: Second dataset for comparsion\n",
    "    row_comp: The row we want compared\n",
    "    mini: Chooses if the function returns the minimum value or not\n",
    "    \"\"\"\n",
    "    #Goes for 1 section of the real data and then loops for every row of the synthesized data\n",
    "    lst = []\n",
    "    for i in range(len(data2)):\n",
    "        #print('Real data: ' + str(data1.loc[row_comp, \"Age\"]) + '. Fake data: ' +str(data2.loc[i, 'Age']))\n",
    "        #Comparsion function to compare each the set real row to current fake row\n",
    "        lst.append(similiar(data1, data2, i, row_comp, weights))\n",
    "    if mini:\n",
    "        lst = min(lst)\n",
    "    return lst\n",
    "\n",
    "def similiar(data1, data2, ind, row_comp, weights):\n",
    "    \"\"\"\n",
    "    Computes how similiar the two datasets are \n",
    "    \"\"\"\n",
    "    score = 0\n",
    "    for i in range(len(data1.columns)):\n",
    "        score = score + (abs(data1.loc[row_comp,:][i] - data2.loc[ind,:][i]) * weights[i])\n",
    "        #print(data1.loc[row_comp,:] - data2.loc[ind,:])\n",
    "    return score "
   ]
  },
  {
   "cell_type": "markdown",
   "metadata": {},
   "source": [
    "Calling each columns with [,:] and then indexing into it with [i]\n",
    "\n",
    "\n",
    "We don't need to compare element by element, we can do a vector comparison. \n",
    "\n",
    "\n",
    ".* for element by element for 2 vectors\n",
    "\n",
    "\n",
    "Or use matrix multiplication (might need to transpose weights)\n",
    "\n",
    "\n"
   ]
  },
  {
   "cell_type": "code",
   "execution_count": 14,
   "metadata": {},
   "outputs": [],
   "source": [
    "compare_arr = compare(realdata_clean_norm,syndata_clean_norm, 0, test_weights)"
   ]
  },
  {
   "cell_type": "code",
   "execution_count": 15,
   "metadata": {},
   "outputs": [],
   "source": [
    "big_comp = []"
   ]
  },
  {
   "cell_type": "code",
   "execution_count": 16,
   "metadata": {},
   "outputs": [],
   "source": [
    "for i in range(len(realdata_clean_norm)):\n",
    "    x = compare(realdata_clean_norm,syndata_clean_norm, i, test_weights)\n",
    "    big_comp.append(x)"
   ]
  },
  {
   "cell_type": "code",
   "execution_count": null,
   "metadata": {},
   "outputs": [],
   "source": [
    "ival = []\n",
    "for i in range(5000):\n",
    "    ival.append(i)"
   ]
  },
  {
   "cell_type": "code",
   "execution_count": null,
   "metadata": {},
   "outputs": [
    {
     "data": {
      "text/plain": [
       "Age                                   19.0\n",
       "Number of sexual partners              2.0\n",
       "First sexual intercourse              18.0\n",
       "Num of pregnancies                     4.0\n",
       "Smokes                                 0.0\n",
       "Smokes (years)                         0.0\n",
       "Smokes (packs/year)                    0.0\n",
       "Hormonal Contraceptives                0.0\n",
       "Hormonal Contraceptives (years)        2.0\n",
       "IUD                                    2.0\n",
       "IUD (years)                            0.0\n",
       "STDs                                   0.0\n",
       "STDs (number)                          0.0\n",
       "STDs:condylomatosis                    0.0\n",
       "STDs:cervical condylomatosis           0.0\n",
       "STDs:vaginal condylomatosis            0.0\n",
       "STDs:vulvo-perineal condylomatosis     0.0\n",
       "STDs:syphilis                          0.0\n",
       "STDs:pelvic inflammatory disease       0.0\n",
       "STDs:genital herpes                   -1.0\n",
       "STDs:molluscum contagiosum            -1.0\n",
       "STDs:AIDS                             -1.0\n",
       "STDs:HIV                              -1.0\n",
       "STDs:Hepatitis B                       0.0\n",
       "STDs:HPV                               0.0\n",
       "STDs: Number of diagnosis             -1.0\n",
       "STDs: Time since first diagnosis      -1.0\n",
       "STDs: Time since last diagnosis       -1.0\n",
       "Dx:Cancer                              0.0\n",
       "Dx:CIN                                 0.0\n",
       "Dx:HPV                                 0.0\n",
       "Dx                                     0.0\n",
       "Hinselmann                             0.0\n",
       "Schiller                               0.0\n",
       "Citology                               0.0\n",
       "Biopsy                                 0.0\n",
       "Name: 509, dtype: float64"
      ]
     },
     "execution_count": 17,
     "metadata": {},
     "output_type": "execute_result"
    }
   ],
   "source": [
    "min(compare_arr)\n",
    "compare_arr.index(18.114858335405216)\n",
    "syndata_clean.iloc[509, :]"
   ]
  },
  {
   "cell_type": "code",
   "execution_count": null,
   "metadata": {},
   "outputs": [
    {
     "data": {
      "text/plain": [
       "'\\n#How to access the number from a specific column and row\\nsyndata_clean_norm.loc[0,:\"Age\"][0]\\n#Goes through each column iteritvely of the synthetic data row that\\'s closest with the first row of the real data\\nfor i in range(36):\\n    print(\"Fake: \" + str(syndata.iloc[509][i]) + \". Real: \" + str(realdata.iloc[0][i]))\\n#How to find the minimium of the compare_arr and figure out the location \\nmin(compare_arr)\\ncompare_arr.index(18.114858335405216)\\n'"
      ]
     },
     "execution_count": 18,
     "metadata": {},
     "output_type": "execute_result"
    }
   ],
   "source": [
    "\"\"\"\n",
    "#How to access the number from a specific column and row\n",
    "syndata_clean_norm.loc[0,:\"Age\"][0]\n",
    "#Goes through each column iteritvely of the synthetic data row that's closest with the first row of the real data\n",
    "for i in range(36):\n",
    "    print(\"Fake: \" + str(syndata.iloc[509][i]) + \". Real: \" + str(realdata.iloc[0][i]))\n",
    "#How to find the minimium of the compare_arr and figure out the location \n",
    "min(compare_arr)\n",
    "compare_arr.index(18.114858335405216)\n",
    "\"\"\""
   ]
  },
  {
   "cell_type": "code",
   "execution_count": null,
   "metadata": {},
   "outputs": [],
   "source": [
    "score = 0\n",
    "for i in range(len(syndata_clean_norm.columns)):\n",
    "    #print(realdata_clean_naorm.loc[0,:])\n",
    "    score = score + ((realdata_clean_norm.loc[0,:][i] - syndata_clean_norm.loc[0,:][i])) #* weights[i])\n",
    "\n",
    "sy = [12,2,12,3,0,0,0,0,0,2,0,0,0,0,0,0,0,0,0,0,0,0,0,0,0,0,0,0,0,0,0,0,0,0,0,0]\n",
    "re = [18,4.0,15.0,1.0,0.0,0.0,0.0,0.0,0.0,0.0,0.0,0.0,0.0,0.0,0.0,0.0,0.0,0.0,0.0,0.0,0.0,0.0,0.0,0.0,0.0,0,-1,-1,0,0,0,0,0,0,0,0]\n",
    "ar = [syndata_clean_norm.loc[0,:][i] for i in range(len(syndata.columns))]\n",
    "ar2 = [realdata_clean_norm.loc[0,:][i] for i in range(len(syndata.columns))]\n",
    "\n",
    "sum = 0\n",
    "for i in range(len(sy)):\n",
    "    sum = sum + abs(ar2[i] - ar[i])\n",
    "    \n",
    "assert sum == compare_arr[0], \"Not working\""
   ]
  },
  {
   "cell_type": "markdown",
   "metadata": {},
   "source": [
    "## Ranking\n",
    "Now that we've made the comparison function, we need a function that creates a threshold that decides if the data is similar enough"
   ]
  },
  {
   "cell_type": "code",
   "execution_count": null,
   "metadata": {},
   "outputs": [],
   "source": [
    "def Average(l):\n",
    "    result = 0\n",
    "    for i in range(len(l)):\n",
    "        result = result + l[0]\n",
    "    result = result/len(l)\n",
    "    return result"
   ]
  },
  {
   "cell_type": "code",
   "execution_count": null,
   "metadata": {},
   "outputs": [
    {
     "data": {
      "text/plain": [
       "(19.036979572207443, 18.114858335405216, 25.965573953922693)"
      ]
     },
     "execution_count": 21,
     "metadata": {},
     "output_type": "execute_result"
    }
   ],
   "source": [
    "compare_arr_avg = Average(compare_arr)\n",
    "compare_arr_avg, min(compare_arr), max(compare_arr)"
   ]
  }
 ],
 "metadata": {
  "interpreter": {
   "hash": "84acd9daa1976748b0cb1aac2d1d7e831b987877e0682bbd8df981985727d27e"
  },
  "kernelspec": {
   "display_name": "Python 3.10.2 64-bit",
   "language": "python",
   "name": "python3"
  },
  "language_info": {
   "codemirror_mode": {
    "name": "ipython",
    "version": 3
   },
   "file_extension": ".py",
   "mimetype": "text/x-python",
   "name": "python",
   "nbconvert_exporter": "python",
   "pygments_lexer": "ipython3",
   "version": "3.10.2"
  },
  "orig_nbformat": 4
 },
 "nbformat": 4,
 "nbformat_minor": 2
}
