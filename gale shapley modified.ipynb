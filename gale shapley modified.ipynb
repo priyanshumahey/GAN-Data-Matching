{
 "cells": [
  {
   "cell_type": "markdown",
   "metadata": {},
   "source": [
    "# Modified Gale Shapley Algorithm for Generative Data Comparison"
   ]
  },
  {
   "cell_type": "markdown",
   "metadata": {},
   "source": [
    "## Set-Up\n",
    "We'll primarily using pandas to work with the data. We start off by importing pandas and importing the data as a pandas dataframe."
   ]
  },
  {
   "cell_type": "code",
   "execution_count": 14,
   "metadata": {},
   "outputs": [],
   "source": [
    "import pandas as pd\n",
    "import numpy as np\n",
    "import numpy as np\n",
    "import matplotlib as mpl\n",
    "import matplotlib.pyplot as plt"
   ]
  },
  {
   "cell_type": "code",
   "execution_count": 29,
   "metadata": {},
   "outputs": [],
   "source": [
    "syndata = pd.read_csv('synData9.csv')\n",
    "realdata = pd.read_csv('kag_risk_factors_cervical_cancer.csv')"
   ]
  },
  {
   "cell_type": "code",
   "execution_count": 31,
   "metadata": {},
   "outputs": [
    {
     "data": {
      "text/plain": [
       "Age                                    int64\n",
       "Number of sexual partners             object\n",
       "First sexual intercourse              object\n",
       "Num of pregnancies                    object\n",
       "Smokes                                object\n",
       "Smokes (years)                        object\n",
       "Smokes (packs/year)                   object\n",
       "Hormonal Contraceptives               object\n",
       "Hormonal Contraceptives (years)       object\n",
       "IUD                                   object\n",
       "IUD (years)                           object\n",
       "STDs                                  object\n",
       "STDs (number)                         object\n",
       "STDs:condylomatosis                   object\n",
       "STDs:cervical condylomatosis          object\n",
       "STDs:vaginal condylomatosis           object\n",
       "STDs:vulvo-perineal condylomatosis    object\n",
       "STDs:syphilis                         object\n",
       "STDs:pelvic inflammatory disease      object\n",
       "STDs:genital herpes                   object\n",
       "STDs:molluscum contagiosum            object\n",
       "STDs:AIDS                             object\n",
       "STDs:HIV                              object\n",
       "STDs:Hepatitis B                      object\n",
       "STDs:HPV                              object\n",
       "STDs: Number of diagnosis              int64\n",
       "STDs: Time since first diagnosis      object\n",
       "STDs: Time since last diagnosis       object\n",
       "Dx:Cancer                              int64\n",
       "Dx:CIN                                 int64\n",
       "Dx:HPV                                 int64\n",
       "Dx                                     int64\n",
       "Hinselmann                             int64\n",
       "Schiller                               int64\n",
       "Citology                               int64\n",
       "Biopsy                                 int64\n",
       "dtype: object"
      ]
     },
     "execution_count": 31,
     "metadata": {},
     "output_type": "execute_result"
    }
   ],
   "source": [
    "realdata.dtypes"
   ]
  },
  {
   "cell_type": "code",
   "execution_count": 32,
   "metadata": {},
   "outputs": [],
   "source": [
    "# impute nan instead of ? in the missing values\n",
    "temp_data = realdata\n",
    "temp_data[temp_data == '?'] = np.nan"
   ]
  },
  {
   "cell_type": "code",
   "execution_count": 38,
   "metadata": {},
   "outputs": [],
   "source": [
    "# convert the object types into float\n",
    "for i in temp_data.columns:\n",
    "    if(temp_data[i].dtype == 'O'):\n",
    "        temp_data[i] = temp_data[i].astype('float')\n",
    "        \n"
   ]
  },
  {
   "cell_type": "code",
   "execution_count": 46,
   "metadata": {},
   "outputs": [
    {
     "data": {
      "text/plain": [
       "25.0"
      ]
     },
     "execution_count": 46,
     "metadata": {},
     "output_type": "execute_result"
    }
   ],
   "source": [
    "age_imp = temp_data['Age'].median()\n",
    "\n",
    "temp_data.fillna(age_imp, inplace=True)\n",
    "\n",
    "# columns needing median imputation\n",
    "age, number of sex partners, first sexual intercourse, number of preg, , smokes(years), smokes (packer/ year), \n",
    "\n",
    "# columns needing major imputation\n",
    "smokes"
   ]
  },
  {
   "cell_type": "code",
   "execution_count": 47,
   "metadata": {},
   "outputs": [
    {
     "data": {
      "text/plain": [
       "Index(['Age', 'Number of sexual partners', 'First sexual intercourse',\n",
       "       'Num of pregnancies', 'Smokes', 'Smokes (years)', 'Smokes (packs/year)',\n",
       "       'Hormonal Contraceptives', 'Hormonal Contraceptives (years)', 'IUD',\n",
       "       'IUD (years)', 'STDs', 'STDs (number)', 'STDs:condylomatosis',\n",
       "       'STDs:cervical condylomatosis', 'STDs:vaginal condylomatosis',\n",
       "       'STDs:vulvo-perineal condylomatosis', 'STDs:syphilis',\n",
       "       'STDs:pelvic inflammatory disease', 'STDs:genital herpes',\n",
       "       'STDs:molluscum contagiosum', 'STDs:AIDS', 'STDs:HIV',\n",
       "       'STDs:Hepatitis B', 'STDs:HPV', 'STDs: Number of diagnosis',\n",
       "       'STDs: Time since first diagnosis', 'STDs: Time since last diagnosis',\n",
       "       'Dx:Cancer', 'Dx:CIN', 'Dx:HPV', 'Dx', 'Hinselmann', 'Schiller',\n",
       "       'Citology', 'Biopsy'],\n",
       "      dtype='object')"
      ]
     },
     "execution_count": 47,
     "metadata": {},
     "output_type": "execute_result"
    }
   ],
   "source": [
    "temp_data.columns"
   ]
  },
  {
   "cell_type": "code",
   "execution_count": 41,
   "metadata": {},
   "outputs": [
    {
     "data": {
      "text/plain": [
       "array([[<AxesSubplot:title={'center':'Age'}>,\n",
       "        <AxesSubplot:title={'center':'Number of sexual partners'}>,\n",
       "        <AxesSubplot:title={'center':'First sexual intercourse'}>,\n",
       "        <AxesSubplot:title={'center':'Num of pregnancies'}>,\n",
       "        <AxesSubplot:title={'center':'Smokes'}>,\n",
       "        <AxesSubplot:title={'center':'Smokes (years)'}>],\n",
       "       [<AxesSubplot:title={'center':'Smokes (packs/year)'}>,\n",
       "        <AxesSubplot:title={'center':'Hormonal Contraceptives'}>,\n",
       "        <AxesSubplot:title={'center':'Hormonal Contraceptives (years)'}>,\n",
       "        <AxesSubplot:title={'center':'IUD'}>,\n",
       "        <AxesSubplot:title={'center':'IUD (years)'}>,\n",
       "        <AxesSubplot:title={'center':'STDs'}>],\n",
       "       [<AxesSubplot:title={'center':'STDs (number)'}>,\n",
       "        <AxesSubplot:title={'center':'STDs:condylomatosis'}>,\n",
       "        <AxesSubplot:title={'center':'STDs:cervical condylomatosis'}>,\n",
       "        <AxesSubplot:title={'center':'STDs:vaginal condylomatosis'}>,\n",
       "        <AxesSubplot:title={'center':'STDs:vulvo-perineal condylomatosis'}>,\n",
       "        <AxesSubplot:title={'center':'STDs:syphilis'}>],\n",
       "       [<AxesSubplot:title={'center':'STDs:pelvic inflammatory disease'}>,\n",
       "        <AxesSubplot:title={'center':'STDs:genital herpes'}>,\n",
       "        <AxesSubplot:title={'center':'STDs:molluscum contagiosum'}>,\n",
       "        <AxesSubplot:title={'center':'STDs:AIDS'}>,\n",
       "        <AxesSubplot:title={'center':'STDs:HIV'}>,\n",
       "        <AxesSubplot:title={'center':'STDs:Hepatitis B'}>],\n",
       "       [<AxesSubplot:title={'center':'STDs:HPV'}>,\n",
       "        <AxesSubplot:title={'center':'STDs: Number of diagnosis'}>,\n",
       "        <AxesSubplot:title={'center':'STDs: Time since first diagnosis'}>,\n",
       "        <AxesSubplot:title={'center':'STDs: Time since last diagnosis'}>,\n",
       "        <AxesSubplot:title={'center':'Dx:Cancer'}>,\n",
       "        <AxesSubplot:title={'center':'Dx:CIN'}>],\n",
       "       [<AxesSubplot:title={'center':'Dx:HPV'}>,\n",
       "        <AxesSubplot:title={'center':'Dx'}>,\n",
       "        <AxesSubplot:title={'center':'Hinselmann'}>,\n",
       "        <AxesSubplot:title={'center':'Schiller'}>,\n",
       "        <AxesSubplot:title={'center':'Citology'}>,\n",
       "        <AxesSubplot:title={'center':'Biopsy'}>]], dtype=object)"
      ]
     },
     "execution_count": 41,
     "metadata": {},
     "output_type": "execute_result"
    },
    {
     "data": {
      "image/png": "[encoded data removed]",
      "text/plain": [
       "<Figure size 1800x1080 with 36 Axes>"
      ]
     },
     "metadata": {
      "needs_background": "light"
     },
     "output_type": "display_data"
    }
   ],
   "source": [
    "# Rama's code\n",
    "temp_data.hist(figsize=(25,15))"
   ]
  },
  {
   "cell_type": "code",
   "execution_count": null,
   "metadata": {},
   "outputs": [],
   "source": []
  },
  {
   "cell_type": "code",
   "execution_count": null,
   "metadata": {},
   "outputs": [],
   "source": []
  },
  {
   "cell_type": "code",
   "execution_count": 16,
   "metadata": {},
   "outputs": [
    {
     "data": {
      "text/plain": [
       "'Age'"
      ]
     },
     "execution_count": 16,
     "metadata": {},
     "output_type": "execute_result"
    }
   ],
   "source": [
    "syndata.iloc[0] #Use this to access a row\n",
    "syndata.loc[0, : ] #Use this to access a row\n",
    "x = syndata.loc[0,\"Age\"] #Use this to access a column\n",
    "syndata.columns[0]"
   ]
  },
  {
   "cell_type": "markdown",
   "metadata": {},
   "source": [
    "## Information about the dataset"
   ]
  },
  {
   "cell_type": "code",
   "execution_count": 28,
   "metadata": {},
   "outputs": [
    {
     "data": {
      "text/plain": [
       "array([[<AxesSubplot:title={'center':'Age'}>,\n",
       "        <AxesSubplot:title={'center':'Number of sexual partners'}>,\n",
       "        <AxesSubplot:title={'center':'First sexual intercourse'}>,\n",
       "        <AxesSubplot:title={'center':'Num of pregnancies'}>,\n",
       "        <AxesSubplot:title={'center':'Smokes'}>,\n",
       "        <AxesSubplot:title={'center':'Smokes (years)'}>],\n",
       "       [<AxesSubplot:title={'center':'Smokes (packs/year)'}>,\n",
       "        <AxesSubplot:title={'center':'Hormonal Contraceptives'}>,\n",
       "        <AxesSubplot:title={'center':'Hormonal Contraceptives (years)'}>,\n",
       "        <AxesSubplot:title={'center':'IUD'}>,\n",
       "        <AxesSubplot:title={'center':'IUD (years)'}>,\n",
       "        <AxesSubplot:title={'center':'STDs'}>],\n",
       "       [<AxesSubplot:title={'center':'STDs (number)'}>,\n",
       "        <AxesSubplot:title={'center':'STDs:condylomatosis'}>,\n",
       "        <AxesSubplot:title={'center':'STDs:cervical condylomatosis'}>,\n",
       "        <AxesSubplot:title={'center':'STDs:vaginal condylomatosis'}>,\n",
       "        <AxesSubplot:title={'center':'STDs:vulvo-perineal condylomatosis'}>,\n",
       "        <AxesSubplot:title={'center':'STDs:syphilis'}>],\n",
       "       [<AxesSubplot:title={'center':'STDs:pelvic inflammatory disease'}>,\n",
       "        <AxesSubplot:title={'center':'STDs:genital herpes'}>,\n",
       "        <AxesSubplot:title={'center':'STDs:molluscum contagiosum'}>,\n",
       "        <AxesSubplot:title={'center':'STDs:AIDS'}>,\n",
       "        <AxesSubplot:title={'center':'STDs:HIV'}>,\n",
       "        <AxesSubplot:title={'center':'STDs:Hepatitis B'}>],\n",
       "       [<AxesSubplot:title={'center':'STDs:HPV'}>,\n",
       "        <AxesSubplot:title={'center':'STDs: Number of diagnosis'}>,\n",
       "        <AxesSubplot:title={'center':'STDs: Time since first diagnosis'}>,\n",
       "        <AxesSubplot:title={'center':'STDs: Time since last diagnosis'}>,\n",
       "        <AxesSubplot:title={'center':'Dx:Cancer'}>,\n",
       "        <AxesSubplot:title={'center':'Dx:CIN'}>],\n",
       "       [<AxesSubplot:title={'center':'Dx:HPV'}>,\n",
       "        <AxesSubplot:title={'center':'Dx'}>,\n",
       "        <AxesSubplot:title={'center':'Hinselmann'}>,\n",
       "        <AxesSubplot:title={'center':'Schiller'}>,\n",
       "        <AxesSubplot:title={'center':'Citology'}>,\n",
       "        <AxesSubplot:title={'center':'Biopsy'}>]], dtype=object)"
      ]
     },
     "execution_count": 28,
     "metadata": {},
     "output_type": "execute_result"
    },
    {
     "data": {
      "image/png": "[encoded data removed]",
      "text/plain": [
       "<Figure size 1800x1080 with 36 Axes>"
      ]
     },
     "metadata": {
      "needs_background": "light"
     },
     "output_type": "display_data"
    }
   ],
   "source": [
    "realdata_clean.hist(figsize=(25,15))"
   ]
  },
  {
   "cell_type": "markdown",
   "metadata": {},
   "source": [
    "## Data Cleaning and Helper Functions\n",
    "We need to clean up the data before we use it. Primarily, this means we will need to do some normalization to the data."
   ]
  },
  {
   "cell_type": "markdown",
   "metadata": {},
   "source": [
    "One important thing we may need later on is the means for each of the columns. First, we compute mean for the raw data."
   ]
  },
  {
   "cell_type": "code",
   "execution_count": 17,
   "metadata": {},
   "outputs": [],
   "source": [
    "def mean_for_column(data1, column):\n",
    "    \"\"\"\n",
    "    Finds the mean for a specific column\n",
    "    \"\"\"\n",
    "    tot = 0 \n",
    "    for i in range(len(data1)):\n",
    "        #print(data1.loc[i, column])\n",
    "        if data1.loc[i, column] == \"?\" or data1.loc[i, column] == -1:\n",
    "            pass\n",
    "        else:\n",
    "            tot = tot + float(data1.loc[i, column])\n",
    "    tot = tot/(len(data1))\n",
    "    return tot\n",
    "    \n",
    "def mean_for_cols(data1):\n",
    "    \"\"\"\n",
    "    Computes the mean for all the columns \n",
    "    \"\"\"\n",
    "    ar = []\n",
    "    for col in data1.columns: \n",
    "        ar.append(mean_for_column(data1, col))\n",
    "    return ar\n",
    "    \n",
    "def clean(data1):\n",
    "    \"\"\"\n",
    "    Replaces the missing data with a -1 value and converts the strings into floats\n",
    "    \"\"\"\n",
    "    for i in range(len(data1)):\n",
    "        for f in data1.columns:\n",
    "            #print(data1.loc[i, f])\n",
    "            if data1.loc[i, f] == \"?\":\n",
    "                data1.loc[i, f] = float(-1)\n",
    "                continue \n",
    "            if isinstance(data1.loc[i, f], str):\n",
    "                data1.loc[i, f] = float(data1.loc[i, f])\n",
    "    data1 =data1.set_axis([f for f in range(len(data1))], axis='index')\n",
    "    #print(data1.dtypes)\n",
    "    return data1.astype('float')\n",
    "    \n",
    "def norm(data1):\n",
    "    \"\"\"\n",
    "    Min-Max normalizes the data\n",
    "    \"\"\"\n",
    "    new_dat = data1.copy()\n",
    "    for col in new_dat.columns:\n",
    "        new_dat[col] = (new_dat[col] - new_dat[col].min()) / (new_dat[col].max() - new_dat[col].min())\n",
    "    return new_dat"
   ]
  },
  {
   "cell_type": "code",
   "execution_count": 18,
   "metadata": {},
   "outputs": [
    {
     "data": {
      "text/plain": [
       "(False, False)"
      ]
     },
     "execution_count": 18,
     "metadata": {},
     "output_type": "execute_result"
    }
   ],
   "source": [
    "syndata_means = mean_for_cols(syndata)\n",
    "realdata_means = mean_for_cols(realdata)\n",
    "\n",
    "#Back up of the data\n",
    "syndata_safe = syndata \n",
    "realdata_safe = realdata\n",
    "\n",
    "realdata_clean = clean(realdata)\n",
    "syndata_clean = clean(syndata)\n",
    "\n",
    "realdata = realdata_safe\n",
    "syndata = syndata_safe\n",
    "\n",
    "\n",
    "#For syndata\n",
    "syndata_clean_norm = norm(syndata_clean)\n",
    "#For realdata\n",
    "realdata_clean_norm = norm(realdata_clean)\n",
    "\n",
    "syndata_clean_norm = syndata_clean_norm.fillna(-1)\n",
    "realdata_clean_norm = realdata_clean_norm.fillna(-1)\n",
    "#They both should be False, this is important\n",
    "syndata_clean_norm.isnull().values.any(), realdata_clean_norm.isnull().values.any()"
   ]
  },
  {
   "cell_type": "markdown",
   "metadata": {},
   "source": [
    "## Weights"
   ]
  },
  {
   "cell_type": "code",
   "execution_count": 19,
   "metadata": {},
   "outputs": [],
   "source": [
    "#We start of by getting the column names\n",
    "#print(realdata_clean_norm.columns)\n",
    "#print(syndata_clean_norm.columns)"
   ]
  },
  {
   "cell_type": "code",
   "execution_count": 20,
   "metadata": {},
   "outputs": [],
   "source": [
    "#They're the same so we use 1 single column array\n",
    "cols = ['Age', 'Number of sexual partners', 'First sexual intercourse',\n",
    "       'Num of pregnancies', 'Smokes', 'Smokes (years)', 'Smokes (packs/year)',\n",
    "       'Hormonal Contraceptives', 'Hormonal Contraceptives (years)', 'IUD',\n",
    "       'IUD (years)', 'STDs', 'STDs (number)', 'STDs:condylomatosis',\n",
    "       'STDs:cervical condylomatosis', 'STDs:vaginal condylomatosis',\n",
    "       'STDs:vulvo-perineal condylomatosis', 'STDs:syphilis',\n",
    "       'STDs:pelvic inflammatory disease', 'STDs:genital herpes',\n",
    "       'STDs:molluscum contagiosum', 'STDs:AIDS', 'STDs:HIV',\n",
    "       'STDs:Hepatitis B', 'STDs:HPV', 'STDs: Number of diagnosis',\n",
    "       'STDs: Time since first diagnosis', 'STDs: Time since last diagnosis',\n",
    "       'Dx:Cancer', 'Dx:CIN', 'Dx:HPV', 'Dx', 'Hinselmann', 'Schiller',\n",
    "       'Citology', 'Biopsy']\n",
    "\n",
    "#Init\n",
    "real_weights =[1,1,1,1,1,1,1,1,1,1,1,1,1,1,1,\n",
    "    1,1,1,1,1,1,1,1,1,1,1,1,1,1,1,1,1,1,1,1,1]\n",
    "syn_weights =[1,1,1,1,1,1,1,1,1,1,1,1,1,1,1,\n",
    "    1,1,1,1,1,1,1,1,1,1,1,1,1,1,1,1,1,1,1,1,1]\n",
    "test_weights =[1,1,1,1,1,1,1,1,1,1,1,1,1,1,1,\n",
    "    1,1,1,1,1,1,1,1,1,1,1,1,1,1,1,1,1,1,1,1,1]\n",
    "    \n",
    "high_weights =['Age', 'Number of sexual partners', 'First sexual intercourse',\n",
    "       'Num of pregnancies', 'Smokes']\n",
    "med_weights =['Smokes (years)', 'Smokes (packs/year)',\n",
    "       'Hormonal Contraceptives', 'Hormonal Contraceptives (years)', 'IUD',\n",
    "       'IUD (years)', 'STDs', 'STDs (number)', 'STDs:condylomatosis',\n",
    "       'STDs:cervical condylomatosis']\n",
    "low_weights =['STDs:vaginal condylomatosis',\n",
    "       'STDs:vulvo-perineal condylomatosis', 'STDs:syphilis',\n",
    "       'STDs:pelvic inflammatory disease', 'STDs:genital herpes',\n",
    "       'STDs:molluscum contagiosum', 'STDs:AIDS', 'STDs:HIV',\n",
    "       'STDs:Hepatitis B', 'STDs:HPV', 'STDs: Number of diagnosis',\n",
    "       'STDs: Time since first diagnosis', 'STDs: Time since last diagnosis',\n",
    "       'Dx:Cancer', 'Dx:CIN', 'Dx:HPV', 'Dx', 'Hinselmann', 'Schiller',\n",
    "       'Citology', 'Biopsy']\n",
    "\n",
    "for i in range(len(cols)):\n",
    "    if cols[i] in high_weights:\n",
    "        real_weights[i] = 3\n",
    "        syn_weights[i] = 3\n",
    "    if cols[i] in med_weights:\n",
    "        real_weights[i] = 2\n",
    "        syn_weights[i] = 2\n",
    "    if cols[i] in low_weights:\n",
    "        real_weights[i] = 1\n",
    "        syn_weights[i] = 1"
   ]
  },
  {
   "cell_type": "markdown",
   "metadata": {},
   "source": [
    "## Comparison Function\n",
    "The comparison function is the main function that compares the data. It compares all the synthetic data to one specific row of the real data and creates an array of the most similar matches.\n",
    "\n",
    "We also compute the values without using the functions."
   ]
  },
  {
   "cell_type": "code",
   "execution_count": 21,
   "metadata": {},
   "outputs": [],
   "source": [
    "def compare(data1, data2, row_comp, weights, mini=False):\n",
    "    \"\"\"\n",
    "    This is a comparsion function  \n",
    "    data1: First dataset for comparsion, 1 set row\n",
    "    data2: Second dataset for comparsion\n",
    "    row_comp: The row we want compared\n",
    "    mini: Chooses if the function returns the minimum value or not\n",
    "    \"\"\"\n",
    "    #Goes for 1 section of the real data and then loops for every row of the synthesized data\n",
    "    lst = []\n",
    "    for i in range(len(data2)):\n",
    "        #print('Real data: ' + str(data1.loc[row_comp, \"Age\"]) + '. Fake data: ' +str(data2.loc[i, 'Age']))\n",
    "        #Comparsion function to compare each the set real row to current fake row\n",
    "        lst.append(similiar(data1, data2, i, row_comp, weights))\n",
    "    if mini:\n",
    "        lst = min(lst)\n",
    "    return lst\n",
    "\n",
    "def similiar(data1, data2, ind, row_comp, weights):\n",
    "    \"\"\"\n",
    "    Computes how similiar the two datasets are \n",
    "    \"\"\"\n",
    "    score = 0\n",
    "    for i in range(len(data1.columns)):\n",
    "        score = score + (abs(data1.loc[row_comp,:][i] - data2.loc[ind,:][i]) * weights[i])\n",
    "        #print(data1.loc[row_comp,:] - data2.loc[ind,:])\n",
    "    return score \n",
    "\n",
    "\n",
    "def compNew(data1, data2, row_comp, weights):\n",
    "    lst = []\n",
    "    \n",
    "    for i in range(len(data2)):\n",
    "        score = 0\n",
    "        for y in range(len(data1.columns)):\n",
    "            score = score + (abs(data1.loc[row_comp,:][y] - data2.loc[i,:][y]) * weights[y])\n",
    "        lst.append(score)\n",
    "    return lst"
   ]
  },
  {
   "cell_type": "code",
   "execution_count": null,
   "metadata": {},
   "outputs": [],
   "source": [
    "# haming distance for all the binary variables\n",
    "# binary variables need not be normalized\n",
    "# other variables should be normalized\n",
    "\n",
    "cont_columns = ['Age','Number of sexual partners']\n",
    "bin_columns = ['STD AIDS', 'Smokes']\n",
    "\n",
    "np.matmul((realdata_clean_norm.loc[0,:] - syndata_clean_norm.loc[0,:]), np.transpose(test_weights))\n",
    "\n",
    "weights_cont_cols = weights[indices of those columns]\n",
    "\n",
    "np.matmul(abs(syn_data[cont_columns] - real_data[cont_columns]))* np.transpose(weights_cont_cols)\n",
    "\n",
    "(N X 10 - N X 10)\n",
    "\n",
    "synd(1) reald(1)\n",
    "synd(1) reald(2)\n",
    "\n",
    "for i,row in synth_data.iterows():\n",
    "    #This currently accesses all of the rows in real data \n",
    "\n",
    "    # for each row in synthetic data, we will compute the distance with \"all\" the rows in real data\n",
    "    distance (N X 1)= np.matmul((abs(row - real_data[cont_columns])), np.transpose(weights_cont_cols))\n",
    "    # where N is the elements in real_data\n",
    "\n",
    "    np.transpose()\n",
    "\n"
   ]
  },
  {
   "cell_type": "code",
   "execution_count": 22,
   "metadata": {},
   "outputs": [
    {
     "data": {
      "text/plain": [
       "[3,\n",
       " 3,\n",
       " 3,\n",
       " 1,\n",
       " 1,\n",
       " 1,\n",
       " 1,\n",
       " 1,\n",
       " 1,\n",
       " 1,\n",
       " 1,\n",
       " 1,\n",
       " 1,\n",
       " 1,\n",
       " 1,\n",
       " 1,\n",
       " 1,\n",
       " 1,\n",
       " 1,\n",
       " 1,\n",
       " 1,\n",
       " 1,\n",
       " 1,\n",
       " 1,\n",
       " 1,\n",
       " 1,\n",
       " 1,\n",
       " 1,\n",
       " 1,\n",
       " 1,\n",
       " 1,\n",
       " 1,\n",
       " 1,\n",
       " 1,\n",
       " 1,\n",
       " 1]"
      ]
     },
     "execution_count": 22,
     "metadata": {},
     "output_type": "execute_result"
    }
   ],
   "source": [
    "test_weights"
   ]
  },
  {
   "cell_type": "code",
   "execution_count": 23,
   "metadata": {},
   "outputs": [
    {
     "data": {
      "text/plain": [
       "7.98009500392755"
      ]
     },
     "execution_count": 23,
     "metadata": {},
     "output_type": "execute_result"
    }
   ],
   "source": [
    "np.matmul((realdata_clean_norm.loc[0,:] - syndata_clean_norm.loc[0,:]), np.transpose(test_weights))"
   ]
  },
  {
   "cell_type": "code",
   "execution_count": 24,
   "metadata": {},
   "outputs": [
    {
     "data": {
      "text/plain": [
       "(50, 50)"
      ]
     },
     "execution_count": 24,
     "metadata": {},
     "output_type": "execute_result"
    }
   ],
   "source": [
    "#Data Splitting\n",
    "syndata_clean_norm_split = np.array_split(syndata_clean_norm, 100)\n",
    "realdata_clean_norm_split = np.array_split(realdata_clean_norm, 17)\n",
    "realsplit1 = realdata_clean_norm_split[0]\n",
    "synsplit1 = syndata_clean_norm_split[0]\n",
    "realsplit1 = realsplit1.drop(50)\n",
    "len(realsplit1), len(synsplit1)"
   ]
  },
  {
   "cell_type": "code",
   "execution_count": 25,
   "metadata": {},
   "outputs": [
    {
     "data": {
      "text/plain": [
       "[19.710627216812703,\n",
       " 19.389415936592197,\n",
       " 20.33498429624506,\n",
       " 26.069080249828072,\n",
       " 22.50293637902974,\n",
       " 21.365202841932277,\n",
       " 24.8675738462677,\n",
       " 22.410462155253132,\n",
       " 23.419975048841444,\n",
       " 21.929462759781494,\n",
       " 22.453619952611998,\n",
       " 20.97808224529485,\n",
       " 22.683143841487432,\n",
       " 22.189370112722557,\n",
       " 21.999462632651515,\n",
       " 21.81002131287524,\n",
       " 21.83597726431177,\n",
       " 21.776957829334698,\n",
       " 22.56483374495584,\n",
       " 22.240883887453055,\n",
       " 22.000000267060116,\n",
       " 23.54925335255465,\n",
       " 23.005456761320712,\n",
       " 24.442578410949576,\n",
       " 21.23353059928775,\n",
       " 21.069406853882768,\n",
       " 21.995338830276136,\n",
       " 20.756206123902054,\n",
       " 21.808177660540903,\n",
       " 22.228405186074323,\n",
       " 22.599505528039145,\n",
       " 23.00833256780496,\n",
       " 23.42790804749733,\n",
       " 21.626124874617147,\n",
       " 22.331596786548506,\n",
       " 21.91573875536006,\n",
       " 21.28846418841818,\n",
       " 21.359068260486005,\n",
       " 21.44675695238391,\n",
       " 21.383355628947964,\n",
       " 21.016116158824225,\n",
       " 23.956713640831893,\n",
       " 22.1272914616837,\n",
       " 20.649560503050505,\n",
       " 23.76667125523144,\n",
       " 21.941697268769026,\n",
       " 20.745680061730805,\n",
       " 21.537853584422752,\n",
       " 22.19071316615557,\n",
       " 21.290787631215387]"
      ]
     },
     "execution_count": 25,
     "metadata": {},
     "output_type": "execute_result"
    }
   ],
   "source": [
    "xasda = compNew(synsplit1, realsplit1, 0, test_weights)\n",
    "xasda"
   ]
  },
  {
   "cell_type": "code",
   "execution_count": 26,
   "metadata": {},
   "outputs": [],
   "source": [
    "synD = [str(i+1) for i in range(50)]\n",
    "realD = [str(i+1) for i in range(50)]"
   ]
  },
  {
   "cell_type": "code",
   "execution_count": 27,
   "metadata": {},
   "outputs": [],
   "source": [
    "heatscores=[]\n",
    "\n",
    "for i in range(len(realsplit1)):\n",
    "    heatscores.append(compNew(synsplit1, realsplit1, i, test_weights))\n"
   ]
  },
  {
   "cell_type": "code",
   "execution_count": null,
   "metadata": {},
   "outputs": [],
   "source": [
    "\n",
    "fig, ax = plt.subplots()\n",
    "im = ax.imshow(heatscores)\n",
    "\n",
    "\n",
    "ax.set_xticks(np.arange(len(realD)), labels=realD)\n",
    "ax.set_yticks(np.arange(len(synD)), labels=synD)\n",
    "\n",
    "\n",
    "plt.setp(ax.get_xticklabels(), rotation=45, ha=\"right\",\n",
    "         rotation_mode=\"anchor\")\n",
    "\n",
    "\n",
    "ax.set_title(\"Syn vs Real\")\n",
    "\n",
    "plt.colorbar(im, ax=ax)\n",
    "\n",
    "\n",
    "plt.show()"
   ]
  },
  {
   "cell_type": "code",
   "execution_count": null,
   "metadata": {},
   "outputs": [],
   "source": [
    "heatscores2=[]\n",
    "\n",
    "for i in range(len(realsplit1)):\n",
    "    heatscores2.append(compNew(realsplit1, realsplit1, i, test_weights))\n"
   ]
  },
  {
   "cell_type": "code",
   "execution_count": null,
   "metadata": {},
   "outputs": [],
   "source": [
    "fig, ax = plt.subplots()\n",
    "im = ax.imshow(heatscores2)\n",
    "\n",
    "\n",
    "ax.set_xticks(np.arange(len(realD)), labels=realD)\n",
    "ax.set_yticks(np.arange(len(realD)), labels=realD)\n",
    "\n",
    "\n",
    "plt.setp(ax.get_xticklabels(), rotation=45, ha=\"right\",\n",
    "         rotation_mode=\"anchor\")\n",
    "\n",
    "\n",
    "ax.set_title(\"Syn vs Real\")\n",
    "\n",
    "plt.colorbar(im, ax=ax)\n",
    "\n",
    "\n",
    "plt.show()"
   ]
  },
  {
   "cell_type": "markdown",
   "metadata": {},
   "source": [
    "Try to rank based on how similar. Put fake one that closest to the real one closest to that"
   ]
  },
  {
   "cell_type": "markdown",
   "metadata": {},
   "source": [
    "Calling each columns with [,:] and then indexing into it with [i]\n",
    "The columns are being called already but the values within the columns are not being called. That is what this i is doing\n",
    "\n",
    "\n",
    "We don't need to compare element by element, we can do a vector comparison. \n",
    "\n",
    "\n",
    ".* for element by element for 2 vectors\n",
    "\n",
    "\n",
    "Or use matrix multiplication (might need to transpose weights)\n",
    "\n",
    "\n"
   ]
  },
  {
   "cell_type": "markdown",
   "metadata": {},
   "source": [
    "## The Old Method"
   ]
  },
  {
   "cell_type": "code",
   "execution_count": null,
   "metadata": {},
   "outputs": [],
   "source": [
    "compare_arr = compare(realdata_clean_norm,syndata_clean_norm, 0, test_weights)"
   ]
  },
  {
   "cell_type": "code",
   "execution_count": null,
   "metadata": {},
   "outputs": [],
   "source": [
    "#big_comp = []"
   ]
  },
  {
   "cell_type": "code",
   "execution_count": null,
   "metadata": {},
   "outputs": [],
   "source": [
    "for i in range(len(realdata_clean_norm)):\n",
    "    x = compare(realdata_clean_norm,syndata_clean_norm, i, test_weights)\n",
    "    big_comp.append(x)\n",
    "\n",
    "#Took 511m 43.3s ....."
   ]
  },
  {
   "cell_type": "code",
   "execution_count": null,
   "metadata": {},
   "outputs": [],
   "source": [
    "len(big_comp)"
   ]
  },
  {
   "cell_type": "code",
   "execution_count": null,
   "metadata": {},
   "outputs": [],
   "source": [
    "import numpy as np\n",
    "\n",
    "arr = np.array(big_comp)\n",
    "index_values = []\n",
    "for i in range(858):\n",
    "    index_values.append(i)\n",
    "column_values = []\n",
    "for i in range(5000):\n",
    "    column_values.append(i)"
   ]
  },
  {
   "cell_type": "code",
   "execution_count": null,
   "metadata": {},
   "outputs": [],
   "source": [
    "df = pd.DataFrame(data = arr, \n",
    "                  index = index_values, \n",
    "                  columns = column_values)"
   ]
  },
  {
   "cell_type": "code",
   "execution_count": null,
   "metadata": {},
   "outputs": [],
   "source": [
    "df.to_csv('data.csv', index=True)"
   ]
  },
  {
   "cell_type": "code",
   "execution_count": null,
   "metadata": {},
   "outputs": [],
   "source": [
    "ival = []\n",
    "for i in range(5000):\n",
    "    ival.append(i)"
   ]
  },
  {
   "cell_type": "code",
   "execution_count": null,
   "metadata": {},
   "outputs": [],
   "source": [
    "min(compare_arr)\n",
    "compare_arr.index(18.114858335405216)\n",
    "syndata_clean.iloc[509, :]"
   ]
  },
  {
   "cell_type": "code",
   "execution_count": null,
   "metadata": {},
   "outputs": [],
   "source": [
    "\"\"\"\n",
    "#How to access the number from a specific column and row\n",
    "syndata_clean_norm.loc[0,:\"Age\"][0]\n",
    "#Goes through each column iteritvely of the synthetic data row that's closest with the first row of the real data\n",
    "for i in range(36):\n",
    "    print(\"Fake: \" + str(syndata.iloc[509][i]) + \". Real: \" + str(realdata.iloc[0][i]))\n",
    "#How to find the minimium of the compare_arr and figure out the location \n",
    "min(compare_arr)\n",
    "compare_arr.index(18.114858335405216)\n",
    "\"\"\""
   ]
  },
  {
   "cell_type": "code",
   "execution_count": null,
   "metadata": {},
   "outputs": [],
   "source": [
    "score = 0\n",
    "for i in range(len(syndata_clean_norm.columns)):\n",
    "    #print(realdata_clean_naorm.loc[0,:])\n",
    "    score = score + ((realdata_clean_norm.loc[0,:][i] - syndata_clean_norm.loc[0,:][i])) #* weights[i])\n",
    "\n",
    "sy = [12,2,12,3,0,0,0,0,0,2,0,0,0,0,0,0,0,0,0,0,0,0,0,0,0,0,0,0,0,0,0,0,0,0,0,0]\n",
    "re = [18,4.0,15.0,1.0,0.0,0.0,0.0,0.0,0.0,0.0,0.0,0.0,0.0,0.0,0.0,0.0,0.0,0.0,0.0,0.0,0.0,0.0,0.0,0.0,0.0,0,-1,-1,0,0,0,0,0,0,0,0]\n",
    "ar = [syndata_clean_norm.loc[0,:][i] for i in range(len(syndata.columns))]\n",
    "ar2 = [realdata_clean_norm.loc[0,:][i] for i in range(len(syndata.columns))]\n",
    "\n",
    "sum = 0\n",
    "for i in range(len(sy)):\n",
    "    sum = sum + abs(ar2[i] - ar[i])\n",
    "    \n",
    "assert sum == compare_arr[0], \"Not working\""
   ]
  },
  {
   "cell_type": "markdown",
   "metadata": {},
   "source": [
    "## Ranking\n",
    "Now that we've made the comparison function, we need a function that creates a threshold that decides if the data is similar enough"
   ]
  },
  {
   "cell_type": "code",
   "execution_count": null,
   "metadata": {},
   "outputs": [],
   "source": [
    "def Average(l):\n",
    "    result = 0\n",
    "    for i in range(len(l)):\n",
    "        result = result + l[0]\n",
    "    result = result/len(l)\n",
    "    return result"
   ]
  },
  {
   "cell_type": "code",
   "execution_count": null,
   "metadata": {},
   "outputs": [],
   "source": [
    "compare_arr_avg = Average(compare_arr)\n",
    "compare_arr_avg, min(compare_arr), max(compare_arr)"
   ]
  },
  {
   "cell_type": "markdown",
   "metadata": {},
   "source": [
    "## Gale Shapley "
   ]
  },
  {
   "cell_type": "markdown",
   "metadata": {},
   "source": [
    "heatscores #The comparison arrays (50 x 50)\n",
    "\n",
    "synsplit1 #The synthetic data data\n",
    "\n",
    "realsplit1 #The real data"
   ]
  },
  {
   "cell_type": "code",
   "execution_count": null,
   "metadata": {},
   "outputs": [],
   "source": [
    "from collections import Counter\n",
    "from copy import copy"
   ]
  },
  {
   "cell_type": "code",
   "execution_count": null,
   "metadata": {},
   "outputs": [],
   "source": [
    "heatscores2 = heatscores"
   ]
  },
  {
   "cell_type": "code",
   "execution_count": null,
   "metadata": {},
   "outputs": [],
   "source": [
    "def rank(ar):\n",
    "    \"\"\"\n",
    "    Takes in an array, ranks it and returns it\n",
    "    \"\"\"\n",
    "    old_ar = ar\n",
    "    sorted_ar = sorted(ar)\n",
    "    for i in range(len(ar)):\n",
    "        ind_in_old = old_ar.index(sorted_ar[i])\n",
    "        old_ar[ind_in_old] = i\n",
    "\n",
    "\n",
    "    return old_ar\n",
    "\n",
    "def synrank(ar):\n",
    "    \"\"\"\n",
    "    The ranking algo with changing shape of arrays\n",
    "    \"\"\"\n",
    "    new_ar = []\n",
    "    for j in range(len(ar[0])):\n",
    "        curr_ar = []\n",
    "        for i in range(len(ar)):        \n",
    "            curr_ar.append(ar[i][j])\n",
    "        new_ar.append(curr_ar)\n",
    "\n",
    "    \n",
    "    return new_ar"
   ]
  },
  {
   "cell_type": "code",
   "execution_count": null,
   "metadata": {},
   "outputs": [],
   "source": [
    "dictR = {}\n",
    "dictS = {}\n",
    "\n",
    "keys = range(50)\n",
    "for i in keys:\n",
    "    dictR[i] = rank(heatscores2[i])\n",
    "    dictS[i] = rank(synrank(heatscores2)[i])"
   ]
  },
  {
   "cell_type": "code",
   "execution_count": null,
   "metadata": {},
   "outputs": [],
   "source": [
    "dictS"
   ]
  },
  {
   "cell_type": "code",
   "execution_count": null,
   "metadata": {},
   "outputs": [],
   "source": [
    "women_df = pd.DataFrame(dictS)\n",
    "women_df.index = man_list"
   ]
  },
  {
   "cell_type": "code",
   "execution_count": null,
   "metadata": {},
   "outputs": [],
   "source": [
    "man_df = pd.DataFrame(dictR)\n",
    "man_df.index = man_list"
   ]
  },
  {
   "cell_type": "code",
   "execution_count": null,
   "metadata": {},
   "outputs": [],
   "source": [
    "# dict to control which women each man can make proposals\n",
    "women_available = {man:women_list for man in man_list}\n",
    "# waiting list of men that were able to create pair on each iteration\n",
    "waiting_list = []\n",
    "# dict to store created pairs\n",
    "proposals = {}\n",
    "# variable to count number of iterations\n",
    "count = 0 "
   ]
  },
  {
   "cell_type": "code",
   "execution_count": null,
   "metadata": {},
   "outputs": [],
   "source": [
    "# while not all men have pairs\n",
    "while len(waiting_list)<len(man_list):\n",
    "    # man makes proposals\n",
    "    for man in man_list:\n",
    "        if man not in waiting_list:\n",
    "            # each man make proposal to the top women from it's list\n",
    "            women = women_available[man]\n",
    "            best_choice = man_df.loc[man][man_df.loc[man].index.isin(women)].idxmin()\n",
    "            proposals[(man, best_choice)]=(man_df.loc[man][best_choice],\n",
    "                                                 women_df.loc[man][best_choice])\n",
    "    # if women have more than one proposals \n",
    "    # she will choose the best option\n",
    "    overlays = Counter([key[1] for key in proposals.keys()])\n",
    "    # cycle to choose the best options\n",
    "    for women in overlays.keys():\n",
    "        if overlays[women]>1:\n",
    "            # pairs to drop from proposals\n",
    "            pairs_to_drop = sorted({pair: proposals[pair] for pair in proposals.keys() \n",
    "                    if women in pair}.items(), \n",
    "                   key=lambda x: x[1][1]\n",
    "                  )[1:]\n",
    "            # if man was rejected by woman\n",
    "            # there is no pint for him to make proposal \n",
    "            # second time to the same woman\n",
    "            for p_to_drop in pairs_to_drop:\n",
    "                del proposals[p_to_drop[0]]\n",
    "                _women = copy(women_available[p_to_drop[0][0]])\n",
    "                _women.remove(p_to_drop[0][1])\n",
    "                women_available[p_to_drop[0][0]] = _women\n",
    "    # man who successfully created pairs must be added to the waiting list \n",
    "    waiting_list = [man[0] for man in proposals.keys()]\n",
    "    # update counter\n",
    "    count+=1"
   ]
  },
  {
   "cell_type": "code",
   "execution_count": null,
   "metadata": {},
   "outputs": [],
   "source": [
    "from matching.algorithms import galeshapley\n",
    "matching = galeshapley(dictS, dictR)\n",
    "matching"
   ]
  },
  {
   "cell_type": "code",
   "execution_count": null,
   "metadata": {},
   "outputs": [],
   "source": []
  }
 ],
 "metadata": {
  "kernelspec": {
   "display_name": "Python 3.9.0 64-bit",
   "language": "python",
   "name": "python3"
  },
  "language_info": {
   "codemirror_mode": {
    "name": "ipython",
    "version": 3
   },
   "file_extension": ".py",
   "mimetype": "text/x-python",
   "name": "python",
   "nbconvert_exporter": "python",
   "pygments_lexer": "ipython3",
   "version": "3.9.0"
  },
  "orig_nbformat": 4,
  "vscode": {
   "interpreter": {
    "hash": "81794d4967e6c3204c66dcd87b604927b115b27c00565d3d43f05ba2f3a2cb0d"
   }
  }
 },
 "nbformat": 4,
 "nbformat_minor": 2
}
