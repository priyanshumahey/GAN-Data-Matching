{
 "cells": [
  {
   "cell_type": "markdown",
   "metadata": {},
   "source": [
    "# Modified Gale Shapley Algorithm for Generative Data Comparison"
   ]
  },
  {
   "cell_type": "markdown",
   "metadata": {},
   "source": [
    "### Init"
   ]
  },
  {
   "cell_type": "code",
   "execution_count": 51,
   "metadata": {},
   "outputs": [],
   "source": [
    "import pandas as pd"
   ]
  },
  {
   "cell_type": "code",
   "execution_count": 52,
   "metadata": {},
   "outputs": [],
   "source": [
    "syndata = pd.read_csv('synData9.csv')\n",
    "realdata = pd.read_csv('kag_risk_factors_cervical_cancer.csv')"
   ]
  },
  {
   "cell_type": "code",
   "execution_count": 53,
   "metadata": {},
   "outputs": [
    {
     "data": {
      "text/plain": [
       "'Age'"
      ]
     },
     "execution_count": 53,
     "metadata": {},
     "output_type": "execute_result"
    }
   ],
   "source": [
    "syndata.iloc[0] #Use this to access a row\n",
    "syndata.loc[0, :] #Use this to access a row\n",
    "x = syndata.loc[:,\"Age\"] #Use this to access a column\n",
    "syndata.columns[0]"
   ]
  },
  {
   "cell_type": "markdown",
   "metadata": {},
   "source": [
    "### Data Cleaning and Helper Functions"
   ]
  },
  {
   "cell_type": "markdown",
   "metadata": {},
   "source": [
    "Code for finding the mean which ignores all the unknown values."
   ]
  },
  {
   "cell_type": "code",
   "execution_count": 54,
   "metadata": {},
   "outputs": [],
   "source": [
    "def mean_for_column(data1, column):\n",
    "    \"\"\"\n",
    "    Finds the mean for a specific column\n",
    "    \"\"\"\n",
    "    tot = 0 \n",
    "    for i in range(len(data1)):\n",
    "        #print(data1.loc[i, column])\n",
    "        if data1.loc[i, column] == \"?\" or data1.loc[i, column] == -1:\n",
    "            pass\n",
    "        else:\n",
    "            tot = tot + float(data1.loc[i, column])\n",
    "    tot = tot/(len(data1))\n",
    "    return tot\n",
    "    \n",
    "def mean_for_cols(data1):\n",
    "    \"\"\"\n",
    "    Computes the mean for all the columns \n",
    "    \"\"\"\n",
    "    ar = []\n",
    "    for col in data1.columns: \n",
    "        ar.append(mean_for_column(data1, col))\n",
    "    return ar"
   ]
  },
  {
   "cell_type": "code",
   "execution_count": 55,
   "metadata": {},
   "outputs": [],
   "source": [
    "syndata_means = mean_for_cols(syndata)\n",
    "realdata_means = mean_for_cols(realdata)"
   ]
  },
  {
   "cell_type": "markdown",
   "metadata": {},
   "source": [
    "clean(data1) cleans the code by removing any missing values and making them into -1"
   ]
  },
  {
   "cell_type": "code",
   "execution_count": 56,
   "metadata": {},
   "outputs": [],
   "source": [
    "def clean(data1):\n",
    "    \"\"\"\n",
    "    Replaces the missing data with a -1 value and converts the strings into floats\n",
    "    \"\"\"\n",
    "    for i in range(len(data1)):\n",
    "        for f in data1.columns:\n",
    "            #print(data1.loc[i, f])\n",
    "            if data1.loc[i, f] == \"?\":\n",
    "                data1.loc[i, f] = float(-1)\n",
    "                continue\n",
    "            if isinstance(data1.loc[i, f], str):\n",
    "                data1.loc[i, f] = float(data1.loc[i, f])\n",
    "    #data1 =data1.set_axis([f for f in range(len(data1))], axis='index')\n",
    "    #print(data1.dtypes)\n",
    "    return data1.astype('float')"
   ]
  },
  {
   "cell_type": "code",
   "execution_count": 57,
   "metadata": {},
   "outputs": [],
   "source": [
    "#Back up of the data\n",
    "syndata_safe = syndata \n",
    "realdata_safe = realdata\n",
    "\n",
    "realdata_clean = clean(realdata)\n",
    "syndata_clean = clean(syndata)\n",
    "\n",
    "realdata = realdata_safe\n",
    "syndata = syndata_safe"
   ]
  },
  {
   "cell_type": "markdown",
   "metadata": {},
   "source": [
    "Normalization function"
   ]
  },
  {
   "cell_type": "code",
   "execution_count": 58,
   "metadata": {},
   "outputs": [],
   "source": [
    "def norm(data1):\n",
    "    \"\"\"\n",
    "    Min-Max normalizes the data\n",
    "    \"\"\"\n",
    "    new_dat = data1.copy()\n",
    "    for col in new_dat.columns:\n",
    "        new_dat[col] = (new_dat[col] - new_dat[col].min()) / (new_dat[col].max() - new_dat[col].min())\n",
    "    return new_dat"
   ]
  },
  {
   "cell_type": "code",
   "execution_count": 59,
   "metadata": {},
   "outputs": [],
   "source": [
    "#For syndata\n",
    "syndata_clean_norm = norm(syndata_clean)\n",
    "#For realdata\n",
    "realdata_clean_norm = norm(realdata_clean)"
   ]
  },
  {
   "cell_type": "markdown",
   "metadata": {},
   "source": [
    "### Weights"
   ]
  },
  {
   "cell_type": "code",
   "execution_count": 60,
   "metadata": {},
   "outputs": [],
   "source": [
    "#We start of by getting the column names\n",
    "#print(realdata_clean_norm.columns)\n",
    "#print(syndata_clean_norm.columns)"
   ]
  },
  {
   "cell_type": "code",
   "execution_count": 61,
   "metadata": {},
   "outputs": [],
   "source": [
    "#They're the same so we use 1 single column array\n",
    "cols = ['Age', 'Number of sexual partners', 'First sexual intercourse',\n",
    "       'Num of pregnancies', 'Smokes', 'Smokes (years)', 'Smokes (packs/year)',\n",
    "       'Hormonal Contraceptives', 'Hormonal Contraceptives (years)', 'IUD',\n",
    "       'IUD (years)', 'STDs', 'STDs (number)', 'STDs:condylomatosis',\n",
    "       'STDs:cervical condylomatosis', 'STDs:vaginal condylomatosis',\n",
    "       'STDs:vulvo-perineal condylomatosis', 'STDs:syphilis',\n",
    "       'STDs:pelvic inflammatory disease', 'STDs:genital herpes',\n",
    "       'STDs:molluscum contagiosum', 'STDs:AIDS', 'STDs:HIV',\n",
    "       'STDs:Hepatitis B', 'STDs:HPV', 'STDs: Number of diagnosis',\n",
    "       'STDs: Time since first diagnosis', 'STDs: Time since last diagnosis',\n",
    "       'Dx:Cancer', 'Dx:CIN', 'Dx:HPV', 'Dx', 'Hinselmann', 'Schiller',\n",
    "       'Citology', 'Biopsy']\n",
    "\n",
    "#Init\n",
    "real_weights =[1,1,1,1,1,1,1,1,1,1,1,1,1,1,1,\n",
    "    1,1,1,1,1,1,1,1,1,1,1,1,1,1,1,1,1,1,1,1,1]\n",
    "syn_weights =[1,1,1,1,1,1,1,1,1,1,1,1,1,1,1,\n",
    "    1,1,1,1,1,1,1,1,1,1,1,1,1,1,1,1,1,1,1,1,1]\n",
    "\n",
    "\n",
    "high_weights =['Age', 'Number of sexual partners', 'First sexual intercourse',\n",
    "       'Num of pregnancies', 'Smokes']\n",
    "med_weights =['Smokes (years)', 'Smokes (packs/year)',\n",
    "       'Hormonal Contraceptives', 'Hormonal Contraceptives (years)', 'IUD',\n",
    "       'IUD (years)', 'STDs', 'STDs (number)', 'STDs:condylomatosis',\n",
    "       'STDs:cervical condylomatosis']\n",
    "low_weights =['STDs:vaginal condylomatosis',\n",
    "       'STDs:vulvo-perineal condylomatosis', 'STDs:syphilis',\n",
    "       'STDs:pelvic inflammatory disease', 'STDs:genital herpes',\n",
    "       'STDs:molluscum contagiosum', 'STDs:AIDS', 'STDs:HIV',\n",
    "       'STDs:Hepatitis B', 'STDs:HPV', 'STDs: Number of diagnosis',\n",
    "       'STDs: Time since first diagnosis', 'STDs: Time since last diagnosis',\n",
    "       'Dx:Cancer', 'Dx:CIN', 'Dx:HPV', 'Dx', 'Hinselmann', 'Schiller',\n",
    "       'Citology', 'Biopsy']\n",
    "\n",
    "for i in range(len(cols)):\n",
    "    if cols[i] in high_weights:\n",
    "        real_weights[i] = 3\n",
    "        syn_weights[i] = 3\n",
    "    if cols[i] in med_weights:\n",
    "        real_weights[i] = 2\n",
    "        syn_weights[i] = 2\n",
    "    if cols[i] in low_weights:\n",
    "        real_weights[i] = 1\n",
    "        syn_weights[i] = 1"
   ]
  },
  {
   "cell_type": "markdown",
   "metadata": {},
   "source": [
    "### Comparison function"
   ]
  },
  {
   "cell_type": "markdown",
   "metadata": {},
   "source": [
    "Now we work on creating a compare function which is being designed to comapre all the rows of one dataset to one specific row of another dataset."
   ]
  },
  {
   "cell_type": "code",
   "execution_count": 62,
   "metadata": {},
   "outputs": [],
   "source": [
    "#lst = []\n",
    "#pd.DataFrame(lst)  \n",
    "\n",
    "def compare(data1, data2, row_comp, col, weights):\n",
    "    \"\"\"\n",
    "    This is a comparsion function  \n",
    "    data1: First dataset for comparsion, 1 set row\n",
    "    data2: Second dataset for comparsion\n",
    "    row_comp: The row we want compared\n",
    "    \"\"\"\n",
    "    #Goes for 1 section of the real data and then loops for every row of the synthesized data\n",
    "    lst = []\n",
    "    for i in range(len(data2)):\n",
    "        print('Real data: ' + str(data1.loc[row_comp, col]) + '. Fake data: ' +str(data2.loc[i, 'Age']))\n",
    "        #Comparsion function to compare each the set real row to current fake row\n",
    "        lst.append(similiar(data1, data2, i, row_comp, weights))\n",
    "        \"\"\"\n",
    "        if i==1:\n",
    "            return\n",
    "        \"\"\"\n",
    "    ret = min(lst)\n",
    "    return ret"
   ]
  },
  {
   "cell_type": "code",
   "execution_count": 63,
   "metadata": {},
   "outputs": [],
   "source": [
    "def similiar(data1, data2, ind, row_comp, weights): #, weight):\n",
    "    \"\"\"\n",
    "    Computes how similiar the two datasets are \n",
    "    \"\"\"\n",
    "    score = 0\n",
    "    for i in data1.columns:\n",
    "        score = score + ((data1.loc[row_comp,:] - data2.loc[ind,:]) * weights[i])\n",
    "    return score \n",
    "    \"\"\"\n",
    "    for i in data1.columns:\n",
    "        print(ind, data1.loc[row_comp,:], data2.loc[ind,:])\n",
    "        print(i)\n",
    "        if i ==1:\n",
    "            return\n",
    "    \"\"\""
   ]
  },
  {
   "cell_type": "code",
   "execution_count": 64,
   "metadata": {},
   "outputs": [
    {
     "name": "stdout",
     "output_type": "stream",
     "text": [
      "Real data: 0.07042253521126761. Fake data: 0.03636363636363636\n"
     ]
    },
    {
     "ename": "TypeError",
     "evalue": "list indices must be integers or slices, not str",
     "output_type": "error",
     "traceback": [
      "\u001b[1;31m---------------------------------------------------------------------------\u001b[0m",
      "\u001b[1;31mTypeError\u001b[0m                                 Traceback (most recent call last)",
      "\u001b[1;32mc:\\Users\\priya\\OneDrive\\Documents\\GitHub\\Gale-Shapley\\gale shapley modified.ipynb Cell 23'\u001b[0m in \u001b[0;36m<cell line: 1>\u001b[1;34m()\u001b[0m\n\u001b[1;32m----> <a href='vscode-notebook-cell:/c%3A/Users/priya/OneDrive/Documents/GitHub/Gale-Shapley/gale%20shapley%20modified.ipynb#ch0000022?line=0'>1</a>\u001b[0m compare(realdata_clean_norm,syndata_clean_norm, \u001b[39m0\u001b[39;49m, \u001b[39m\"\u001b[39;49m\u001b[39mAge\u001b[39;49m\u001b[39m\"\u001b[39;49m, real_weights)\n",
      "\u001b[1;32mc:\\Users\\priya\\OneDrive\\Documents\\GitHub\\Gale-Shapley\\gale shapley modified.ipynb Cell 21'\u001b[0m in \u001b[0;36mcompare\u001b[1;34m(data1, data2, row_comp, col, weights)\u001b[0m\n\u001b[0;32m     <a href='vscode-notebook-cell:/c%3A/Users/priya/OneDrive/Documents/GitHub/Gale-Shapley/gale%20shapley%20modified.ipynb#ch0000020?line=13'>14</a>\u001b[0m     \u001b[39mprint\u001b[39m(\u001b[39m'\u001b[39m\u001b[39mReal data: \u001b[39m\u001b[39m'\u001b[39m \u001b[39m+\u001b[39m \u001b[39mstr\u001b[39m(data1\u001b[39m.\u001b[39mloc[row_comp, col]) \u001b[39m+\u001b[39m \u001b[39m'\u001b[39m\u001b[39m. Fake data: \u001b[39m\u001b[39m'\u001b[39m \u001b[39m+\u001b[39m\u001b[39mstr\u001b[39m(data2\u001b[39m.\u001b[39mloc[i, \u001b[39m'\u001b[39m\u001b[39mAge\u001b[39m\u001b[39m'\u001b[39m]))\n\u001b[0;32m     <a href='vscode-notebook-cell:/c%3A/Users/priya/OneDrive/Documents/GitHub/Gale-Shapley/gale%20shapley%20modified.ipynb#ch0000020?line=14'>15</a>\u001b[0m     \u001b[39m#Comparsion function to compare each the set real row to current fake row\u001b[39;00m\n\u001b[1;32m---> <a href='vscode-notebook-cell:/c%3A/Users/priya/OneDrive/Documents/GitHub/Gale-Shapley/gale%20shapley%20modified.ipynb#ch0000020?line=15'>16</a>\u001b[0m     lst\u001b[39m.\u001b[39mappend(similiar(data1, data2, i, row_comp, weights))\n\u001b[0;32m     <a href='vscode-notebook-cell:/c%3A/Users/priya/OneDrive/Documents/GitHub/Gale-Shapley/gale%20shapley%20modified.ipynb#ch0000020?line=16'>17</a>\u001b[0m     \u001b[39m\"\"\"\u001b[39;00m\n\u001b[0;32m     <a href='vscode-notebook-cell:/c%3A/Users/priya/OneDrive/Documents/GitHub/Gale-Shapley/gale%20shapley%20modified.ipynb#ch0000020?line=17'>18</a>\u001b[0m \u001b[39m    if i==1:\u001b[39;00m\n\u001b[0;32m     <a href='vscode-notebook-cell:/c%3A/Users/priya/OneDrive/Documents/GitHub/Gale-Shapley/gale%20shapley%20modified.ipynb#ch0000020?line=18'>19</a>\u001b[0m \u001b[39m        return\u001b[39;00m\n\u001b[0;32m     <a href='vscode-notebook-cell:/c%3A/Users/priya/OneDrive/Documents/GitHub/Gale-Shapley/gale%20shapley%20modified.ipynb#ch0000020?line=19'>20</a>\u001b[0m \u001b[39m    \"\"\"\u001b[39;00m\n\u001b[0;32m     <a href='vscode-notebook-cell:/c%3A/Users/priya/OneDrive/Documents/GitHub/Gale-Shapley/gale%20shapley%20modified.ipynb#ch0000020?line=20'>21</a>\u001b[0m ret \u001b[39m=\u001b[39m \u001b[39mmin\u001b[39m(lst)\n",
      "\u001b[1;32mc:\\Users\\priya\\OneDrive\\Documents\\GitHub\\Gale-Shapley\\gale shapley modified.ipynb Cell 22'\u001b[0m in \u001b[0;36msimiliar\u001b[1;34m(data1, data2, ind, row_comp, weights)\u001b[0m\n\u001b[0;32m      <a href='vscode-notebook-cell:/c%3A/Users/priya/OneDrive/Documents/GitHub/Gale-Shapley/gale%20shapley%20modified.ipynb#ch0000021?line=4'>5</a>\u001b[0m score \u001b[39m=\u001b[39m \u001b[39m0\u001b[39m\n\u001b[0;32m      <a href='vscode-notebook-cell:/c%3A/Users/priya/OneDrive/Documents/GitHub/Gale-Shapley/gale%20shapley%20modified.ipynb#ch0000021?line=5'>6</a>\u001b[0m \u001b[39mfor\u001b[39;00m i \u001b[39min\u001b[39;00m data1\u001b[39m.\u001b[39mcolumns:\n\u001b[1;32m----> <a href='vscode-notebook-cell:/c%3A/Users/priya/OneDrive/Documents/GitHub/Gale-Shapley/gale%20shapley%20modified.ipynb#ch0000021?line=6'>7</a>\u001b[0m     score \u001b[39m=\u001b[39m score \u001b[39m+\u001b[39m ((data1\u001b[39m.\u001b[39mloc[row_comp,:] \u001b[39m-\u001b[39m data2\u001b[39m.\u001b[39mloc[ind,:]) \u001b[39m*\u001b[39m weights[i])\n\u001b[0;32m      <a href='vscode-notebook-cell:/c%3A/Users/priya/OneDrive/Documents/GitHub/Gale-Shapley/gale%20shapley%20modified.ipynb#ch0000021?line=7'>8</a>\u001b[0m \u001b[39mreturn\u001b[39;00m score \n\u001b[0;32m      <a href='vscode-notebook-cell:/c%3A/Users/priya/OneDrive/Documents/GitHub/Gale-Shapley/gale%20shapley%20modified.ipynb#ch0000021?line=8'>9</a>\u001b[0m \u001b[39m\"\"\"\u001b[39;00m\n\u001b[0;32m     <a href='vscode-notebook-cell:/c%3A/Users/priya/OneDrive/Documents/GitHub/Gale-Shapley/gale%20shapley%20modified.ipynb#ch0000021?line=9'>10</a>\u001b[0m \u001b[39mfor i in data1.columns:\u001b[39;00m\n\u001b[0;32m     <a href='vscode-notebook-cell:/c%3A/Users/priya/OneDrive/Documents/GitHub/Gale-Shapley/gale%20shapley%20modified.ipynb#ch0000021?line=10'>11</a>\u001b[0m \u001b[39m    print(ind, data1.loc[row_comp,:], data2.loc[ind,:])\u001b[39;00m\n\u001b[1;32m   (...)\u001b[0m\n\u001b[0;32m     <a href='vscode-notebook-cell:/c%3A/Users/priya/OneDrive/Documents/GitHub/Gale-Shapley/gale%20shapley%20modified.ipynb#ch0000021?line=13'>14</a>\u001b[0m \u001b[39m        return\u001b[39;00m\n\u001b[0;32m     <a href='vscode-notebook-cell:/c%3A/Users/priya/OneDrive/Documents/GitHub/Gale-Shapley/gale%20shapley%20modified.ipynb#ch0000021?line=14'>15</a>\u001b[0m \u001b[39m\"\"\"\u001b[39;00m\n",
      "\u001b[1;31mTypeError\u001b[0m: list indices must be integers or slices, not str"
     ]
    }
   ],
   "source": [
    "compare(realdata_clean_norm,syndata_clean_norm, 0, \"Age\", real_weights)"
   ]
  },
  {
   "cell_type": "code",
   "execution_count": null,
   "metadata": {},
   "outputs": [
    {
     "data": {
      "text/plain": [
       "Age                                   float64\n",
       "Number of sexual partners              object\n",
       "First sexual intercourse               object\n",
       "Num of pregnancies                     object\n",
       "Smokes                                 object\n",
       "Smokes (years)                         object\n",
       "Smokes (packs/year)                    object\n",
       "Hormonal Contraceptives                object\n",
       "Hormonal Contraceptives (years)        object\n",
       "IUD                                    object\n",
       "IUD (years)                            object\n",
       "STDs                                   object\n",
       "STDs (number)                          object\n",
       "STDs:condylomatosis                    object\n",
       "STDs:cervical condylomatosis           object\n",
       "STDs:vaginal condylomatosis            object\n",
       "STDs:vulvo-perineal condylomatosis     object\n",
       "STDs:syphilis                          object\n",
       "STDs:pelvic inflammatory disease       object\n",
       "STDs:genital herpes                    object\n",
       "STDs:molluscum contagiosum             object\n",
       "STDs:AIDS                              object\n",
       "STDs:HIV                               object\n",
       "STDs:Hepatitis B                       object\n",
       "STDs:HPV                               object\n",
       "STDs: Number of diagnosis             float64\n",
       "STDs: Time since first diagnosis       object\n",
       "STDs: Time since last diagnosis        object\n",
       "Dx:Cancer                             float64\n",
       "Dx:CIN                                float64\n",
       "Dx:HPV                                float64\n",
       "Dx                                    float64\n",
       "Hinselmann                            float64\n",
       "Schiller                              float64\n",
       "Citology                              float64\n",
       "Biopsy                                float64\n",
       "dtype: object"
      ]
     },
     "execution_count": 50,
     "metadata": {},
     "output_type": "execute_result"
    }
   ],
   "source": [
    "realdata_clean_norm.dtypes"
   ]
  },
  {
   "cell_type": "code",
   "execution_count": null,
   "metadata": {},
   "outputs": [],
   "source": []
  }
 ],
 "metadata": {
  "interpreter": {
   "hash": "84acd9daa1976748b0cb1aac2d1d7e831b987877e0682bbd8df981985727d27e"
  },
  "kernelspec": {
   "display_name": "Python 3.10.2 64-bit",
   "language": "python",
   "name": "python3"
  },
  "language_info": {
   "codemirror_mode": {
    "name": "ipython",
    "version": 3
   },
   "file_extension": ".py",
   "mimetype": "text/x-python",
   "name": "python",
   "nbconvert_exporter": "python",
   "pygments_lexer": "ipython3",
   "version": "3.10.2"
  },
  "orig_nbformat": 4
 },
 "nbformat": 4,
 "nbformat_minor": 2
}
