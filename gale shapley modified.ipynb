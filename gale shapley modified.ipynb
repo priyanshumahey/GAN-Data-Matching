{
 "cells": [
  {
   "cell_type": "markdown",
   "metadata": {},
   "source": [
    "# Modified Gale Shapley Algorithm for Generative Data Comparison"
   ]
  },
  {
   "cell_type": "markdown",
   "metadata": {},
   "source": [
    "## Set-Up\n",
    "We'll primarily using pandas to work with the data. We start off by importing pandas and importing the data as a pandas dataframe."
   ]
  },
  {
   "cell_type": "code",
   "execution_count": null,
   "metadata": {},
   "outputs": [],
   "source": [
    "import pandas as pd\n",
    "import numpy as np\n",
    "import numpy as np\n",
    "import matplotlib.pyplot as plt\n",
    "from scipy.spatial.distance import hamming"
   ]
  },
  {
   "cell_type": "code",
   "execution_count": null,
   "metadata": {},
   "outputs": [],
   "source": [
    "syndata = pd.read_csv('synData9.csv')\n",
    "realdata = pd.read_csv('kag_risk_factors_cervical_cancer.csv')"
   ]
  },
  {
   "cell_type": "code",
   "execution_count": null,
   "metadata": {},
   "outputs": [],
   "source": [
    "syndata.iloc[0] #Use this to access a row\n",
    "syndata.loc[0, : ] #Use this to access a row\n",
    "x = syndata.loc[0,\"Age\"] #Use this to access a column\n",
    "syndata.columns[0]"
   ]
  },
  {
   "cell_type": "code",
   "execution_count": null,
   "metadata": {},
   "outputs": [],
   "source": [
    "#Med represents continuous variables and bin is binary variables (in the real data)\n",
    "\n",
    "med = ['Age', 'Number of sexual partners', 'First sexual intercourse',\n",
    "        'Num of pregnancies', 'Smokes (years)','Smokes (packs/year)','Hormonal Contraceptives (years)','IUD (years)',\n",
    "        'STDs (number)', 'STDs: Number of diagnosis',\n",
    "        'STDs: Time since first diagnosis', 'STDs: Time since last diagnosis']\n",
    "\n",
    "bin = ['Smokes', 'Hormonal Contraceptives', 'IUD', 'STDs', 'STDs:condylomatosis',\n",
    "        'STDs:cervical condylomatosis', 'STDs:vaginal condylomatosis',\n",
    "        'STDs:vulvo-perineal condylomatosis', 'STDs:syphilis',\n",
    "        'STDs:pelvic inflammatory disease', 'STDs:genital herpes',\n",
    "        'STDs:molluscum contagiosum', 'STDs:AIDS', 'STDs:HIV',\n",
    "        'STDs:Hepatitis B', 'STDs:HPV','Dx:Cancer', 'Dx:CIN', 'Dx:HPV', 'Dx', 'Hinselmann', 'Schiller',\n",
    "        'Citology', 'Biopsy']"
   ]
  },
  {
   "cell_type": "code",
   "execution_count": null,
   "metadata": {},
   "outputs": [],
   "source": [
    "realdata.hist(figsize=(25,15)), syndata.hist(figsize=(25,15))"
   ]
  },
  {
   "cell_type": "markdown",
   "metadata": {},
   "source": [
    "## Data Cleaning and Helper Functions"
   ]
  },
  {
   "cell_type": "code",
   "execution_count": null,
   "metadata": {},
   "outputs": [],
   "source": [
    "def impute(data, graph=False):\n",
    "    temp_data = data\n",
    "    temp_data[temp_data == '?'] = np.nan\n",
    "\n",
    "    for i in temp_data.columns:\n",
    "        if(temp_data[i].dtype == 'O'):\n",
    "            temp_data[i] = temp_data[i].astype('float')\n",
    "\n",
    "    med = ['Age', 'Number of sexual partners', 'First sexual intercourse',\n",
    "        'Num of pregnancies', 'Smokes (years)','Smokes (packs/year)','Hormonal Contraceptives (years)','IUD (years)',\n",
    "        'STDs (number)', 'STDs: Number of diagnosis',\n",
    "        'STDs: Time since first diagnosis', 'STDs: Time since last diagnosis']\n",
    "\n",
    "    for i in med:\n",
    "        imp = temp_data[i].median()\n",
    "        temp_data[i].fillna(imp, inplace=True)\n",
    "\n",
    "    bin = ['Smokes', 'Hormonal Contraceptives', 'IUD', 'STDs', 'STDs:condylomatosis',\n",
    "        'STDs:cervical condylomatosis', 'STDs:vaginal condylomatosis',\n",
    "        'STDs:vulvo-perineal condylomatosis', 'STDs:syphilis',\n",
    "        'STDs:pelvic inflammatory disease', 'STDs:genital herpes',\n",
    "        'STDs:molluscum contagiosum', 'STDs:AIDS', 'STDs:HIV',\n",
    "        'STDs:Hepatitis B', 'STDs:HPV','Dx:Cancer', 'Dx:CIN', 'Dx:HPV', 'Dx', 'Hinselmann', 'Schiller',\n",
    "        'Citology', 'Biopsy']\n",
    "\n",
    "    for i in bin:\n",
    "        imp = temp_data[i].mode()\n",
    "        temp_data[i].fillna(imp, inplace=True)\n",
    "\n",
    "    if graph:\n",
    "        temp_data.hist(figsize=(25,15))\n",
    "    \n",
    "    return temp_data"
   ]
  },
  {
   "cell_type": "code",
   "execution_count": null,
   "metadata": {},
   "outputs": [],
   "source": [
    "impute(realdata, True)"
   ]
  },
  {
   "cell_type": "code",
   "execution_count": null,
   "metadata": {},
   "outputs": [],
   "source": [
    "def mean_for_column(data1, column):\n",
    "    \"\"\"\n",
    "    Finds the mean for a specific column\n",
    "    \"\"\"\n",
    "    tot = 0 \n",
    "    for i in range(len(data1)):\n",
    "        #print(data1.loc[i, column])\n",
    "        if data1.loc[i, column] == \"?\" or data1.loc[i, column] == -1:\n",
    "            pass\n",
    "        else:\n",
    "            tot = tot + float(data1.loc[i, column])\n",
    "    tot = tot/(len(data1))\n",
    "    return tot\n",
    "    \n",
    "def mean_for_cols(data1):\n",
    "    \"\"\"\n",
    "    Computes the mean for all the columns \n",
    "    \"\"\"\n",
    "    ar = []\n",
    "    for col in data1.columns: \n",
    "        ar.append(mean_for_column(data1, col))\n",
    "    return ar\n",
    "\n",
    "def norm(data1):\n",
    "    \"\"\"\n",
    "    Min-Max normalizes the continuous data\n",
    "    \"\"\"\n",
    "    new_dat = data1.copy()\n",
    "    for col in new_dat.columns:\n",
    "        if col in med:\n",
    "            new_dat[col] = (new_dat[col] - new_dat[col].min()) / (new_dat[col].max() - new_dat[col].min())\n",
    "    return new_dat\n",
    "\n",
    "##Old version of the clean function.\n",
    "#Replaced by impute function\n",
    "def old_clean(data1):\n",
    "    \"\"\"\n",
    "    Replaces the missing data with a -1 value and converts the strings into floats\n",
    "    \"\"\"\n",
    "    for i in range(len(data1)):\n",
    "        for f in data1.columns:\n",
    "            #print(data1.loc[i, f])\n",
    "            if data1.loc[i, f] == \"?\":\n",
    "                data1.loc[i, f] = float(-1)\n",
    "                continue \n",
    "            if isinstance(data1.loc[i, f], str):\n",
    "                data1.loc[i, f] = float(data1.loc[i, f])\n",
    "    data1 =data1.set_axis([f for f in range(len(data1))], axis='index')\n",
    "    #print(data1.dtypes)\n",
    "    return data1.astype('float')"
   ]
  },
  {
   "cell_type": "code",
   "execution_count": null,
   "metadata": {},
   "outputs": [],
   "source": [
    "realdata = impute(realdata, True)\n",
    "syndata = impute(syndata, True)\n",
    "\n",
    "syndata_means = mean_for_cols(syndata)\n",
    "realdata_means = mean_for_cols(realdata)\n",
    "\n",
    "#For syndata\n",
    "syndataC = norm(syndata)\n",
    "#For realdata\n",
    "realdataC = norm(realdata)\n",
    "\n",
    "syndataC = syndataC.fillna(-1)\n",
    "realdataC = realdataC.fillna(-1)\n",
    "#They both should be False, this is important\n",
    "syndataC.isnull().values.any(), realdataC.isnull().values.any()"
   ]
  },
  {
   "cell_type": "code",
   "execution_count": null,
   "metadata": {},
   "outputs": [],
   "source": [
    "realdataC.hist(figsize=(25,15)), syndataC.hist(figsize=(25,15))"
   ]
  },
  {
   "cell_type": "code",
   "execution_count": null,
   "metadata": {},
   "outputs": [],
   "source": [
    "## OLD WAY\n",
    "\n",
    "#Back up of the data\n",
    "syndata_safe = syndata \n",
    "realdata_safe = realdata\n",
    "\n",
    "realdata_clean = old_clean(realdata)\n",
    "syndata_clean = old_clean(syndata)\n",
    "\n",
    "realdata = realdata_safe\n",
    "syndata = syndata_safe\n",
    "\n",
    "\n",
    "#For syndata\n",
    "syndata_clean_norm = norm(syndata_clean)\n",
    "#For realdata\n",
    "realdata_clean_norm = norm(realdata_clean)\n",
    "\n",
    "syndata_clean_norm = syndata_clean_norm.fillna(-1)\n",
    "realdata_clean_norm = realdata_clean_norm.fillna(-1)\n",
    "#They both should be False, this is important\n",
    "syndata_clean_norm.isnull().values.any(), realdata_clean_norm.isnull().values.any()"
   ]
  },
  {
   "cell_type": "markdown",
   "metadata": {},
   "source": [
    "## Weights"
   ]
  },
  {
   "cell_type": "code",
   "execution_count": null,
   "metadata": {},
   "outputs": [],
   "source": [
    "#We start of by getting the column names\n",
    "#print(realdata_clean_norm.columns)\n",
    "#print(syndata_clean_norm.columns)"
   ]
  },
  {
   "cell_type": "code",
   "execution_count": null,
   "metadata": {},
   "outputs": [],
   "source": [
    "#They're the same so we use 1 single column array\n",
    "cols = ['Age', 'Number of sexual partners', 'First sexual intercourse',\n",
    "       'Num of pregnancies', 'Smokes', 'Smokes (years)', 'Smokes (packs/year)',\n",
    "       'Hormonal Contraceptives', 'Hormonal Contraceptives (years)', 'IUD',\n",
    "       'IUD (years)', 'STDs', 'STDs (number)', 'STDs:condylomatosis',\n",
    "       'STDs:cervical condylomatosis', 'STDs:vaginal condylomatosis',\n",
    "       'STDs:vulvo-perineal condylomatosis', 'STDs:syphilis',\n",
    "       'STDs:pelvic inflammatory disease', 'STDs:genital herpes',\n",
    "       'STDs:molluscum contagiosum', 'STDs:AIDS', 'STDs:HIV',\n",
    "       'STDs:Hepatitis B', 'STDs:HPV', 'STDs: Number of diagnosis',\n",
    "       'STDs: Time since first diagnosis', 'STDs: Time since last diagnosis',\n",
    "       'Dx:Cancer', 'Dx:CIN', 'Dx:HPV', 'Dx', 'Hinselmann', 'Schiller',\n",
    "       'Citology', 'Biopsy']\n",
    "\n",
    "#Init\n",
    "real_weights =[1,1,1,1,1,1,1,1,1,1,1,1,1,1,1,\n",
    "    1,1,1,1,1,1,1,1,1,1,1,1,1,1,1,1,1,1,1,1,1]\n",
    "syn_weights =[1,1,1,1,1,1,1,1,1,1,1,1,1,1,1,\n",
    "    1,1,1,1,1,1,1,1,1,1,1,1,1,1,1,1,1,1,1,1,1]\n",
    "test_weights =[1,1,1,1,1,1,1,1,1,1,1,1,1,1,1,\n",
    "    1,1,1,1,1,1,1,1,1,1,1,1,1,1,1,1,1,1,1,1,1]\n",
    "    \n",
    "high_weights =['Age', 'Number of sexual partners', 'First sexual intercourse',\n",
    "       'Num of pregnancies', 'Smokes']\n",
    "med_weights =['Smokes (years)', 'Smokes (packs/year)',\n",
    "       'Hormonal Contraceptives', 'Hormonal Contraceptives (years)', 'IUD',\n",
    "       'IUD (years)', 'STDs', 'STDs (number)', 'STDs:condylomatosis',\n",
    "       'STDs:cervical condylomatosis']\n",
    "low_weights =['STDs:vaginal condylomatosis',\n",
    "       'STDs:vulvo-perineal condylomatosis', 'STDs:syphilis',\n",
    "       'STDs:pelvic inflammatory disease', 'STDs:genital herpes',\n",
    "       'STDs:molluscum contagiosum', 'STDs:AIDS', 'STDs:HIV',\n",
    "       'STDs:Hepatitis B', 'STDs:HPV', 'STDs: Number of diagnosis',\n",
    "       'STDs: Time since first diagnosis', 'STDs: Time since last diagnosis',\n",
    "       'Dx:Cancer', 'Dx:CIN', 'Dx:HPV', 'Dx', 'Hinselmann', 'Schiller',\n",
    "       'Citology', 'Biopsy']\n",
    "\n",
    "for i in range(len(cols)):\n",
    "    if cols[i] in high_weights:\n",
    "        real_weights[i] = 3\n",
    "        syn_weights[i] = 3\n",
    "    if cols[i] in med_weights:\n",
    "        real_weights[i] = 2\n",
    "        syn_weights[i] = 2\n",
    "    if cols[i] in low_weights:\n",
    "        real_weights[i] = 1\n",
    "        syn_weights[i] = 1"
   ]
  },
  {
   "cell_type": "markdown",
   "metadata": {},
   "source": [
    "## Comparison Function\n",
    "The comparison function is the main function that compares the data. It compares all the synthetic data to one specific row of the real data and creates an array of the most similar matches.\n",
    "\n",
    "We also compute the values without using the functions."
   ]
  },
  {
   "cell_type": "code",
   "execution_count": null,
   "metadata": {},
   "outputs": [],
   "source": [
    "def compare(data1, data2, row_comp, weights, mini=False):\n",
    "    \"\"\"\n",
    "    This is a comparsion function  \n",
    "    data1: First dataset for comparsion, 1 set row\n",
    "    data2: Second dataset for comparsion\n",
    "    row_comp: The row we want compared\n",
    "    mini: Chooses if the function returns the minimum value or not\n",
    "    \"\"\"\n",
    "    #Goes for 1 section of the real data and then loops for every row of the synthesized data\n",
    "    lst = []\n",
    "    for i in range(len(data2)):\n",
    "        #print('Real data: ' + str(data1.loc[row_comp, \"Age\"]) + '. Fake data: ' +str(data2.loc[i, 'Age']))\n",
    "        #Comparsion function to compare each the set real row to current fake row\n",
    "        lst.append(similiar(data1, data2, i, row_comp, weights))\n",
    "    if mini:\n",
    "        lst = min(lst)\n",
    "    return lst\n",
    "\n",
    "def similiar(data1, data2, ind, row_comp, weights):\n",
    "    \"\"\"\n",
    "    Computes how similiar the two datasets are \n",
    "    \"\"\"\n",
    "    score = 0\n",
    "    for i in range(len(data1.columns)):\n",
    "        score = score + (abs(data1.loc[row_comp,:][i] - data2.loc[ind,:][i]) * weights[i])\n",
    "        #print(data1.loc[row_comp,:] - data2.loc[ind,:])\n",
    "    return score \n",
    "\n",
    "\n",
    "def compNew(data1, data2, row_comp, weights):\n",
    "    lst = []\n",
    "    \n",
    "    for i in range(len(data2)):\n",
    "        score = 0\n",
    "        for y in range(len(data1.columns)):\n",
    "            score = score + (abs(data1.loc[row_comp,:][y] - data2.loc[i,:][y]) * weights[y])\n",
    "        lst.append(score)\n",
    "    return lst"
   ]
  },
  {
   "cell_type": "code",
   "execution_count": null,
   "metadata": {},
   "outputs": [],
   "source": [
    "hamming([1,1,1,0], [1,1,1,1]) * len([1,1,1,0])\n",
    "\n",
    "#You need to multiply hamming by the length of an array"
   ]
  },
  {
   "cell_type": "code",
   "execution_count": null,
   "metadata": {},
   "outputs": [],
   "source": [
    "#bin\n",
    "#med"
   ]
  },
  {
   "cell_type": "code",
   "execution_count": null,
   "metadata": {},
   "outputs": [],
   "source": [
    "#syndataC[bin] - realdataC[0, bin]\n",
    "\n",
    "##Hamming distance for binary values\n",
    "hamming(syndataC.loc[0,bin].values.tolist(), realdataC.loc[1, bin].values.tolist()) * len(realdataC.loc[1, bin].values.tolist())"
   ]
  },
  {
   "cell_type": "code",
   "execution_count": null,
   "metadata": {},
   "outputs": [],
   "source": [
    "test_weights2 = np.ones(len(syndataC.loc[0,med]))"
   ]
  },
  {
   "cell_type": "code",
   "execution_count": null,
   "metadata": {},
   "outputs": [],
   "source": [
    "np.matmul(abs(syndataC.loc[0,med] - realdataC.loc[0,med]).values.tolist(),  np.transpose(test_weights2))"
   ]
  },
  {
   "cell_type": "code",
   "execution_count": null,
   "metadata": {},
   "outputs": [],
   "source": [
    "np.matmul(abs(syndataC.loc[0,med] - realdataC.loc[0,med]).values.tolist(),  np.transpose(test_weights2)) + hamming(syndataC.loc[0,bin].values.tolist(), realdataC.loc[1, bin].values.tolist()) * len(realdataC.loc[1, bin].values.tolist())"
   ]
  },
  {
   "cell_type": "code",
   "execution_count": null,
   "metadata": {},
   "outputs": [],
   "source": [
    "for i,row in syndataC.iterrows():\n",
    "    print(np.matmul(abs(syndataC.loc[i,med] - realdataC.loc[0,med]).values.tolist(),  np.transpose(test_weights2)) + hamming(syndataC.loc[i,bin].values.tolist(), realdataC.loc[0, bin].values.tolist()) * len(realdataC.loc[0, bin].values.tolist()))"
   ]
  },
  {
   "cell_type": "code",
   "execution_count": null,
   "metadata": {},
   "outputs": [],
   "source": [
    "def compMain(data1, data2, row_comp, weights):\n",
    "    lst = []\n",
    "    for i,row in data1.iterrows():\n",
    "        score = np.matmul(abs(data1.loc[i,med] - data2.loc[row_comp,med]).values.tolist(),  np.transpose(weights)) + hamming(data1.loc[i,bin].values.tolist(), data2.loc[row_comp, bin].values.tolist()) * len(data2.loc[row_comp, bin].values.tolist())\n",
    "        print(score)\n",
    "        lst.append(score)\n",
    "    return lst"
   ]
  },
  {
   "cell_type": "markdown",
   "metadata": {},
   "source": [
    "## Data Splitting"
   ]
  },
  {
   "cell_type": "code",
   "execution_count": null,
   "metadata": {},
   "outputs": [],
   "source": [
    "#Data Splitting\n",
    "syndataCS = np.array_split(syndataC, 100)\n",
    "realdataCS = np.array_split(realdataC, 17)\n",
    "realsplit1 = realdataCS[0]\n",
    "synsplit1 = syndataCS[0]\n",
    "realsplit1 = realsplit1.drop(50)\n",
    "len(realsplit1), len(synsplit1)"
   ]
  },
  {
   "cell_type": "markdown",
   "metadata": {},
   "source": [
    "## Heatmap"
   ]
  },
  {
   "cell_type": "code",
   "execution_count": null,
   "metadata": {},
   "outputs": [],
   "source": [
    "xasda = compMain(synsplit1, realsplit1, 0, test_weights2)"
   ]
  },
  {
   "cell_type": "code",
   "execution_count": null,
   "metadata": {},
   "outputs": [],
   "source": [
    "len(xasda)"
   ]
  },
  {
   "cell_type": "code",
   "execution_count": null,
   "metadata": {},
   "outputs": [],
   "source": [
    "xasda = compNew(synsplit1, realsplit1, 0, test_weights)\n",
    "xasda"
   ]
  },
  {
   "cell_type": "code",
   "execution_count": null,
   "metadata": {},
   "outputs": [],
   "source": [
    "synD = [str(i+1) for i in range(50)]\n",
    "realD = [str(i+1) for i in range(50)]\n",
    "\n",
    "heatscores=[]\n",
    "\n",
    "for i in range(len(realsplit1)):\n",
    "    heatscores.append(compNew(synsplit1, realsplit1, i, test_weights))"
   ]
  },
  {
   "cell_type": "code",
   "execution_count": null,
   "metadata": {},
   "outputs": [],
   "source": [
    "fig, ax = plt.subplots()\n",
    "im = ax.imshow(heatscores)\n",
    "\n",
    "\n",
    "ax.set_xticks(np.arange(len(realD)), labels=realD)\n",
    "ax.set_yticks(np.arange(len(synD)), labels=synD)\n",
    "\n",
    "\n",
    "plt.setp(ax.get_xticklabels(), rotation=45, ha=\"right\",\n",
    "         rotation_mode=\"anchor\")\n",
    "\n",
    "\n",
    "ax.set_title(\"Syn vs Real\")\n",
    "\n",
    "plt.colorbar(im, ax=ax)\n",
    "\n",
    "\n",
    "plt.show()"
   ]
  },
  {
   "cell_type": "markdown",
   "metadata": {},
   "source": [
    "Try to rank based on how similar. Put fake one that closest to the real one closest to that\n",
    "\n",
    "Calling each columns with [,:] and then indexing into it with [i]\n",
    "The columns are being called already but the values within the columns are not being called. That is what this i is doing\n",
    "\n",
    "\n",
    "We don't need to compare element by element, we can do a vector comparison. \n",
    "\n",
    "\n",
    ".* for element by element for 2 vectors\n",
    "\n",
    "\n",
    "Or use matrix multiplication (might need to transpose weights)"
   ]
  },
  {
   "cell_type": "markdown",
   "metadata": {},
   "source": [
    "## The Old Method"
   ]
  },
  {
   "cell_type": "code",
   "execution_count": null,
   "metadata": {},
   "outputs": [],
   "source": [
    "compare_arr = compare(realdata_clean_norm,syndata_clean_norm, 0, test_weights)"
   ]
  },
  {
   "cell_type": "code",
   "execution_count": null,
   "metadata": {},
   "outputs": [],
   "source": [
    "#big_comp = []"
   ]
  },
  {
   "cell_type": "code",
   "execution_count": null,
   "metadata": {},
   "outputs": [],
   "source": [
    "for i in range(len(realdata_clean_norm)):\n",
    "    x = compare(realdata_clean_norm,syndata_clean_norm, i, test_weights)\n",
    "    big_comp.append(x)\n",
    "\n",
    "#Took 511m 43.3s ....."
   ]
  },
  {
   "cell_type": "code",
   "execution_count": null,
   "metadata": {},
   "outputs": [],
   "source": [
    "len(big_comp)"
   ]
  },
  {
   "cell_type": "code",
   "execution_count": null,
   "metadata": {},
   "outputs": [],
   "source": [
    "import numpy as np\n",
    "\n",
    "arr = np.array(big_comp)\n",
    "index_values = []\n",
    "for i in range(858):\n",
    "    index_values.append(i)\n",
    "column_values = []\n",
    "for i in range(5000):\n",
    "    column_values.append(i)"
   ]
  },
  {
   "cell_type": "code",
   "execution_count": null,
   "metadata": {},
   "outputs": [],
   "source": [
    "df = pd.DataFrame(data = arr, \n",
    "                  index = index_values, \n",
    "                  columns = column_values)"
   ]
  },
  {
   "cell_type": "code",
   "execution_count": null,
   "metadata": {},
   "outputs": [],
   "source": [
    "df.to_csv('data.csv', index=True)"
   ]
  },
  {
   "cell_type": "code",
   "execution_count": null,
   "metadata": {},
   "outputs": [],
   "source": [
    "ival = []\n",
    "for i in range(5000):\n",
    "    ival.append(i)"
   ]
  },
  {
   "cell_type": "code",
   "execution_count": null,
   "metadata": {},
   "outputs": [],
   "source": [
    "min(compare_arr)\n",
    "compare_arr.index(18.114858335405216)\n",
    "syndata_clean.iloc[509, :]"
   ]
  },
  {
   "cell_type": "code",
   "execution_count": null,
   "metadata": {},
   "outputs": [],
   "source": [
    "\"\"\"\n",
    "#How to access the number from a specific column and row\n",
    "syndata_clean_norm.loc[0,:\"Age\"][0]\n",
    "#Goes through each column iteritvely of the synthetic data row that's closest with the first row of the real data\n",
    "for i in range(36):\n",
    "    print(\"Fake: \" + str(syndata.iloc[509][i]) + \". Real: \" + str(realdata.iloc[0][i]))\n",
    "#How to find the minimium of the compare_arr and figure out the location \n",
    "min(compare_arr)\n",
    "compare_arr.index(18.114858335405216)\n",
    "\"\"\""
   ]
  },
  {
   "cell_type": "code",
   "execution_count": null,
   "metadata": {},
   "outputs": [],
   "source": [
    "score = 0\n",
    "for i in range(len(syndata_clean_norm.columns)):\n",
    "    #print(realdata_clean_naorm.loc[0,:])\n",
    "    score = score + ((realdata_clean_norm.loc[0,:][i] - syndata_clean_norm.loc[0,:][i])) #* weights[i])\n",
    "\n",
    "sy = [12,2,12,3,0,0,0,0,0,2,0,0,0,0,0,0,0,0,0,0,0,0,0,0,0,0,0,0,0,0,0,0,0,0,0,0]\n",
    "re = [18,4.0,15.0,1.0,0.0,0.0,0.0,0.0,0.0,0.0,0.0,0.0,0.0,0.0,0.0,0.0,0.0,0.0,0.0,0.0,0.0,0.0,0.0,0.0,0.0,0,-1,-1,0,0,0,0,0,0,0,0]\n",
    "ar = [syndata_clean_norm.loc[0,:][i] for i in range(len(syndata.columns))]\n",
    "ar2 = [realdata_clean_norm.loc[0,:][i] for i in range(len(syndata.columns))]\n",
    "\n",
    "sum = 0\n",
    "for i in range(len(sy)):\n",
    "    sum = sum + abs(ar2[i] - ar[i])\n",
    "    \n",
    "assert sum == compare_arr[0], \"Not working\""
   ]
  },
  {
   "cell_type": "markdown",
   "metadata": {},
   "source": [
    "## Ranking\n",
    "Now that we've made the comparison function, we need a function that creates a threshold that decides if the data is similar enough"
   ]
  },
  {
   "cell_type": "code",
   "execution_count": null,
   "metadata": {},
   "outputs": [],
   "source": [
    "def Average(l):\n",
    "    result = 0\n",
    "    for i in range(len(l)):\n",
    "        result = result + l[0]\n",
    "    result = result/len(l)\n",
    "    return result"
   ]
  },
  {
   "cell_type": "code",
   "execution_count": null,
   "metadata": {},
   "outputs": [],
   "source": [
    "compare_arr_avg = Average(compare_arr)\n",
    "compare_arr_avg, min(compare_arr), max(compare_arr)"
   ]
  },
  {
   "cell_type": "markdown",
   "metadata": {},
   "source": [
    "## Gale Shapley"
   ]
  },
  {
   "cell_type": "markdown",
   "metadata": {},
   "source": [
    "heatscores #The comparison arrays (50 x 50)\n",
    "\n",
    "synsplit1 #The synthetic data data\n",
    "\n",
    "realsplit1 #The real data"
   ]
  },
  {
   "cell_type": "code",
   "execution_count": null,
   "metadata": {},
   "outputs": [],
   "source": [
    "from collections import Counter\n",
    "from copy import copy"
   ]
  },
  {
   "cell_type": "code",
   "execution_count": null,
   "metadata": {},
   "outputs": [],
   "source": [
    "heatscores2 = heatscores"
   ]
  },
  {
   "cell_type": "code",
   "execution_count": null,
   "metadata": {},
   "outputs": [],
   "source": [
    "def rank(ar):\n",
    "    \"\"\"\n",
    "    Takes in an array, ranks it and returns it\n",
    "    \"\"\"\n",
    "    old_ar = ar\n",
    "    sorted_ar = sorted(ar)\n",
    "    for i in range(len(ar)):\n",
    "        ind_in_old = old_ar.index(sorted_ar[i])\n",
    "        old_ar[ind_in_old] = i\n",
    "\n",
    "\n",
    "    return old_ar\n",
    "\n",
    "def synrank(ar):\n",
    "    \"\"\"\n",
    "    The ranking algo with changing shape of arrays\n",
    "    \"\"\"\n",
    "    new_ar = []\n",
    "    for j in range(len(ar[0])):\n",
    "        curr_ar = []\n",
    "        for i in range(len(ar)):        \n",
    "            curr_ar.append(ar[i][j])\n",
    "        new_ar.append(curr_ar)\n",
    "\n",
    "    \n",
    "    return new_ar"
   ]
  },
  {
   "cell_type": "code",
   "execution_count": null,
   "metadata": {},
   "outputs": [],
   "source": [
    "dictR = {}\n",
    "dictS = {}\n",
    "\n",
    "keys = range(50)\n",
    "for i in keys:\n",
    "    dictR[i] = rank(heatscores2[i])\n",
    "    dictS[i] = rank(synrank(heatscores2)[i])"
   ]
  },
  {
   "cell_type": "code",
   "execution_count": null,
   "metadata": {},
   "outputs": [],
   "source": [
    "dictS"
   ]
  },
  {
   "cell_type": "code",
   "execution_count": null,
   "metadata": {},
   "outputs": [],
   "source": [
    "women_df = pd.DataFrame(dictS)\n",
    "women_df.index = man_list"
   ]
  },
  {
   "cell_type": "code",
   "execution_count": null,
   "metadata": {},
   "outputs": [],
   "source": [
    "man_df = pd.DataFrame(dictR)\n",
    "man_df.index = man_list"
   ]
  },
  {
   "cell_type": "code",
   "execution_count": null,
   "metadata": {},
   "outputs": [],
   "source": [
    "# dict to control which women each man can make proposals\n",
    "women_available = {man:women_list for man in man_list}\n",
    "# waiting list of men that were able to create pair on each iteration\n",
    "waiting_list = []\n",
    "# dict to store created pairs\n",
    "proposals = {}\n",
    "# variable to count number of iterations\n",
    "count = 0 "
   ]
  },
  {
   "cell_type": "code",
   "execution_count": null,
   "metadata": {},
   "outputs": [],
   "source": [
    "# while not all men have pairs\n",
    "while len(waiting_list)<len(man_list):\n",
    "    # man makes proposals\n",
    "    for man in man_list:\n",
    "        if man not in waiting_list:\n",
    "            # each man make proposal to the top women from it's list\n",
    "            women = women_available[man]\n",
    "            best_choice = man_df.loc[man][man_df.loc[man].index.isin(women)].idxmin()\n",
    "            proposals[(man, best_choice)]=(man_df.loc[man][best_choice],\n",
    "                                                 women_df.loc[man][best_choice])\n",
    "    # if women have more than one proposals \n",
    "    # she will choose the best option\n",
    "    overlays = Counter([key[1] for key in proposals.keys()])\n",
    "    # cycle to choose the best options\n",
    "    for women in overlays.keys():\n",
    "        if overlays[women]>1:\n",
    "            # pairs to drop from proposals\n",
    "            pairs_to_drop = sorted({pair: proposals[pair] for pair in proposals.keys() \n",
    "                    if women in pair}.items(), \n",
    "                   key=lambda x: x[1][1]\n",
    "                  )[1:]\n",
    "            # if man was rejected by woman\n",
    "            # there is no pint for him to make proposal \n",
    "            # second time to the same woman\n",
    "            for p_to_drop in pairs_to_drop:\n",
    "                del proposals[p_to_drop[0]]\n",
    "                _women = copy(women_available[p_to_drop[0][0]])\n",
    "                _women.remove(p_to_drop[0][1])\n",
    "                women_available[p_to_drop[0][0]] = _women\n",
    "    # man who successfully created pairs must be added to the waiting list \n",
    "    waiting_list = [man[0] for man in proposals.keys()]\n",
    "    # update counter\n",
    "    count+=1"
   ]
  },
  {
   "cell_type": "code",
   "execution_count": null,
   "metadata": {},
   "outputs": [],
   "source": [
    "from matching.algorithms import galeshapley\n",
    "matching = galeshapley(dictS, dictR)\n",
    "matching"
   ]
  }
 ],
 "metadata": {
  "kernelspec": {
   "display_name": "Python 3.10.2 64-bit",
   "language": "python",
   "name": "python3"
  },
  "language_info": {
   "codemirror_mode": {
    "name": "ipython",
    "version": 3
   },
   "file_extension": ".py",
   "mimetype": "text/x-python",
   "name": "python",
   "nbconvert_exporter": "python",
   "pygments_lexer": "ipython3",
   "version": "3.10.2"
  },
  "orig_nbformat": 4,
  "vscode": {
   "interpreter": {
    "hash": "84acd9daa1976748b0cb1aac2d1d7e831b987877e0682bbd8df981985727d27e"
   }
  }
 },
 "nbformat": 4,
 "nbformat_minor": 2
}
