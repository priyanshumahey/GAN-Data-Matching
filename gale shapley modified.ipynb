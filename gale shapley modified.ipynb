{
 "cells": [
  {
   "cell_type": "markdown",
   "metadata": {},
   "source": [
    "# Modified Gale Shapley Algorithm for Generative Data Comparison"
   ]
  },
  {
   "cell_type": "markdown",
   "metadata": {},
   "source": [
    "## Set-Up\n",
    "We'll primarily using pandas to work with the data. We start off by importing pandas and importing the data as a pandas dataframe."
   ]
  },
  {
   "cell_type": "code",
   "execution_count": 3,
   "metadata": {},
   "outputs": [],
   "source": [
    "import pandas as pd"
   ]
  },
  {
   "cell_type": "code",
   "execution_count": 4,
   "metadata": {},
   "outputs": [],
   "source": [
    "syndata = pd.read_csv('synData9.csv')\n",
    "realdata = pd.read_csv('kag_risk_factors_cervical_cancer.csv')"
   ]
  },
  {
   "cell_type": "code",
   "execution_count": 5,
   "metadata": {},
   "outputs": [
    {
     "data": {
      "text/plain": [
       "'Age'"
      ]
     },
     "execution_count": 5,
     "metadata": {},
     "output_type": "execute_result"
    }
   ],
   "source": [
    "syndata.iloc[0] #Use this to access a row\n",
    "syndata.loc[0, : ] #Use this to access a row\n",
    "x = syndata.loc[0,\"Age\"] #Use this to access a column\n",
    "syndata.columns[0]"
   ]
  },
  {
   "cell_type": "markdown",
   "metadata": {},
   "source": [
    "## Data Cleaning and Helper Functions\n",
    "We need to clean up the data before we use it. Primarily, this means we will need to do some normalization to the data."
   ]
  },
  {
   "cell_type": "markdown",
   "metadata": {},
   "source": [
    "One important thing we may need later on is the means for each of the columns. First, we compute mean for the raw data."
   ]
  },
  {
   "cell_type": "code",
   "execution_count": 6,
   "metadata": {},
   "outputs": [],
   "source": [
    "def mean_for_column(data1, column):\n",
    "    \"\"\"\n",
    "    Finds the mean for a specific column\n",
    "    \"\"\"\n",
    "    tot = 0 \n",
    "    for i in range(len(data1)):\n",
    "        #print(data1.loc[i, column])\n",
    "        if data1.loc[i, column] == \"?\" or data1.loc[i, column] == -1:\n",
    "            pass\n",
    "        else:\n",
    "            tot = tot + float(data1.loc[i, column])\n",
    "    tot = tot/(len(data1))\n",
    "    return tot\n",
    "    \n",
    "def mean_for_cols(data1):\n",
    "    \"\"\"\n",
    "    Computes the mean for all the columns \n",
    "    \"\"\"\n",
    "    ar = []\n",
    "    for col in data1.columns: \n",
    "        ar.append(mean_for_column(data1, col))\n",
    "    return ar"
   ]
  },
  {
   "cell_type": "code",
   "execution_count": 7,
   "metadata": {},
   "outputs": [],
   "source": [
    "syndata_means = mean_for_cols(syndata)\n",
    "realdata_means = mean_for_cols(realdata)"
   ]
  },
  {
   "cell_type": "markdown",
   "metadata": {},
   "source": [
    "clean() cleans the data by replacing any missing values and replaces them with -1 as well as changes all the datatypes to floats."
   ]
  },
  {
   "cell_type": "code",
   "execution_count": 8,
   "metadata": {},
   "outputs": [],
   "source": [
    "def clean(data1):\n",
    "    \"\"\"\n",
    "    Replaces the missing data with a -1 value and converts the strings into floats\n",
    "    \"\"\"\n",
    "    for i in range(len(data1)):\n",
    "        for f in data1.columns:\n",
    "            #print(data1.loc[i, f])\n",
    "            if data1.loc[i, f] == \"?\":\n",
    "                data1.loc[i, f] = float(-1)\n",
    "                continue\n",
    "            if isinstance(data1.loc[i, f], str):\n",
    "                data1.loc[i, f] = float(data1.loc[i, f])\n",
    "    data1 =data1.set_axis([f for f in range(len(data1))], axis='index')\n",
    "    #print(data1.dtypes)\n",
    "    return data1.astype('float')"
   ]
  },
  {
   "cell_type": "code",
   "execution_count": 9,
   "metadata": {},
   "outputs": [],
   "source": [
    "#Back up of the data\n",
    "syndata_safe = syndata \n",
    "realdata_safe = realdata\n",
    "\n",
    "realdata_clean = clean(realdata)\n",
    "syndata_clean = clean(syndata)\n",
    "\n",
    "realdata = realdata_safe\n",
    "syndata = syndata_safe"
   ]
  },
  {
   "cell_type": "markdown",
   "metadata": {},
   "source": [
    "norm() computes the min-max norm"
   ]
  },
  {
   "cell_type": "code",
   "execution_count": 10,
   "metadata": {},
   "outputs": [],
   "source": [
    "def norm(data1):\n",
    "    \"\"\"\n",
    "    Min-Max normalizes the data\n",
    "    \"\"\"\n",
    "    new_dat = data1.copy()\n",
    "    for col in new_dat.columns:\n",
    "        new_dat[col] = (new_dat[col] - new_dat[col].min()) / (new_dat[col].max() - new_dat[col].min())\n",
    "    return new_dat"
   ]
  },
  {
   "cell_type": "code",
   "execution_count": 11,
   "metadata": {},
   "outputs": [],
   "source": [
    "#For syndata\n",
    "syndata_clean_norm = norm(syndata_clean)\n",
    "#For realdata\n",
    "realdata_clean_norm = norm(realdata_clean)"
   ]
  },
  {
   "cell_type": "code",
   "execution_count": 12,
   "metadata": {},
   "outputs": [
    {
     "data": {
      "text/plain": [
       "(False, False)"
      ]
     },
     "execution_count": 12,
     "metadata": {},
     "output_type": "execute_result"
    }
   ],
   "source": [
    "syndata_clean_norm = syndata_clean_norm.fillna(-1)\n",
    "realdata_clean_norm = realdata_clean_norm.fillna(-1)\n",
    "#They both should be False, this is important\n",
    "syndata_clean_norm.isnull().values.any(), realdata_clean_norm.isnull().values.any()"
   ]
  },
  {
   "cell_type": "markdown",
   "metadata": {},
   "source": [
    "## Weights"
   ]
  },
  {
   "cell_type": "code",
   "execution_count": 13,
   "metadata": {},
   "outputs": [],
   "source": [
    "#We start of by getting the column names\n",
    "#print(realdata_clean_norm.columns)\n",
    "#print(syndata_clean_norm.columns)"
   ]
  },
  {
   "cell_type": "code",
   "execution_count": 14,
   "metadata": {},
   "outputs": [],
   "source": [
    "#They're the same so we use 1 single column array\n",
    "cols = ['Age', 'Number of sexual partners', 'First sexual intercourse',\n",
    "       'Num of pregnancies', 'Smokes', 'Smokes (years)', 'Smokes (packs/year)',\n",
    "       'Hormonal Contraceptives', 'Hormonal Contraceptives (years)', 'IUD',\n",
    "       'IUD (years)', 'STDs', 'STDs (number)', 'STDs:condylomatosis',\n",
    "       'STDs:cervical condylomatosis', 'STDs:vaginal condylomatosis',\n",
    "       'STDs:vulvo-perineal condylomatosis', 'STDs:syphilis',\n",
    "       'STDs:pelvic inflammatory disease', 'STDs:genital herpes',\n",
    "       'STDs:molluscum contagiosum', 'STDs:AIDS', 'STDs:HIV',\n",
    "       'STDs:Hepatitis B', 'STDs:HPV', 'STDs: Number of diagnosis',\n",
    "       'STDs: Time since first diagnosis', 'STDs: Time since last diagnosis',\n",
    "       'Dx:Cancer', 'Dx:CIN', 'Dx:HPV', 'Dx', 'Hinselmann', 'Schiller',\n",
    "       'Citology', 'Biopsy']\n",
    "\n",
    "#Init\n",
    "real_weights =[1,1,1,1,1,1,1,1,1,1,1,1,1,1,1,\n",
    "    1,1,1,1,1,1,1,1,1,1,1,1,1,1,1,1,1,1,1,1,1]\n",
    "syn_weights =[1,1,1,1,1,1,1,1,1,1,1,1,1,1,1,\n",
    "    1,1,1,1,1,1,1,1,1,1,1,1,1,1,1,1,1,1,1,1,1]\n",
    "test_weights =[1,1,1,1,1,1,1,1,1,1,1,1,1,1,1,\n",
    "    1,1,1,1,1,1,1,1,1,1,1,1,1,1,1,1,1,1,1,1,1]\n",
    "\n",
    "high_weights =['Age', 'Number of sexual partners', 'First sexual intercourse',\n",
    "       'Num of pregnancies', 'Smokes']\n",
    "med_weights =['Smokes (years)', 'Smokes (packs/year)',\n",
    "       'Hormonal Contraceptives', 'Hormonal Contraceptives (years)', 'IUD',\n",
    "       'IUD (years)', 'STDs', 'STDs (number)', 'STDs:condylomatosis',\n",
    "       'STDs:cervical condylomatosis']\n",
    "low_weights =['STDs:vaginal condylomatosis',\n",
    "       'STDs:vulvo-perineal condylomatosis', 'STDs:syphilis',\n",
    "       'STDs:pelvic inflammatory disease', 'STDs:genital herpes',\n",
    "       'STDs:molluscum contagiosum', 'STDs:AIDS', 'STDs:HIV',\n",
    "       'STDs:Hepatitis B', 'STDs:HPV', 'STDs: Number of diagnosis',\n",
    "       'STDs: Time since first diagnosis', 'STDs: Time since last diagnosis',\n",
    "       'Dx:Cancer', 'Dx:CIN', 'Dx:HPV', 'Dx', 'Hinselmann', 'Schiller',\n",
    "       'Citology', 'Biopsy']\n",
    "\n",
    "for i in range(len(cols)):\n",
    "    if cols[i] in high_weights:\n",
    "        real_weights[i] = 3\n",
    "        syn_weights[i] = 3\n",
    "    if cols[i] in med_weights:\n",
    "        real_weights[i] = 2\n",
    "        syn_weights[i] = 2\n",
    "    if cols[i] in low_weights:\n",
    "        real_weights[i] = 1\n",
    "        syn_weights[i] = 1"
   ]
  },
  {
   "cell_type": "markdown",
   "metadata": {},
   "source": [
    "## Comparison Function\n",
    "The comparison function is the main function that compares the data. It compares all the synthetic data to one specific row of the real data and creates an array of the most similar matches.\n",
    "\n",
    "We also compute the values without using the functions."
   ]
  },
  {
   "cell_type": "code",
   "execution_count": 15,
   "metadata": {},
   "outputs": [],
   "source": [
    "def compare(data1, data2, row_comp, weights, mini=False):\n",
    "    \"\"\"\n",
    "    This is a comparsion function  \n",
    "    data1: First dataset for comparsion, 1 set row\n",
    "    data2: Second dataset for comparsion\n",
    "    row_comp: The row we want compared\n",
    "    mini: Chooses if the function returns the minimum value or not\n",
    "    \"\"\"\n",
    "    #Goes for 1 section of the real data and then loops for every row of the synthesized data\n",
    "    lst = []\n",
    "    for i in range(len(data2)):\n",
    "        #print('Real data: ' + str(data1.loc[row_comp, \"Age\"]) + '. Fake data: ' +str(data2.loc[i, 'Age']))\n",
    "        #Comparsion function to compare each the set real row to current fake row\n",
    "        lst.append(similiar(data1, data2, i, row_comp, weights))\n",
    "    if mini:\n",
    "        lst = min(lst)\n",
    "    return lst\n",
    "\n",
    "def similiar(data1, data2, ind, row_comp, weights):\n",
    "    \"\"\"\n",
    "    Computes how similiar the two datasets are \n",
    "    \"\"\"\n",
    "    score = 0\n",
    "    for i in range(len(data1.columns)):\n",
    "        score = score + (abs(data1.loc[row_comp,:][i] - data2.loc[ind,:][i]) * weights[i])\n",
    "        #print(data1.loc[row_comp,:] - data2.loc[ind,:])\n",
    "    return score "
   ]
  },
  {
   "cell_type": "code",
   "execution_count": 16,
   "metadata": {},
   "outputs": [],
   "source": [
    "compare_arr = compare(realdata_clean_norm,syndata_clean_norm, 0, test_weights)"
   ]
  },
  {
   "cell_type": "code",
   "execution_count": 22,
   "metadata": {},
   "outputs": [],
   "source": [
    "big_comp = []"
   ]
  },
  {
   "cell_type": "code",
   "execution_count": 23,
   "metadata": {},
   "outputs": [
    {
     "ename": "KeyboardInterrupt",
     "evalue": "",
     "output_type": "error",
     "traceback": [
      "\u001b[1;31m---------------------------------------------------------------------------\u001b[0m",
      "\u001b[1;31mKeyboardInterrupt\u001b[0m                         Traceback (most recent call last)",
      "\u001b[1;32mc:\\Users\\priya\\OneDrive\\Documents\\GitHub\\Gale-Shapley\\gale shapley modified.ipynb Cell 24'\u001b[0m in \u001b[0;36m<cell line: 1>\u001b[1;34m()\u001b[0m\n\u001b[0;32m      <a href='vscode-notebook-cell:/c%3A/Users/priya/OneDrive/Documents/GitHub/Gale-Shapley/gale%20shapley%20modified.ipynb#ch0000035?line=0'>1</a>\u001b[0m \u001b[39mfor\u001b[39;00m i \u001b[39min\u001b[39;00m \u001b[39mrange\u001b[39m(\u001b[39mlen\u001b[39m(realdata_clean_norm)):\n\u001b[1;32m----> <a href='vscode-notebook-cell:/c%3A/Users/priya/OneDrive/Documents/GitHub/Gale-Shapley/gale%20shapley%20modified.ipynb#ch0000035?line=1'>2</a>\u001b[0m     x \u001b[39m=\u001b[39m compare(realdata_clean_norm,syndata_clean_norm, i, test_weights)\n\u001b[0;32m      <a href='vscode-notebook-cell:/c%3A/Users/priya/OneDrive/Documents/GitHub/Gale-Shapley/gale%20shapley%20modified.ipynb#ch0000035?line=2'>3</a>\u001b[0m     big_comp\u001b[39m.\u001b[39mappend(x)\n",
      "\u001b[1;32mc:\\Users\\priya\\OneDrive\\Documents\\GitHub\\Gale-Shapley\\gale shapley modified.ipynb Cell 21'\u001b[0m in \u001b[0;36mcompare\u001b[1;34m(data1, data2, row_comp, weights, mini)\u001b[0m\n\u001b[0;32m     <a href='vscode-notebook-cell:/c%3A/Users/priya/OneDrive/Documents/GitHub/Gale-Shapley/gale%20shapley%20modified.ipynb#ch0000021?line=9'>10</a>\u001b[0m lst \u001b[39m=\u001b[39m []\n\u001b[0;32m     <a href='vscode-notebook-cell:/c%3A/Users/priya/OneDrive/Documents/GitHub/Gale-Shapley/gale%20shapley%20modified.ipynb#ch0000021?line=10'>11</a>\u001b[0m \u001b[39mfor\u001b[39;00m i \u001b[39min\u001b[39;00m \u001b[39mrange\u001b[39m(\u001b[39mlen\u001b[39m(data2)):\n\u001b[0;32m     <a href='vscode-notebook-cell:/c%3A/Users/priya/OneDrive/Documents/GitHub/Gale-Shapley/gale%20shapley%20modified.ipynb#ch0000021?line=11'>12</a>\u001b[0m     \u001b[39m#print('Real data: ' + str(data1.loc[row_comp, \"Age\"]) + '. Fake data: ' +str(data2.loc[i, 'Age']))\u001b[39;00m\n\u001b[0;32m     <a href='vscode-notebook-cell:/c%3A/Users/priya/OneDrive/Documents/GitHub/Gale-Shapley/gale%20shapley%20modified.ipynb#ch0000021?line=12'>13</a>\u001b[0m     \u001b[39m#Comparsion function to compare each the set real row to current fake row\u001b[39;00m\n\u001b[1;32m---> <a href='vscode-notebook-cell:/c%3A/Users/priya/OneDrive/Documents/GitHub/Gale-Shapley/gale%20shapley%20modified.ipynb#ch0000021?line=13'>14</a>\u001b[0m     lst\u001b[39m.\u001b[39mappend(similiar(data1, data2, i, row_comp, weights))\n\u001b[0;32m     <a href='vscode-notebook-cell:/c%3A/Users/priya/OneDrive/Documents/GitHub/Gale-Shapley/gale%20shapley%20modified.ipynb#ch0000021?line=14'>15</a>\u001b[0m \u001b[39mif\u001b[39;00m mini:\n\u001b[0;32m     <a href='vscode-notebook-cell:/c%3A/Users/priya/OneDrive/Documents/GitHub/Gale-Shapley/gale%20shapley%20modified.ipynb#ch0000021?line=15'>16</a>\u001b[0m     lst \u001b[39m=\u001b[39m \u001b[39mmin\u001b[39m(lst)\n",
      "\u001b[1;32mc:\\Users\\priya\\OneDrive\\Documents\\GitHub\\Gale-Shapley\\gale shapley modified.ipynb Cell 21'\u001b[0m in \u001b[0;36msimiliar\u001b[1;34m(data1, data2, ind, row_comp, weights)\u001b[0m\n\u001b[0;32m     <a href='vscode-notebook-cell:/c%3A/Users/priya/OneDrive/Documents/GitHub/Gale-Shapley/gale%20shapley%20modified.ipynb#ch0000021?line=22'>23</a>\u001b[0m score \u001b[39m=\u001b[39m \u001b[39m0\u001b[39m\n\u001b[0;32m     <a href='vscode-notebook-cell:/c%3A/Users/priya/OneDrive/Documents/GitHub/Gale-Shapley/gale%20shapley%20modified.ipynb#ch0000021?line=23'>24</a>\u001b[0m \u001b[39mfor\u001b[39;00m i \u001b[39min\u001b[39;00m \u001b[39mrange\u001b[39m(\u001b[39mlen\u001b[39m(data1\u001b[39m.\u001b[39mcolumns)):\n\u001b[1;32m---> <a href='vscode-notebook-cell:/c%3A/Users/priya/OneDrive/Documents/GitHub/Gale-Shapley/gale%20shapley%20modified.ipynb#ch0000021?line=24'>25</a>\u001b[0m     score \u001b[39m=\u001b[39m score \u001b[39m+\u001b[39m (\u001b[39mabs\u001b[39m(data1\u001b[39m.\u001b[39mloc[row_comp,:][i] \u001b[39m-\u001b[39m data2\u001b[39m.\u001b[39;49mloc[ind,:][i]) \u001b[39m*\u001b[39m weights[i])\n\u001b[0;32m     <a href='vscode-notebook-cell:/c%3A/Users/priya/OneDrive/Documents/GitHub/Gale-Shapley/gale%20shapley%20modified.ipynb#ch0000021?line=25'>26</a>\u001b[0m     \u001b[39m#print(data1.loc[row_comp,:] - data2.loc[ind,:])\u001b[39;00m\n\u001b[0;32m     <a href='vscode-notebook-cell:/c%3A/Users/priya/OneDrive/Documents/GitHub/Gale-Shapley/gale%20shapley%20modified.ipynb#ch0000021?line=26'>27</a>\u001b[0m \u001b[39mreturn\u001b[39;00m score\n",
      "File \u001b[1;32mc:\\Users\\priya\\AppData\\Local\\Programs\\Python\\Python310\\lib\\site-packages\\pandas\\core\\indexing.py:961\u001b[0m, in \u001b[0;36m_LocationIndexer.__getitem__\u001b[1;34m(self, key)\u001b[0m\n\u001b[0;32m    <a href='file:///c%3A/Users/priya/AppData/Local/Programs/Python/Python310/lib/site-packages/pandas/core/indexing.py?line=958'>959</a>\u001b[0m     \u001b[39mif\u001b[39;00m \u001b[39mself\u001b[39m\u001b[39m.\u001b[39m_is_scalar_access(key):\n\u001b[0;32m    <a href='file:///c%3A/Users/priya/AppData/Local/Programs/Python/Python310/lib/site-packages/pandas/core/indexing.py?line=959'>960</a>\u001b[0m         \u001b[39mreturn\u001b[39;00m \u001b[39mself\u001b[39m\u001b[39m.\u001b[39mobj\u001b[39m.\u001b[39m_get_value(\u001b[39m*\u001b[39mkey, takeable\u001b[39m=\u001b[39m\u001b[39mself\u001b[39m\u001b[39m.\u001b[39m_takeable)\n\u001b[1;32m--> <a href='file:///c%3A/Users/priya/AppData/Local/Programs/Python/Python310/lib/site-packages/pandas/core/indexing.py?line=960'>961</a>\u001b[0m     \u001b[39mreturn\u001b[39;00m \u001b[39mself\u001b[39;49m\u001b[39m.\u001b[39;49m_getitem_tuple(key)\n\u001b[0;32m    <a href='file:///c%3A/Users/priya/AppData/Local/Programs/Python/Python310/lib/site-packages/pandas/core/indexing.py?line=961'>962</a>\u001b[0m \u001b[39melse\u001b[39;00m:\n\u001b[0;32m    <a href='file:///c%3A/Users/priya/AppData/Local/Programs/Python/Python310/lib/site-packages/pandas/core/indexing.py?line=962'>963</a>\u001b[0m     \u001b[39m# we by definition only have the 0th axis\u001b[39;00m\n\u001b[0;32m    <a href='file:///c%3A/Users/priya/AppData/Local/Programs/Python/Python310/lib/site-packages/pandas/core/indexing.py?line=963'>964</a>\u001b[0m     axis \u001b[39m=\u001b[39m \u001b[39mself\u001b[39m\u001b[39m.\u001b[39maxis \u001b[39mor\u001b[39;00m \u001b[39m0\u001b[39m\n",
      "File \u001b[1;32mc:\\Users\\priya\\AppData\\Local\\Programs\\Python\\Python310\\lib\\site-packages\\pandas\\core\\indexing.py:1140\u001b[0m, in \u001b[0;36m_LocIndexer._getitem_tuple\u001b[1;34m(self, tup)\u001b[0m\n\u001b[0;32m   <a href='file:///c%3A/Users/priya/AppData/Local/Programs/Python/Python310/lib/site-packages/pandas/core/indexing.py?line=1137'>1138</a>\u001b[0m \u001b[39mwith\u001b[39;00m suppress(IndexingError):\n\u001b[0;32m   <a href='file:///c%3A/Users/priya/AppData/Local/Programs/Python/Python310/lib/site-packages/pandas/core/indexing.py?line=1138'>1139</a>\u001b[0m     tup \u001b[39m=\u001b[39m \u001b[39mself\u001b[39m\u001b[39m.\u001b[39m_expand_ellipsis(tup)\n\u001b[1;32m-> <a href='file:///c%3A/Users/priya/AppData/Local/Programs/Python/Python310/lib/site-packages/pandas/core/indexing.py?line=1139'>1140</a>\u001b[0m     \u001b[39mreturn\u001b[39;00m \u001b[39mself\u001b[39;49m\u001b[39m.\u001b[39;49m_getitem_lowerdim(tup)\n\u001b[0;32m   <a href='file:///c%3A/Users/priya/AppData/Local/Programs/Python/Python310/lib/site-packages/pandas/core/indexing.py?line=1141'>1142</a>\u001b[0m \u001b[39m# no multi-index, so validate all of the indexers\u001b[39;00m\n\u001b[0;32m   <a href='file:///c%3A/Users/priya/AppData/Local/Programs/Python/Python310/lib/site-packages/pandas/core/indexing.py?line=1142'>1143</a>\u001b[0m tup \u001b[39m=\u001b[39m \u001b[39mself\u001b[39m\u001b[39m.\u001b[39m_validate_tuple_indexer(tup)\n",
      "File \u001b[1;32mc:\\Users\\priya\\AppData\\Local\\Programs\\Python\\Python310\\lib\\site-packages\\pandas\\core\\indexing.py:867\u001b[0m, in \u001b[0;36m_LocationIndexer._getitem_lowerdim\u001b[1;34m(self, tup)\u001b[0m\n\u001b[0;32m    <a href='file:///c%3A/Users/priya/AppData/Local/Programs/Python/Python310/lib/site-packages/pandas/core/indexing.py?line=862'>863</a>\u001b[0m \u001b[39mfor\u001b[39;00m i, key \u001b[39min\u001b[39;00m \u001b[39menumerate\u001b[39m(tup):\n\u001b[0;32m    <a href='file:///c%3A/Users/priya/AppData/Local/Programs/Python/Python310/lib/site-packages/pandas/core/indexing.py?line=863'>864</a>\u001b[0m     \u001b[39mif\u001b[39;00m is_label_like(key):\n\u001b[0;32m    <a href='file:///c%3A/Users/priya/AppData/Local/Programs/Python/Python310/lib/site-packages/pandas/core/indexing.py?line=864'>865</a>\u001b[0m         \u001b[39m# We don't need to check for tuples here because those are\u001b[39;00m\n\u001b[0;32m    <a href='file:///c%3A/Users/priya/AppData/Local/Programs/Python/Python310/lib/site-packages/pandas/core/indexing.py?line=865'>866</a>\u001b[0m         \u001b[39m#  caught by the _is_nested_tuple_indexer check above.\u001b[39;00m\n\u001b[1;32m--> <a href='file:///c%3A/Users/priya/AppData/Local/Programs/Python/Python310/lib/site-packages/pandas/core/indexing.py?line=866'>867</a>\u001b[0m         section \u001b[39m=\u001b[39m \u001b[39mself\u001b[39;49m\u001b[39m.\u001b[39;49m_getitem_axis(key, axis\u001b[39m=\u001b[39;49mi)\n\u001b[0;32m    <a href='file:///c%3A/Users/priya/AppData/Local/Programs/Python/Python310/lib/site-packages/pandas/core/indexing.py?line=868'>869</a>\u001b[0m         \u001b[39m# We should never have a scalar section here, because\u001b[39;00m\n\u001b[0;32m    <a href='file:///c%3A/Users/priya/AppData/Local/Programs/Python/Python310/lib/site-packages/pandas/core/indexing.py?line=869'>870</a>\u001b[0m         \u001b[39m#  _getitem_lowerdim is only called after a check for\u001b[39;00m\n\u001b[0;32m    <a href='file:///c%3A/Users/priya/AppData/Local/Programs/Python/Python310/lib/site-packages/pandas/core/indexing.py?line=870'>871</a>\u001b[0m         \u001b[39m#  is_scalar_access, which that would be.\u001b[39;00m\n\u001b[0;32m    <a href='file:///c%3A/Users/priya/AppData/Local/Programs/Python/Python310/lib/site-packages/pandas/core/indexing.py?line=871'>872</a>\u001b[0m         \u001b[39mif\u001b[39;00m section\u001b[39m.\u001b[39mndim \u001b[39m==\u001b[39m \u001b[39mself\u001b[39m\u001b[39m.\u001b[39mndim:\n\u001b[0;32m    <a href='file:///c%3A/Users/priya/AppData/Local/Programs/Python/Python310/lib/site-packages/pandas/core/indexing.py?line=872'>873</a>\u001b[0m             \u001b[39m# we're in the middle of slicing through a MultiIndex\u001b[39;00m\n\u001b[0;32m    <a href='file:///c%3A/Users/priya/AppData/Local/Programs/Python/Python310/lib/site-packages/pandas/core/indexing.py?line=873'>874</a>\u001b[0m             \u001b[39m# revise the key wrt to `section` by inserting an _NS\u001b[39;00m\n",
      "File \u001b[1;32mc:\\Users\\priya\\AppData\\Local\\Programs\\Python\\Python310\\lib\\site-packages\\pandas\\core\\indexing.py:1202\u001b[0m, in \u001b[0;36m_LocIndexer._getitem_axis\u001b[1;34m(self, key, axis)\u001b[0m\n\u001b[0;32m   <a href='file:///c%3A/Users/priya/AppData/Local/Programs/Python/Python310/lib/site-packages/pandas/core/indexing.py?line=1199'>1200</a>\u001b[0m \u001b[39m# fall thru to straight lookup\u001b[39;00m\n\u001b[0;32m   <a href='file:///c%3A/Users/priya/AppData/Local/Programs/Python/Python310/lib/site-packages/pandas/core/indexing.py?line=1200'>1201</a>\u001b[0m \u001b[39mself\u001b[39m\u001b[39m.\u001b[39m_validate_key(key, axis)\n\u001b[1;32m-> <a href='file:///c%3A/Users/priya/AppData/Local/Programs/Python/Python310/lib/site-packages/pandas/core/indexing.py?line=1201'>1202</a>\u001b[0m \u001b[39mreturn\u001b[39;00m \u001b[39mself\u001b[39;49m\u001b[39m.\u001b[39;49m_get_label(key, axis\u001b[39m=\u001b[39;49maxis)\n",
      "File \u001b[1;32mc:\\Users\\priya\\AppData\\Local\\Programs\\Python\\Python310\\lib\\site-packages\\pandas\\core\\indexing.py:1153\u001b[0m, in \u001b[0;36m_LocIndexer._get_label\u001b[1;34m(self, label, axis)\u001b[0m\n\u001b[0;32m   <a href='file:///c%3A/Users/priya/AppData/Local/Programs/Python/Python310/lib/site-packages/pandas/core/indexing.py?line=1150'>1151</a>\u001b[0m \u001b[39mdef\u001b[39;00m \u001b[39m_get_label\u001b[39m(\u001b[39mself\u001b[39m, label, axis: \u001b[39mint\u001b[39m):\n\u001b[0;32m   <a href='file:///c%3A/Users/priya/AppData/Local/Programs/Python/Python310/lib/site-packages/pandas/core/indexing.py?line=1151'>1152</a>\u001b[0m     \u001b[39m# GH#5667 this will fail if the label is not present in the axis.\u001b[39;00m\n\u001b[1;32m-> <a href='file:///c%3A/Users/priya/AppData/Local/Programs/Python/Python310/lib/site-packages/pandas/core/indexing.py?line=1152'>1153</a>\u001b[0m     \u001b[39mreturn\u001b[39;00m \u001b[39mself\u001b[39;49m\u001b[39m.\u001b[39;49mobj\u001b[39m.\u001b[39;49mxs(label, axis\u001b[39m=\u001b[39;49maxis)\n",
      "File \u001b[1;32mc:\\Users\\priya\\AppData\\Local\\Programs\\Python\\Python310\\lib\\site-packages\\pandas\\core\\generic.py:3914\u001b[0m, in \u001b[0;36mNDFrame.xs\u001b[1;34m(self, key, axis, level, drop_level)\u001b[0m\n\u001b[0;32m   <a href='file:///c%3A/Users/priya/AppData/Local/Programs/Python/Python310/lib/site-packages/pandas/core/generic.py?line=3909'>3910</a>\u001b[0m     result\u001b[39m.\u001b[39mindex \u001b[39m=\u001b[39m new_index\n\u001b[0;32m   <a href='file:///c%3A/Users/priya/AppData/Local/Programs/Python/Python310/lib/site-packages/pandas/core/generic.py?line=3911'>3912</a>\u001b[0m \u001b[39m# this could be a view\u001b[39;00m\n\u001b[0;32m   <a href='file:///c%3A/Users/priya/AppData/Local/Programs/Python/Python310/lib/site-packages/pandas/core/generic.py?line=3912'>3913</a>\u001b[0m \u001b[39m# but only in a single-dtyped view sliceable case\u001b[39;00m\n\u001b[1;32m-> <a href='file:///c%3A/Users/priya/AppData/Local/Programs/Python/Python310/lib/site-packages/pandas/core/generic.py?line=3913'>3914</a>\u001b[0m result\u001b[39m.\u001b[39m_set_is_copy(\u001b[39mself\u001b[39m, copy\u001b[39m=\u001b[39m\u001b[39mnot\u001b[39;00m result\u001b[39m.\u001b[39;49m_is_view)\n\u001b[0;32m   <a href='file:///c%3A/Users/priya/AppData/Local/Programs/Python/Python310/lib/site-packages/pandas/core/generic.py?line=3914'>3915</a>\u001b[0m \u001b[39mreturn\u001b[39;00m result\n",
      "File \u001b[1;32mc:\\Users\\priya\\AppData\\Local\\Programs\\Python\\Python310\\lib\\site-packages\\pandas\\core\\generic.py:4136\u001b[0m, in \u001b[0;36mNDFrame._is_view\u001b[1;34m(self)\u001b[0m\n\u001b[0;32m   <a href='file:///c%3A/Users/priya/AppData/Local/Programs/Python/Python310/lib/site-packages/pandas/core/generic.py?line=4131'>4132</a>\u001b[0m \u001b[39m@final\u001b[39m\n\u001b[0;32m   <a href='file:///c%3A/Users/priya/AppData/Local/Programs/Python/Python310/lib/site-packages/pandas/core/generic.py?line=4132'>4133</a>\u001b[0m \u001b[39m@property\u001b[39m\n\u001b[0;32m   <a href='file:///c%3A/Users/priya/AppData/Local/Programs/Python/Python310/lib/site-packages/pandas/core/generic.py?line=4133'>4134</a>\u001b[0m \u001b[39mdef\u001b[39;00m \u001b[39m_is_view\u001b[39m(\u001b[39mself\u001b[39m) \u001b[39m-\u001b[39m\u001b[39m>\u001b[39m bool_t:\n\u001b[0;32m   <a href='file:///c%3A/Users/priya/AppData/Local/Programs/Python/Python310/lib/site-packages/pandas/core/generic.py?line=4134'>4135</a>\u001b[0m     \u001b[39m\"\"\"Return boolean indicating if self is view of another array\"\"\"\u001b[39;00m\n\u001b[1;32m-> <a href='file:///c%3A/Users/priya/AppData/Local/Programs/Python/Python310/lib/site-packages/pandas/core/generic.py?line=4135'>4136</a>\u001b[0m     \u001b[39mreturn\u001b[39;00m \u001b[39mself\u001b[39;49m\u001b[39m.\u001b[39;49m_mgr\u001b[39m.\u001b[39;49mis_view\n",
      "File \u001b[1;32mc:\\Users\\priya\\AppData\\Local\\Programs\\Python\\Python310\\lib\\site-packages\\pandas\\core\\internals\\managers.py:484\u001b[0m, in \u001b[0;36mBaseBlockManager.is_view\u001b[1;34m(self)\u001b[0m\n\u001b[0;32m    <a href='file:///c%3A/Users/priya/AppData/Local/Programs/Python/Python310/lib/site-packages/pandas/core/internals/managers.py?line=480'>481</a>\u001b[0m     \u001b[39m\"\"\"Whether any of the blocks in this manager are extension blocks\"\"\"\u001b[39;00m\n\u001b[0;32m    <a href='file:///c%3A/Users/priya/AppData/Local/Programs/Python/Python310/lib/site-packages/pandas/core/internals/managers.py?line=481'>482</a>\u001b[0m     \u001b[39mreturn\u001b[39;00m \u001b[39many\u001b[39m(block\u001b[39m.\u001b[39mis_extension \u001b[39mfor\u001b[39;00m block \u001b[39min\u001b[39;00m \u001b[39mself\u001b[39m\u001b[39m.\u001b[39mblocks)\n\u001b[1;32m--> <a href='file:///c%3A/Users/priya/AppData/Local/Programs/Python/Python310/lib/site-packages/pandas/core/internals/managers.py?line=483'>484</a>\u001b[0m \u001b[39m@property\u001b[39m\n\u001b[0;32m    <a href='file:///c%3A/Users/priya/AppData/Local/Programs/Python/Python310/lib/site-packages/pandas/core/internals/managers.py?line=484'>485</a>\u001b[0m \u001b[39mdef\u001b[39;00m \u001b[39mis_view\u001b[39m(\u001b[39mself\u001b[39m) \u001b[39m-\u001b[39m\u001b[39m>\u001b[39m \u001b[39mbool\u001b[39m:\n\u001b[0;32m    <a href='file:///c%3A/Users/priya/AppData/Local/Programs/Python/Python310/lib/site-packages/pandas/core/internals/managers.py?line=485'>486</a>\u001b[0m     \u001b[39m\"\"\"return a boolean if we are a single block and are a view\"\"\"\u001b[39;00m\n\u001b[0;32m    <a href='file:///c%3A/Users/priya/AppData/Local/Programs/Python/Python310/lib/site-packages/pandas/core/internals/managers.py?line=486'>487</a>\u001b[0m     \u001b[39mif\u001b[39;00m \u001b[39mlen\u001b[39m(\u001b[39mself\u001b[39m\u001b[39m.\u001b[39mblocks) \u001b[39m==\u001b[39m \u001b[39m1\u001b[39m:\n",
      "\u001b[1;31mKeyboardInterrupt\u001b[0m: "
     ]
    }
   ],
   "source": [
    "for i in range(len(realdata_clean_norm)):\n",
    "    x = compare(realdata_clean_norm,syndata_clean_norm, i, test_weights)\n",
    "    big_comp.append(x)"
   ]
  },
  {
   "cell_type": "code",
   "execution_count": null,
   "metadata": {},
   "outputs": [],
   "source": [
    "ival = []\n",
    "for i in range(5000):\n",
    "    ival.append(i)"
   ]
  },
  {
   "cell_type": "code",
   "execution_count": null,
   "metadata": {},
   "outputs": [
    {
     "data": {
      "text/plain": [
       "Age                                   19.0\n",
       "Number of sexual partners              2.0\n",
       "First sexual intercourse              18.0\n",
       "Num of pregnancies                     4.0\n",
       "Smokes                                 0.0\n",
       "Smokes (years)                         0.0\n",
       "Smokes (packs/year)                    0.0\n",
       "Hormonal Contraceptives                0.0\n",
       "Hormonal Contraceptives (years)        2.0\n",
       "IUD                                    2.0\n",
       "IUD (years)                            0.0\n",
       "STDs                                   0.0\n",
       "STDs (number)                          0.0\n",
       "STDs:condylomatosis                    0.0\n",
       "STDs:cervical condylomatosis           0.0\n",
       "STDs:vaginal condylomatosis            0.0\n",
       "STDs:vulvo-perineal condylomatosis     0.0\n",
       "STDs:syphilis                          0.0\n",
       "STDs:pelvic inflammatory disease       0.0\n",
       "STDs:genital herpes                   -1.0\n",
       "STDs:molluscum contagiosum            -1.0\n",
       "STDs:AIDS                             -1.0\n",
       "STDs:HIV                              -1.0\n",
       "STDs:Hepatitis B                       0.0\n",
       "STDs:HPV                               0.0\n",
       "STDs: Number of diagnosis             -1.0\n",
       "STDs: Time since first diagnosis      -1.0\n",
       "STDs: Time since last diagnosis       -1.0\n",
       "Dx:Cancer                              0.0\n",
       "Dx:CIN                                 0.0\n",
       "Dx:HPV                                 0.0\n",
       "Dx                                     0.0\n",
       "Hinselmann                             0.0\n",
       "Schiller                               0.0\n",
       "Citology                               0.0\n",
       "Biopsy                                 0.0\n",
       "Name: 509, dtype: float64"
      ]
     },
     "execution_count": 17,
     "metadata": {},
     "output_type": "execute_result"
    }
   ],
   "source": [
    "min(compare_arr)\n",
    "compare_arr.index(18.114858335405216)\n",
    "syndata_clean.iloc[509, :]"
   ]
  },
  {
   "cell_type": "code",
   "execution_count": null,
   "metadata": {},
   "outputs": [
    {
     "data": {
      "text/plain": [
       "'\\n#How to access the number from a specific column and row\\nsyndata_clean_norm.loc[0,:\"Age\"][0]\\n#Goes through each column iteritvely of the synthetic data row that\\'s closest with the first row of the real data\\nfor i in range(36):\\n    print(\"Fake: \" + str(syndata.iloc[509][i]) + \". Real: \" + str(realdata.iloc[0][i]))\\n#How to find the minimium of the compare_arr and figure out the location \\nmin(compare_arr)\\ncompare_arr.index(18.114858335405216)\\n'"
      ]
     },
     "execution_count": 18,
     "metadata": {},
     "output_type": "execute_result"
    }
   ],
   "source": [
    "\"\"\"\n",
    "#How to access the number from a specific column and row\n",
    "syndata_clean_norm.loc[0,:\"Age\"][0]\n",
    "#Goes through each column iteritvely of the synthetic data row that's closest with the first row of the real data\n",
    "for i in range(36):\n",
    "    print(\"Fake: \" + str(syndata.iloc[509][i]) + \". Real: \" + str(realdata.iloc[0][i]))\n",
    "#How to find the minimium of the compare_arr and figure out the location \n",
    "min(compare_arr)\n",
    "compare_arr.index(18.114858335405216)\n",
    "\"\"\""
   ]
  },
  {
   "cell_type": "code",
   "execution_count": null,
   "metadata": {},
   "outputs": [],
   "source": [
    "score = 0\n",
    "for i in range(len(syndata_clean_norm.columns)):\n",
    "    #print(realdata_clean_naorm.loc[0,:])\n",
    "    score = score + ((realdata_clean_norm.loc[0,:][i] - syndata_clean_norm.loc[0,:][i])) #* weights[i])\n",
    "\n",
    "sy = [12,2,12,3,0,0,0,0,0,2,0,0,0,0,0,0,0,0,0,0,0,0,0,0,0,0,0,0,0,0,0,0,0,0,0,0]\n",
    "re = [18,4.0,15.0,1.0,0.0,0.0,0.0,0.0,0.0,0.0,0.0,0.0,0.0,0.0,0.0,0.0,0.0,0.0,0.0,0.0,0.0,0.0,0.0,0.0,0.0,0,-1,-1,0,0,0,0,0,0,0,0]\n",
    "ar = [syndata_clean_norm.loc[0,:][i] for i in range(len(syndata.columns))]\n",
    "ar2 = [realdata_clean_norm.loc[0,:][i] for i in range(len(syndata.columns))]\n",
    "\n",
    "sum = 0\n",
    "for i in range(len(sy)):\n",
    "    sum = sum + abs(ar2[i] - ar[i])\n",
    "    \n",
    "assert sum == compare_arr[0], \"Not working\""
   ]
  },
  {
   "cell_type": "markdown",
   "metadata": {},
   "source": [
    "## Ranking\n",
    "Now that we've made the comparison function, we need a function that creates a threshold that decides if the data is similar enough"
   ]
  },
  {
   "cell_type": "code",
   "execution_count": null,
   "metadata": {},
   "outputs": [],
   "source": [
    "def Average(l):\n",
    "    result = 0\n",
    "    for i in range(len(l)):\n",
    "        result = result + l[0]\n",
    "    result = result/len(l)\n",
    "    return result"
   ]
  },
  {
   "cell_type": "code",
   "execution_count": null,
   "metadata": {},
   "outputs": [
    {
     "data": {
      "text/plain": [
       "(19.036979572207443, 18.114858335405216, 25.965573953922693)"
      ]
     },
     "execution_count": 21,
     "metadata": {},
     "output_type": "execute_result"
    }
   ],
   "source": [
    "compare_arr_avg = Average(compare_arr)\n",
    "compare_arr_avg, min(compare_arr), max(compare_arr)"
   ]
  }
 ],
 "metadata": {
  "interpreter": {
   "hash": "84acd9daa1976748b0cb1aac2d1d7e831b987877e0682bbd8df981985727d27e"
  },
  "kernelspec": {
   "display_name": "Python 3.10.2 64-bit",
   "language": "python",
   "name": "python3"
  },
  "language_info": {
   "codemirror_mode": {
    "name": "ipython",
    "version": 3
   },
   "file_extension": ".py",
   "mimetype": "text/x-python",
   "name": "python",
   "nbconvert_exporter": "python",
   "pygments_lexer": "ipython3",
   "version": "3.10.2"
  },
  "orig_nbformat": 4
 },
 "nbformat": 4,
 "nbformat_minor": 2
}
