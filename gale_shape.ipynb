{
 "cells": [
  {
   "cell_type": "markdown",
   "metadata": {},
   "source": [
    "# Gale-Shapley Algorithm"
   ]
  },
  {
   "cell_type": "markdown",
   "metadata": {},
   "source": [
    "This algorithm is for matching inputs in an optimal manner. Originally, one of the main uses for it was as a matching algorithm for stable marriage prediction. \n",
    "\n",
    "This is the pseudocode used for the Gale-Shapely algorithm given two separate groups (a group of men and a group of women in this case) with each group presenting it's preference for which of the other group they prefer and then the algorithm will match them and create an optimal prediction. \n",
    "```\n",
    "algorithm stable_matching is\n",
    "    Initialize m ∈ M and w ∈ W to free\n",
    "    while ∃ free man m who has a woman w to propose to do\n",
    "        w := first woman on m's list to whom m has not yet proposed\n",
    "        if ∃ some pair (m', w) then\n",
    "            if w prefers m to m' then\n",
    "                m' becomes free\n",
    "                (m, w) become engaged\n",
    "            end if\n",
    "        else\n",
    "            (m, w) become engaged\n",
    "        end if\n",
    "    repeat\n",
    "```"
   ]
  },
  {
   "cell_type": "markdown",
   "metadata": {},
   "source": [
    "## Implementation of Gale Shapley "
   ]
  },
  {
   "cell_type": "code",
   "execution_count": 1,
   "metadata": {},
   "outputs": [],
   "source": [
    "pref_man_rank = {'Joe' : ['Melissa', 'Bianca', 'Vivian', 'Zoey'],\n",
    "\t'Bob' : ['Zoey', 'Melissa', 'Vivian', 'Bianca'],\n",
    "\t'Noah' : ['Bianca','Zoey','Melissa','Vivian'],\n",
    "\t'Steve' : ['Zoey','Vivian','Melissa','Bianca']}\n",
    "\n",
    "pref_woman_rank = {'Melissa' : ['Joe','Bob','Steve','Noah'],\n",
    "\t'Bianca' : ['Steve','Bob','Noah','Joe'],\n",
    "\t'Vivian' : ['Joe','Noah','Bob','Steve'],\n",
    "\t'Zoey' : ['Steve','Joe','Noah','Bob']}"
   ]
  },
  {
   "cell_type": "code",
   "execution_count": 2,
   "metadata": {},
   "outputs": [],
   "source": [
    "tent_matches = [] #Keep track of the tentative matchs\n",
    "free_men = [] #Inits list of free men\n",
    "for man in list(pref_man_rank.keys()):\n",
    "    free_men.append(man)"
   ]
  },
  {
   "cell_type": "code",
   "execution_count": 3,
   "metadata": {},
   "outputs": [
    {
     "name": "stdout",
     "output_type": "stream",
     "text": [
      "Dealing with: Joe\n",
      "Taken matchs: []\n",
      "Dealing with: Noah\n",
      "Taken matchs: []\n",
      "Dealing with: Bob\n",
      "Taken matchs: []\n",
      "Dealing with: Steve\n",
      "Taken matchs: [['Bob', 'Zoey']]\n",
      "Zoey has already been matched\n",
      "Dealing with: Bob\n",
      "Taken matchs: [['Steve', 'Zoey']]\n",
      "Zoey has already been matched\n",
      "Zoey is satisfied with Steve\n",
      "Taken matchs: [['Joe', 'Melissa']]\n",
      "Melissa has already been matched\n",
      "Melissa is satisfied with Joe\n",
      "Taken matchs: []\n"
     ]
    }
   ],
   "source": [
    "#Runs while there are still free men left\n",
    "while len(free_men) > 0:\n",
    "    #iterates for every man in list free_men\n",
    "\tfor man in free_men:\n",
    "\t\tprint(f\"Dealing with: {man}\")\n",
    "\t\t#Goes through all the women in the specified man's ranking\n",
    "\t\tfor woman in pref_man_rank[man]:\n",
    "    \t\t#inits taken_match\n",
    "\t\t\ttaken_match = []\n",
    "\t\t\t#print(f'matching = {matching}')\n",
    "\t\t\tfor matching in tent_matches:\n",
    "    \t\t\t\tif woman in matching:\n",
    "    \t\t\t\t\t#print(f'matching = {matching}')\n",
    "    \t\t\t\t\ttaken_match.append(matching)\t\t\t\n",
    "\t\t\tprint(f'Taken matchs: {taken_match}')\n",
    "\t\t\t\n",
    "\t\t\t#Checks if the match is not taken\n",
    "\t\t\tif taken_match == []:\n",
    "    \t\t\t#Assigns that man with a woman and removes the man from the free_man pool\n",
    "\t\t\t\ttent_matches.append([man, woman])\n",
    "\t\t\t\tfree_men.remove(man)\n",
    "\t\t\t\tbreak\n",
    "\t\t\t\n",
    "\t\t\t#If match is not taken \n",
    "\t\t\telse:\n",
    "\t\t\t\tprint(f\"{woman} has already been matched\")\n",
    "\t\t\t\t#This assigns current partner to compare to and the other potential partner\n",
    "\t\t\t\tcurrent_partner = pref_woman_rank[woman].index(taken_match[0][0])\n",
    "\t\t\t\tpotential_partner = pref_woman_rank[woman].index(man)\n",
    "\t\t\t\t#This compares the potential partner to current and sees if potential parter is worse than current or not\n",
    "\t\t\t\tif potential_partner < current_partner:\n",
    "\t\t\t\t\tfree_men.remove(man)\n",
    "\t\t\t\t\tfree_men.append(taken_match[0][0])\n",
    "\t\t\t\t\ttaken_match[0][0] = man\n",
    "\t\t\t\t\tbreak\n",
    "\n",
    "\t\t\t\telse:\n",
    "\t\t\t\t\tprint(f\"{woman} is satisfied with {taken_match[0][0]}\")\n"
   ]
  },
  {
   "cell_type": "code",
   "execution_count": 4,
   "metadata": {},
   "outputs": [
    {
     "name": "stdout",
     "output_type": "stream",
     "text": [
      "FINAL PAIRINGS : \n",
      "['Joe', 'Melissa'] ['Noah', 'Bianca'] ['Steve', 'Zoey'] ['Bob', 'Vivian']\n"
     ]
    }
   ],
   "source": [
    "print(\"FINAL PAIRINGS : \")\n",
    "print(*tent_matches) # print out the final list of matchings"
   ]
  },
  {
   "cell_type": "markdown",
   "metadata": {},
   "source": [
    "## Another Implementation"
   ]
  },
  {
   "cell_type": "code",
   "execution_count": null,
   "metadata": {},
   "outputs": [],
   "source": [
    "suitor_prefs = {'A': ['D', 'E', 'F'],\n",
    "                'B': ['D', 'F', 'E'],\n",
    "                 'C': ['F', 'D', 'E']}\n",
    "reviewer_prefs = {'D': ['B', 'C', 'A'],\n",
    "                    'E': ['A', 'C', 'B'],\n",
    "                    'F': ['C', 'B', 'A']}"
   ]
  },
  {
   "cell_type": "markdown",
   "metadata": {},
   "source": [
    "pip install matching==0.1.1"
   ]
  },
  {
   "cell_type": "code",
   "execution_count": null,
   "metadata": {},
   "outputs": [],
   "source": [
    "from matching.algorithms import galeshapley\n",
    "matching = galeshapley(suitor_prefs, reviewer_prefs)\n",
    "matching"
   ]
  }
 ],
 "metadata": {
  "interpreter": {
   "hash": "81794d4967e6c3204c66dcd87b604927b115b27c00565d3d43f05ba2f3a2cb0d"
  },
  "kernelspec": {
   "display_name": "Python 3.9.0 64-bit",
   "language": "python",
   "name": "python3"
  },
  "language_info": {
   "codemirror_mode": {
    "name": "ipython",
    "version": 3
   },
   "file_extension": ".py",
   "mimetype": "text/x-python",
   "name": "python",
   "nbconvert_exporter": "python",
   "pygments_lexer": "ipython3",
   "version": "3.9.0"
  },
  "orig_nbformat": 4
 },
 "nbformat": 4,
 "nbformat_minor": 2
}
